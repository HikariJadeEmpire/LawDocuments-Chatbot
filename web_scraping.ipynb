{
 "cells": [
  {
   "cell_type": "code",
   "execution_count": 2,
   "metadata": {},
   "outputs": [
    {
     "name": "stdout",
     "output_type": "stream",
     "text": [
      "Collecting bs4\n",
      "  Downloading bs4-0.0.2-py2.py3-none-any.whl (1.2 kB)\n",
      "Requirement already satisfied: beautifulsoup4 in /Users/hikarii/anaconda3/lib/python3.10/site-packages (from bs4) (4.11.1)\n",
      "Requirement already satisfied: soupsieve>1.2 in /Users/hikarii/anaconda3/lib/python3.10/site-packages (from beautifulsoup4->bs4) (2.3.2.post1)\n",
      "Installing collected packages: bs4\n",
      "Successfully installed bs4-0.0.2\n",
      "\u001b[31mERROR: Could not find a version that satisfies the requirement urllib (from versions: none)\u001b[0m\u001b[31m\n",
      "\u001b[0m\u001b[31mERROR: No matching distribution found for urllib\u001b[0m\u001b[31m\n",
      "\u001b[0m"
     ]
    }
   ],
   "source": [
    "!pip install bs4"
   ]
  },
  {
   "cell_type": "markdown",
   "metadata": {},
   "source": [
    "## Test"
   ]
  },
  {
   "cell_type": "code",
   "execution_count": 1,
   "metadata": {},
   "outputs": [
    {
     "data": {
      "text/plain": [
       "'Thairath OnlineThairath PlusThairath SportThairath TVMIRRORSearchเข้าสู่ระบบสมัครสมาชิกInvestmentPersonal FinanceEconomicsBusiness & MarketingTech & InnovationSustainabilityExperts PoolVideosPR NewsInvestmentPersonal FinanceEconomicsBusiness & MarketingTech & InnovationSustainabilityExperts PoolVideosPR NewsThairath OnlineThairath PlusThairath SportThairath TVMIRRORFollow Us InvestmentGoldInvestmentGoldAuthorกองบรรณาธิการTag#ราคาทอง#ราคาทองคำแท่ง#ทอง#ทองคำแท่ง#ทองคำ#ซื้อทอง#ไทยรัฐฉบับพิมพ์#ข่าววันนี้คนไทยแห่ซื้อทอง สวนทางราคาพุ่งDate Time:  22 มี.ค. 2567 06:17 น.Latestราคาทองวันนี้ล่าสุด 21 มีนาคม 2567 ราคาปรับเพิ่มขึ้น 700 บาท ราคาทองคำแท่ง บาทละ 37,550 บาทนายธนรัชต์ พสวงศ์ ประธานเจ้าหน้าที่บริหาร ฮั่วเซ่งเฮง ผู้ค้าทองรายใหญ่ของไทย กล่าวถึงราคาทองคำที่ปรับตัวขึ้นอย่างร้อนแรง เดินหน้าทุบสถิติสูงสุดเป็นประวัติการณ์ (All-Time High) อย่างต่อเนื่องว่า ปีนี้ถือว่าเป็นปีที่ดีของราคาทองคำ ซึ่งราคาทองคำในตลาด spot ได้ปรับตัวขึ้นต่อเนื่องนับตั้งแต่ต้นปีไปแล้วกว่า 7.06% ล่าสุดราคาทองคำ spot ได้ขึ้นไปสู่ระดับสูงสุดใหม่เป็นประวัติการณ์ (All-Time High) ที่ 2,222 ดอลลาร์ แต่ราคาทองคำแท่งในประเทศกลับร้อนแรงยิ่งกว่า มีการปรับตัวขึ้นจากต้นปีกว่า 11.5% และขึ้นสู่ระดับสูงสุดใหม่เป็นประวัติการณ์ไปแล้ว 16 ครั้งในปีนี้ ใช้เวลาเพียง 3 เดือน ล่าสุดทองคำแท่งระดับสูงสุดอยู่ที่ 37,600 บาท ด้วยเงินบาทที่อ่อนค่าลง หนุนให้ราคาทองคำแท่งในประเทศราคาสูงขึ้นไปอีกสาเหตุหลักที่ทำให้ราคาทองคำดีดตัวขึ้นแรงอีกครั้งเมื่อคืนวันที่ 20 มี.ค. (ตามเวลาในประเทศไทย) ที่ผ่านมา คือแนวโน้มดอกเบี้ยของสหรัฐฯที่จะลดลงในปีนี้ หลังสัญญานจากธนาคารกลางสหรัฐฯ (เฟด) ส่งสัญญาณอาจปรับลดดอกเบี้ย 3 ครั้งในปีนี้ โดยการคาดการณ์ดอกเบี้ยนโยบาย (Dot Plot) เฟดยังยืนยันปรับลดดอกเบี้ย 3 ครั้งปีนี้ โดยปรับลดครั้งละ 0.25% รวม 0.75% ไม่เปลี่ยนแปลง จากเดิมที่ส่งสัญญาณปรับลด 3 ครั้งในการประชุมเดือน ธ.ค.2566“ตลาดทองคำในประเทศยังเป็นที่น่าสนใจนับตั้งแต่ต้นปีที่ผ่านมา เพราะได้รับแรงหนุนมาตลอดจากปัจจัยต่างประเทศ ทั้งแนวโน้มดอกเบี้ยที่จะลดลงของเฟด การเข้าซื้อทองคำของธนาคารกลางประเทศเศรษฐกิจ สำคัญของโลก ฯลฯ แม้ว่าราคาทองคำแท่งจะปรับตัวขึ้นต่อเนื่อง เหมือนเช่นราคาทองคำ spot ทำให้ราคาทองคำแท่งในประเทศดูเหมือนราคาแพง แต่กลับกระตุ้นให้มีการซื้อขายต่อเนื่องแม้ราคาสูง โดยเป็นการเข้าซื้อทองคำมากกว่าขายออก”.อ่าน “คอลัมน์หนังสือพิมพ์ไทยรัฐ” ทั้งหมดที่นี่Authorกองบรรณาธิการหนังสือพิมพ์ไทยรัฐInvestmentStocksFundGoldOilPersonal FinanceBanking & BondInsuranceWealth ManagementBusiness & MarketingCorporatesMarketingTrendsLeadership & CultureExecutive InterviewsTech & InnovationStartupDigital TransformationDigital AssetsTech CompaniesSustainabilityGreen FinanceTech For SustainabilityESG StrategyEconomicsThailand EconWorld EconAnalysisExperts PoolColumnistVideosPR NewsFollow usFacebookTwitterInstagramLineYoutubeThairath OnlineThairath PlusThairath SportThairath TVMirrorติดต่อโฆษณาร่วมงานกับเราติดต่อเราเกี่ยวกับไทยรัฐมูลนิธิไทยรัฐศูนย์ข้อมูลไทยรัฐFAQศูนย์ช่วยเหลือนโยบายคุ้มครองข้อมูลส่วนบุคคลไทยรัฐกรุ๊ปเงื่อนไขข้อตกลงการใช้บริการไทยรัฐโลจิสติคส์'"
      ]
     },
     "execution_count": 1,
     "metadata": {},
     "output_type": "execute_result"
    }
   ],
   "source": [
    "import requests\n",
    "from bs4 import BeautifulSoup\n",
    "\n",
    "url = \"https://www.thairath.co.th/money/investment/gold/2772477\"\n",
    "\n",
    "headers = {\n",
    "    'User-Agent': 'Mozilla/5.0 (Windows NT 6.1; WOW64) AppleWebKit/537.36 (KHTML, like Gecko) Chrome/46.0.2490.80 Safari/537.36',\n",
    "    'Content-Type': 'text/html',\n",
    "}\n",
    "\n",
    "response = requests.get(url, headers=headers)\n",
    "html = response.text\n",
    "\n",
    "soup = BeautifulSoup(html, \"html.parser\")\n",
    "ttex = soup.body.get_text().strip()\n",
    "\n",
    "ttex"
   ]
  },
  {
   "cell_type": "markdown",
   "metadata": {},
   "source": [
    "## Making .txt file on Stock news"
   ]
  },
  {
   "cell_type": "code",
   "execution_count": 13,
   "metadata": {},
   "outputs": [
    {
     "data": {
      "text/plain": [
       "34"
      ]
     },
     "execution_count": 13,
     "metadata": {},
     "output_type": "execute_result"
    }
   ],
   "source": [
    "all_stock_news = [\n",
    "    \"https://www.thairath.co.th/money/investment/gold/2772477\", \"https://www.thairath.co.th/money/economics/thailand_econ/2772480\"\n",
    "    \"https://www.thairath.co.th/money/economics/thailand_econ/2772474\", \"https://www.thairath.co.th/money/investment/stocks/2772408\",\n",
    "    \"https://www.thairath.co.th/money/investment/gold/2772558\", \"https://www.thairath.co.th/money/investment/stocks/2772304\",\n",
    "    \"https://www.thairath.co.th/money/investment/stocks/2772404\", \"https://www.thairath.co.th/money/investment/fund/2772314\",\n",
    "    \"https://www.thairath.co.th/money/investment/stocks/2772096\", \"https://www.thairath.co.th/money/investment/stocks/2771931\",\n",
    "    \"https://www.thairath.co.th/money/investment/stocks/2771720\", \"https://www.thairath.co.th/money/investment/stocks/2771664\",\n",
    "    \"https://www.thairath.co.th/money/investment/stocks/2771616\", \"https://www.thairath.co.th/money/investment/stocks/2771533\",\n",
    "    \"https://www.thairath.co.th/money/investment/stocks/2771419\", \"https://www.thairath.co.th/money/investment/stocks/2771354\",\n",
    "    \"https://www.thairath.co.th/money/investment/stocks/2770407\", \"https://www.thairath.co.th/money/investment/fund/2770802\",\n",
    "    \"https://www.thairath.co.th/money/investment/stocks/2770920\", \"https://www.thairath.co.th/money/investment/gold/2770701\",\n",
    "    \"https://www.thairath.co.th/money/investment/stocks/2770652\", \"https://www.thairath.co.th/money/investment/stocks/2770629\",\n",
    "    \"https://www.thairath.co.th/money/investment/stocks/2770404\", \"https://www.thairath.co.th/money/investment/stocks/2770459\",\n",
    "    \"https://www.thairath.co.th/money/investment/gold/2770117\", \"https://www.thairath.co.th/money/investment/stocks/2772570\",\n",
    "    \"https://www.thairath.co.th/money/economics/thailand_econ/2772583\",\n",
    "    \"https://www.thairath.co.th/money/investment/stocks/2768476#aWQ9NjQxYThiYTA4OWRkZDYwMDEyMmI2NzZhJnBvcz0yJnJ1bGU9MA==\",\n",
    "    \"https://thairath.co.th/money/business_marketing/marketing/2772471\", \"https://www.thairath.co.th/money/economics/thailand_econ/2772469\",\n",
    "    \"https://www.thairath.co.th/money/economics/thailand_econ/2768666#aWQ9NjQ3MDdhMjk4NDZhYmM4MDI0NDM2OTYxJnBvcz0wJnJ1bGU9MA==\",\n",
    "    \"https://www.thairath.co.th/money/economics/thailand_econ/2772390\", \"https://www.thairath.co.th/money/tech_innovation/digital_assets/2772339\",\n",
    "    \"https://www.thairath.co.th/money/economics/thailand_econ/2772340\", \"https://www.thairath.co.th/money/economics/thailand_econ/2772271\",\n",
    "    \"https://www.thairath.co.th/money/investment/stocks/2772160\"\n",
    "                  ]\n",
    "\n",
    "len(all_stock_news)"
   ]
  },
  {
   "cell_type": "code",
   "execution_count": 6,
   "metadata": {},
   "outputs": [],
   "source": [
    "# Gathering all the news together\n",
    "\n",
    "def make_txt(filename, list_of_page):\n",
    "    with open(filename, mode=\"w+\") as f:\n",
    "        for urls in list_of_page:\n",
    "            headers = {\n",
    "                'User-Agent': 'Mozilla/5.0 (Windows NT 6.1; WOW64) AppleWebKit/537.36 (KHTML, like Gecko) Chrome/46.0.2490.80 Safari/537.36',\n",
    "                'Content-Type': 'text/html',\n",
    "            }\n",
    "\n",
    "            response = requests.get(urls, headers=headers)\n",
    "            html = response.text\n",
    "\n",
    "            soup = BeautifulSoup(html, \"html.parser\")\n",
    "            ttex = soup.body.get_text().strip()\n",
    "\n",
    "            ttex\n",
    "            f.writelines(ttex)\n",
    "            f.writelines(\"\\n==========\\n\")"
   ]
  },
  {
   "cell_type": "code",
   "execution_count": 7,
   "metadata": {},
   "outputs": [],
   "source": [
    "make_txt(\"stock_news.txt\", all_stock_news)"
   ]
  },
  {
   "cell_type": "markdown",
   "metadata": {},
   "source": [
    "## Making .txt file on General news"
   ]
  },
  {
   "cell_type": "code",
   "execution_count": 14,
   "metadata": {},
   "outputs": [
    {
     "data": {
      "text/plain": [
       "34"
      ]
     },
     "execution_count": 14,
     "metadata": {},
     "output_type": "execute_result"
    }
   ],
   "source": [
    "all_general_news = [\n",
    "    \"https://www.thairath.co.th/news/society/2772557\", \"https://www.thairath.co.th/news/foreign/2772552\",\n",
    "    \"https://www.thairath.co.th/news/foreign/2772547#aWQ9NjI2NzczNmExNGY1MTkwMDEyMzRkYWRmJnBvcz00JnJ1bGU9NA==\",\n",
    "    \"https://www.thairath.co.th/news/politic/2772566#aWQ9NjI2NzczNmExNGY1MTkwMDEyMzRkYWRmJnBvcz0yJnJ1bGU9Mg==\",\n",
    "    \"https://www.thairath.co.th/futureperfect/articles/2772539\", \"https://www.thairath.co.th/news/society/2772554\",\n",
    "    \"https://www.thairath.co.th/news/society/2772544\", \"https://www.thairath.co.th/news/foreign/2772523\",\n",
    "    \"https://www.thairath.co.th/news/foreign/2772555\", \"https://www.thairath.co.th/futureperfect/articles/2772407\",\n",
    "    \"https://www.thairath.co.th/news/society/2772434\", \"https://www.thairath.co.th/news/society/2772361\",\n",
    "    \"https://www.thairath.co.th/news/society/2772334\", \"https://www.thairath.co.th/news/society/2772378\",\n",
    "    \"https://www.thairath.co.th/news/society/2772456\", \"https://www.thairath.co.th/news/politic/2772498\",\n",
    "    \"https://www.thairath.co.th/news/politic/2772459\", \"https://www.thairath.co.th/news/politic/2772509\",\n",
    "    \"https://www.thairath.co.th/scoop/theissue/2772438\",\n",
    "    \"https://www.thairath.co.th/scoop/theissue/2770860#aWQ9NjIzOTgwYTY1MjZkNDAwMDEyNzRmYWUzJnBvcz0wJnJ1bGU9MA==\",\n",
    "    \"https://www.thairath.co.th/scoop/theissue/2770862#aWQ9NjIzOTgwYTY1MjZkNDAwMDEyNzRmYWUzJnBvcz0xJnJ1bGU9MA==\",\n",
    "    \"https://www.thairath.co.th/scoop/theissue/2771493#aWQ9NjIzOTgwYTY1MjZkNDAwMDEyNzRmYWUzJnBvcz0wJnJ1bGU9MA==\",\n",
    "    \"https://www.thairath.co.th/money/personal_finance/wealth_management/2772375\",\n",
    "    \"https://www.thairath.co.th/futureperfect/articles/2772300\", \"https://www.thairath.co.th/futureperfect/articles/2772159\",\n",
    "    \"https://plus.thairath.co.th/topic/naturematter/104231\", \"https://plus.thairath.co.th/topic/naturematter/104250\",\n",
    "    \"https://www.thairath.co.th/news/politic/2737565\", \"https://www.thairath.co.th/lifestyle/woman/2744426\",\n",
    "    \"https://www.thairath.co.th/scoop/theissue/2770304#aWQ9NjIzOTgwYTY1MjZkNDAwMDEyNzRmYWUzJnBvcz0xJnJ1bGU9MA==\",\n",
    "    \"https://www.thairath.co.th/news/tech/2765228\", \"https://www.thairath.co.th/news/tech/2764935\",\n",
    "    \"https://www.thairath.co.th/news/society/2772549\", \"https://www.thairath.co.th/news/politic/2755214\",\n",
    "    \"https://www.thairath.co.th/money/economics/thailand_econ/2772185\", \"https://www.thairath.co.th/money/economics/thailand_econ/2772187\"\n",
    "]\n",
    "\n",
    "len(all_general_news)"
   ]
  },
  {
   "cell_type": "code",
   "execution_count": 11,
   "metadata": {},
   "outputs": [],
   "source": [
    "make_txt(\"general_news.txt\", all_general_news)"
   ]
  }
 ],
 "metadata": {
  "kernelspec": {
   "display_name": "Python 3",
   "language": "python",
   "name": "python3"
  },
  "language_info": {
   "codemirror_mode": {
    "name": "ipython",
    "version": 3
   },
   "file_extension": ".py",
   "mimetype": "text/x-python",
   "name": "python",
   "nbconvert_exporter": "python",
   "pygments_lexer": "ipython3",
   "version": "3.10.13"
  }
 },
 "nbformat": 4,
 "nbformat_minor": 2
}

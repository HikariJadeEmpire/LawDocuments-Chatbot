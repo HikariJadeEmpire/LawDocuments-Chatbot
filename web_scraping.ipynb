{
 "cells": [
  {
   "cell_type": "code",
   "execution_count": 1,
   "metadata": {},
   "outputs": [],
   "source": [
    "# !pip install bs4"
   ]
  },
  {
   "cell_type": "markdown",
   "metadata": {},
   "source": [
    "## Test"
   ]
  },
  {
   "cell_type": "code",
   "execution_count": 13,
   "metadata": {},
   "outputs": [
    {
     "data": {
      "text/plain": [
       "'Thairath OnlineThairath PlusThairath SportThairath TVMIRRORSearchเข้าสู่ระบบสมัครสมาชิกInvestmentPersonal FinanceEconomicsBusiness & MarketingTech & InnovationSustainabilityExperts PoolVideosPR NewsInvestmentPersonal FinanceEconomicsBusiness & MarketingTech & InnovationSustainabilityExperts PoolVideosPR NewsThairath OnlineThairath PlusThairath SportThairath TVMIRRORFollow Us EconomicsThailand EconEconomicsThailand EconAuthorกองบรรณาธิการTag#เศรษฐกิจไทย#ปัญหาหนี้#เครดิตบูโร#หนี้เรื้อรัง#หนี้ครัวเรือน“หนี้ครัวเรือน”พุ่ง! กว่า16 ล้านล้าน\\xa059%เป็นสินเชื่อไม่ก่อรายได้\\xa0มาตรการแก้หนี้เรื้อรังสาง 6แสนรายDate Time:  22 มี.ค. 2567 10:57 น.VideoMoreNRF ผลิตอาหารเปลี่ยนโลก เปิดโรงงาน Plantbaseใหญ่สุดในอาเซียน กับ แดน ปฐมวาณิชย์ CEO NRF | On The Rise | Thairath Money“Summary“แก้หนี้คนไทยไม่ง่าย!\\xa0“หนี้ครัวเรือน” พุ่ง! กว่า 16 ล้านล้าน\\xa059% เป็นสินเชื่อ ไม่ก่อรายได้ ขณะ NPL สิ้นปี 2566 แตะ 1.05 ล้านล้าน คาด มาตรการแก้หนี้เรื้อรัง ดีเดย์ 1 เมษายน สางมูลหนี้ได้ 1.2-1.8 หมื่นล้าน จาก 6 แสนบัญชี ทั่วประเทศ Latestหวั่นหลอกขายทองปลอม เตือนผู้บริโภคตรวจสอบที่มาเศรษฐกิจไทยจะไปต่ออย่างไร? เพราะเวลานี้ ไม่ใช่แค่ข้อมูลบ่งชี้ ว่า ภาคการผลิตของไทย อ่อนแอน่าห่วง ซึ่งสะท้อนออกมาจาก การเติบโตของภาคส่งออกไทย ยังมีความไม่แน่นอน เนื่องจากไม่สามารถได้รับผลประโยชน์จากภาคการผลิตของโลกที่กำลังทยอยฟื้นตัวในปัจจุบัน\\xa0เจาะปัจจัยถ่วงภายในประเทศ วิจัยกรุงศรี ระบุว่า แม้วันที่ 1 เมษายน นี้แล้ว ที่ธนาคารแห่งประเทศไทย (ธปท.) จะเปิดมาตรการแก้หนี้ ให้ความช่วยเหลือลูกหนี้ที่เข้าข่ายเป็นหนี้เรื้อรัง (Persistent Debt: PD) ที่เป็นกลุ่มเปราะบางจะได้รับความช่วยเหลือให้ปิดจบหนี้ได้เร็วขึ้นและลดภาระดอกเบี้ย\\xa0โดยลูกหนี้ที่เข้าข่ายเรื้อรัง คือ ลูกหนี้สินเชื่อส่วนบุคคลภายใต้การกำกับ ประเภทวงเงินหมุนเวียนที่ไม่เป็น NPL และชำระดอกเบี้ยรวมมากกว่าเงินต้นที่ชำระมาทั้งหมดเป็นระยะเวลานาน ซึ่งแบ่งได้เป็น 2 กลุ่ม คือลูกหนี้ที่เริ่มมีปัญหาหนี้เรื้อรัง (general PD) คือ ลูกหนี้ที่จ่ายดอกเบี้ยรวมมากกว่าเงินต้นรวม มาแล้ว 3 ปี แต่ไม่ถึง 5 ปี\\xa0ลูกหนี้ที่เป็นหนี้เรื้อรัง (severe PD) คือ ลูกหนี้ที่จ่ายดอกเบี้ยรวมมากกว่าเงินต้นรวม มาแล้ว 5 ปี และมีรายได้ต่อเดือนน้อยกว่า 20,000 บาท สำหรับลูกหนี้สถาบันการเงินและบริษัทในกลุ่มธุรกิจทางการเงิน หรือน้อยกว่า 10,000 บาท สำหรับลูกหนี้นอนแบงก์ทั้งนี้ เบื้องต้น ธปท.ประเมินมีลูกหนี้เข้าข่ายเรื้อรังอยู่ประมาณ 6 แสนบัญชี เฉลี่ยมูลหนี้บัญชีละ 10,000-20,000 บาท จะมีมูลหนี้ที่เข้ามาตรการดังกล่าวประมาณ 12,000-18,000 ล้านบาท\\xa0ขณะที่การแก้ไขหนี้นอกระบบทั่วประเทศ กระทรวงมหาดไทยรายงานข้อมูลล่าสุดกลางเดือนมีนาคม มีลูกหนี้เข้าสู่กระบวนการไกล่เกลี่ยหนี้แล้ว 33,627 ราย สามารถไกล่เกลี่ยสำเร็จ 21,978 ราย มูลหนี้ลดลง 899 ล้านบาท\\xa0วิจัยกรุงศรี วิเคราะห์ต่อว่า แม้มีความคืบหน้าและความพยายามในการแก้ปัญหาหนี้ แต่หนี้ครัวเรือนโดยรวมทั้งประเทศยังอยู่ในระดับสูงกว่า 16 ล้านล้านบาท หรือ 90.9% ของ GDP และในหนี้ครัวเรือนมีสัดส่วนถึง 59% เป็นสินเชื่อ Non-Productive (อาทิ สินเชื่อรถยนต์, สินเชื่อส่วนบุคคล, สินเชื่อเพื่อการเกษตร, บัตรเครดิต) ซึ่งเป็นสินเชื่อที่ไม่ก่อให้เกิดรายได้ในอนาคต\\xa0สำหรับข้อมูลจากเครดิตบูโรชี้ว่า NPL ของหนี้ครัวเรือน ณ สิ้นปี 2566 อยู่ที่ 1.05 ล้านล้านบาท และเป็นหนี้ค้างชำระไม่เกิน 90 วัน (Special Mention: SM) อีก 0.6 แสนล้านบาท\\xa0ในระยะต่อไปการแก้ปัญหาหนี้ครัวเรือนจำเป็นต้องใช้เวลาและอาจมีมาตรการด้านอื่นๆ เพิ่มเติม โดยเฉพาะมาตรการที่จะช่วยสร้างเสริมรายได้ให้แก่ลูกหนี้เพื่อให้มีความสามารถในการชำระหนี้ได้เพิ่มมากขึ้นที่มา :\\xa0วิจัยกรุงศรี\\xa0Authorกองบรรณาธิการกองบรรณาธิการไทยรัฐออนไลน์InvestmentStocksFundGoldOilPersonal FinanceBanking & BondInsuranceWealth ManagementBusiness & MarketingCorporatesMarketingTrendsLeadership & CultureExecutive InterviewsTech & InnovationStartupDigital TransformationDigital AssetsTech CompaniesSustainabilityGreen FinanceTech For SustainabilityESG StrategyEconomicsThailand EconWorld EconAnalysisExperts PoolColumnistVideosPR NewsFollow usFacebookTwitterInstagramLineYoutubeThairath OnlineThairath PlusThairath SportThairath TVMirrorติดต่อโฆษณาร่วมงานกับเราติดต่อเราเกี่ยวกับไทยรัฐมูลนิธิไทยรัฐศูนย์ข้อมูลไทยรัฐFAQศูนย์ช่วยเหลือนโยบายคุ้มครองข้อมูลส่วนบุคคลไทยรัฐกรุ๊ปเงื่อนไขข้อตกลงการใช้บริการไทยรัฐโลจิสติคส์'"
      ]
     },
     "execution_count": 13,
     "metadata": {},
     "output_type": "execute_result"
    }
   ],
   "source": [
    "import requests\n",
    "from bs4 import BeautifulSoup\n",
    "\n",
    "url = \"https://www.thairath.co.th/money/economics/thailand_econ/2772583\"\n",
    "\n",
    "headers = {\n",
    "    'User-Agent': 'Mozilla/5.0 (Windows NT 6.1; WOW64) AppleWebKit/537.36 (KHTML, like Gecko) Chrome/46.0.2490.80 Safari/537.36',\n",
    "    'Content-Type': 'text/html',\n",
    "}\n",
    "\n",
    "response = requests.get(url, headers=headers)\n",
    "html = response.text\n",
    "\n",
    "soup = BeautifulSoup(html, \"html.parser\")\n",
    "ttex = soup.body.get_text().strip()\n",
    "\n",
    "ttex"
   ]
  },
  {
   "cell_type": "markdown",
   "metadata": {},
   "source": [
    "## Making .txt file on Stock news"
   ]
  },
  {
   "cell_type": "code",
   "execution_count": 14,
   "metadata": {},
   "outputs": [
    {
     "data": {
      "text/plain": [
       "33"
      ]
     },
     "execution_count": 14,
     "metadata": {},
     "output_type": "execute_result"
    }
   ],
   "source": [
    "all_stock_news = [\n",
    "    \"https://www.thairath.co.th/money/investment/gold/2772477\", \"https://www.thairath.co.th/money/economics/thailand_econ/2772480\"\n",
    "    \"https://www.thairath.co.th/money/economics/thailand_econ/2772474\", \"https://www.thairath.co.th/money/investment/stocks/2772408\",\n",
    "    \"https://www.thairath.co.th/money/investment/gold/2772558\", \"https://www.thairath.co.th/money/investment/stocks/2772304\",\n",
    "    \"https://www.thairath.co.th/money/investment/stocks/2772404\", \"https://www.thairath.co.th/money/investment/fund/2772314\",\n",
    "    \"https://www.thairath.co.th/money/investment/stocks/2772096\", \"https://www.thairath.co.th/money/investment/stocks/2771931\",\n",
    "    \"https://www.thairath.co.th/money/investment/stocks/2771720\", \"https://www.thairath.co.th/money/investment/stocks/2771664\",\n",
    "    \"https://www.thairath.co.th/money/investment/stocks/2771616\", \"https://www.thairath.co.th/money/investment/stocks/2771533\",\n",
    "    \"https://www.thairath.co.th/money/investment/stocks/2771419\", \"https://www.thairath.co.th/money/investment/stocks/2771354\",\n",
    "    \"https://www.thairath.co.th/money/investment/stocks/2770407\", \"https://www.thairath.co.th/money/investment/fund/2770802\",\n",
    "    \"https://www.thairath.co.th/money/investment/stocks/2770920\", \"https://www.thairath.co.th/money/investment/gold/2770701\",\n",
    "    \"https://www.thairath.co.th/money/investment/stocks/2770652\", \"https://www.thairath.co.th/money/investment/stocks/2770629\",\n",
    "    \"https://www.thairath.co.th/money/investment/stocks/2770404\", \"https://www.thairath.co.th/money/investment/stocks/2770459\",\n",
    "    \"https://www.thairath.co.th/money/investment/gold/2770117\", \"https://www.thairath.co.th/money/investment/stocks/2772570\",\n",
    "    \"https://www.thairath.co.th/money/economics/thailand_econ/2772583\",\n",
    "    \"https://www.thairath.co.th/money/economics/thailand_econ/2772469\", \"https://www.thairath.co.th/money/investment/stocks/2772160\",\n",
    "    \"https://www.thairath.co.th/money/economics/thailand_econ/2772390\", \"https://www.thairath.co.th/money/tech_innovation/digital_assets/2772339\",\n",
    "    \"https://www.thairath.co.th/money/economics/thailand_econ/2772340\", \"https://www.thairath.co.th/money/economics/thailand_econ/2772271\",\n",
    "    \"https://www.thairath.co.th/money/economics/thailand_econ/2768666#aWQ9NjQ3MDdhMjk4NDZhYmM4MDI0NDM2OTYxJnBvcz0wJnJ1bGU9MA==\",\n",
    "                  ]\n",
    "\n",
    "len(all_stock_news)"
   ]
  },
  {
   "cell_type": "code",
   "execution_count": 9,
   "metadata": {},
   "outputs": [],
   "source": [
    "# Gathering all the news together\n",
    "\n",
    "def make_txt(filename, list_of_page):\n",
    "    with open(filename, mode=\"w+\") as f:\n",
    "        for urls in list_of_page:\n",
    "            headers = {\n",
    "                'User-Agent': 'Mozilla/5.0 (Windows NT 6.1; WOW64) AppleWebKit/537.36 (KHTML, like Gecko) Chrome/46.0.2490.80 Safari/537.36',\n",
    "                'Content-Type': 'text/html',\n",
    "            }\n",
    "\n",
    "            response = requests.get(urls, headers=headers)\n",
    "            html = response.text\n",
    "\n",
    "            soup = BeautifulSoup(html, \"html.parser\")\n",
    "            ttex = soup.body.get_text().strip()\n",
    "\n",
    "            ttex\n",
    "            f.writelines(ttex)\n",
    "            f.writelines(\"\\n==========\\n\")"
   ]
  },
  {
   "cell_type": "code",
   "execution_count": 15,
   "metadata": {},
   "outputs": [],
   "source": [
    "make_txt(\"stock_news.txt\", all_stock_news)"
   ]
  },
  {
   "cell_type": "markdown",
   "metadata": {},
   "source": [
    "## Making .txt file on General news"
   ]
  },
  {
   "cell_type": "code",
   "execution_count": 6,
   "metadata": {},
   "outputs": [
    {
     "data": {
      "text/plain": [
       "38"
      ]
     },
     "execution_count": 6,
     "metadata": {},
     "output_type": "execute_result"
    }
   ],
   "source": [
    "all_general_news = [\n",
    "    \"https://www.thairath.co.th/news/society/2772557\", \"https://www.thairath.co.th/news/foreign/2772552\",\n",
    "    \"https://www.thairath.co.th/news/foreign/2772547#aWQ9NjI2NzczNmExNGY1MTkwMDEyMzRkYWRmJnBvcz00JnJ1bGU9NA==\",\n",
    "    \"https://www.thairath.co.th/news/politic/2772566#aWQ9NjI2NzczNmExNGY1MTkwMDEyMzRkYWRmJnBvcz0yJnJ1bGU9Mg==\",\n",
    "    \"https://www.thairath.co.th/futureperfect/articles/2772539\", \"https://www.thairath.co.th/news/society/2772554\",\n",
    "    \"https://www.thairath.co.th/news/society/2772544\", \"https://www.thairath.co.th/news/foreign/2772523\",\n",
    "    \"https://www.thairath.co.th/news/foreign/2772555\", \"https://www.thairath.co.th/futureperfect/articles/2772407\",\n",
    "    \"https://www.thairath.co.th/news/society/2772434\", \"https://www.thairath.co.th/news/society/2772361\",\n",
    "    \"https://www.thairath.co.th/news/society/2772334\", \"https://www.thairath.co.th/news/society/2772378\",\n",
    "    \"https://www.thairath.co.th/news/society/2772456\", \"https://www.thairath.co.th/news/politic/2772498\",\n",
    "    \"https://www.thairath.co.th/news/politic/2772459\", \"https://www.thairath.co.th/news/politic/2772509\",\n",
    "    \"https://www.thairath.co.th/scoop/theissue/2772438\",\n",
    "    \"https://www.thairath.co.th/scoop/theissue/2770860#aWQ9NjIzOTgwYTY1MjZkNDAwMDEyNzRmYWUzJnBvcz0wJnJ1bGU9MA==\",\n",
    "    \"https://www.thairath.co.th/scoop/theissue/2770862#aWQ9NjIzOTgwYTY1MjZkNDAwMDEyNzRmYWUzJnBvcz0xJnJ1bGU9MA==\",\n",
    "    \"https://www.thairath.co.th/scoop/theissue/2771493#aWQ9NjIzOTgwYTY1MjZkNDAwMDEyNzRmYWUzJnBvcz0wJnJ1bGU9MA==\",\n",
    "    \"https://www.thairath.co.th/money/personal_finance/wealth_management/2772375\",\n",
    "    \"https://www.thairath.co.th/futureperfect/articles/2772300\", \"https://www.thairath.co.th/futureperfect/articles/2772159\",\n",
    "    \"https://plus.thairath.co.th/topic/naturematter/104231\", \"https://plus.thairath.co.th/topic/naturematter/104250\",\n",
    "    \"https://www.thairath.co.th/news/politic/2737565\", \"https://www.thairath.co.th/lifestyle/woman/2744426\",\n",
    "    \"https://www.thairath.co.th/scoop/theissue/2770304#aWQ9NjIzOTgwYTY1MjZkNDAwMDEyNzRmYWUzJnBvcz0xJnJ1bGU9MA==\",\n",
    "    \"https://www.thairath.co.th/news/tech/2765228\", \"https://www.thairath.co.th/news/tech/2764935\",\n",
    "    \"https://www.thairath.co.th/news/society/2772549\", \"https://www.thairath.co.th/news/politic/2755214\",\n",
    "    \"https://www.thairath.co.th/money/economics/thailand_econ/2772185\", \"https://www.thairath.co.th/money/economics/thailand_econ/2772187\",\n",
    "    \"https://www.sanook.com/news/9291826/\", \"https://www.sanook.com/news/9289910/\"\n",
    "]\n",
    "\n",
    "len(all_general_news)"
   ]
  },
  {
   "cell_type": "code",
   "execution_count": 7,
   "metadata": {},
   "outputs": [],
   "source": [
    "make_txt(\"general_news.txt\", all_general_news)"
   ]
  }
 ],
 "metadata": {
  "kernelspec": {
   "display_name": "Python 3",
   "language": "python",
   "name": "python3"
  },
  "language_info": {
   "codemirror_mode": {
    "name": "ipython",
    "version": 3
   },
   "file_extension": ".py",
   "mimetype": "text/x-python",
   "name": "python",
   "nbconvert_exporter": "python",
   "pygments_lexer": "ipython3",
   "version": "3.10.13"
  }
 },
 "nbformat": 4,
 "nbformat_minor": 2
}

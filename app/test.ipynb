{
 "cells": [
  {
   "cell_type": "code",
   "execution_count": 4,
   "metadata": {},
   "outputs": [],
   "source": [
    "# !pip install pythainlp -U\n",
    "# !pip install -U sentence-transformers"
   ]
  },
  {
   "cell_type": "code",
   "execution_count": 1,
   "metadata": {},
   "outputs": [
    {
     "name": "stdout",
     "output_type": "stream",
     "text": [
      "PythaiNLP : 5.0.1\n",
      "Sentence Transformers : 2.3.1\n"
     ]
    }
   ],
   "source": [
    "import os\n",
    "from pathlib import Path\n",
    "import pythainlp, sentence_transformers\n",
    "\n",
    "print(f\"PythaiNLP : {pythainlp.__version__}\")\n",
    "print(f\"Sentence Transformers : {sentence_transformers.__version__}\")"
   ]
  },
  {
   "cell_type": "code",
   "execution_count": 2,
   "metadata": {},
   "outputs": [
    {
     "name": "stdout",
     "output_type": "stream",
     "text": [
      "Corpus: thai2fit_wv\n",
      "- Downloading: thai2fit_wv 0.1\n"
     ]
    },
    {
     "data": {
      "application/vnd.jupyter.widget-view+json": {
       "model_id": "d744fabbb1b34ddda3f3eb7f201f3ff8",
       "version_major": 2,
       "version_minor": 0
      },
      "text/plain": [
       "  0%|          | 0/62452646 [00:00<?, ?it/s]"
      ]
     },
     "metadata": {},
     "output_type": "display_data"
    },
    {
     "data": {
      "text/plain": [
       "'เรือ'"
      ]
     },
     "execution_count": 2,
     "metadata": {},
     "output_type": "execute_result"
    }
   ],
   "source": [
    "from pythainlp.word_vector import WordVector\n",
    "\n",
    "wv = WordVector(model_name=\"thai2fit_wv\")\n",
    "words = ['ดีไซน์เนอร์', 'พนักงานเงินเดือน', 'หมอ', 'เรือ']\n",
    "wv.doesnt_match(words)"
   ]
  },
  {
   "cell_type": "code",
   "execution_count": 1,
   "metadata": {},
   "outputs": [
    {
     "data": {
      "application/vnd.jupyter.widget-view+json": {
       "model_id": "2dbf1cc7e1cf42b0a381df0d78637858",
       "version_major": 2,
       "version_minor": 0
      },
      "text/plain": [
       "modules.json:   0%|          | 0.00/229 [00:00<?, ?B/s]"
      ]
     },
     "metadata": {},
     "output_type": "display_data"
    },
    {
     "data": {
      "application/vnd.jupyter.widget-view+json": {
       "model_id": "f38d7b5810d5448dae845310e95fae43",
       "version_major": 2,
       "version_minor": 0
      },
      "text/plain": [
       "config_sentence_transformers.json:   0%|          | 0.00/122 [00:00<?, ?B/s]"
      ]
     },
     "metadata": {},
     "output_type": "display_data"
    },
    {
     "data": {
      "application/vnd.jupyter.widget-view+json": {
       "model_id": "c374069f908a4ce1856d19cb4c19e8c6",
       "version_major": 2,
       "version_minor": 0
      },
      "text/plain": [
       "README.md:   0%|          | 0.00/4.13k [00:00<?, ?B/s]"
      ]
     },
     "metadata": {},
     "output_type": "display_data"
    },
    {
     "data": {
      "application/vnd.jupyter.widget-view+json": {
       "model_id": "da27bd7f585e42d68b4790598fcee8aa",
       "version_major": 2,
       "version_minor": 0
      },
      "text/plain": [
       "sentence_bert_config.json:   0%|          | 0.00/53.0 [00:00<?, ?B/s]"
      ]
     },
     "metadata": {},
     "output_type": "display_data"
    },
    {
     "data": {
      "application/vnd.jupyter.widget-view+json": {
       "model_id": "3fbb04c3c083438381597a53b9f46397",
       "version_major": 2,
       "version_minor": 0
      },
      "text/plain": [
       "config.json:   0%|          | 0.00/723 [00:00<?, ?B/s]"
      ]
     },
     "metadata": {},
     "output_type": "display_data"
    },
    {
     "data": {
      "application/vnd.jupyter.widget-view+json": {
       "model_id": "6bcbcf6d897d42c49958c68873bb88b9",
       "version_major": 2,
       "version_minor": 0
      },
      "text/plain": [
       "pytorch_model.bin:   0%|          | 0.00/1.11G [00:00<?, ?B/s]"
      ]
     },
     "metadata": {},
     "output_type": "display_data"
    },
    {
     "data": {
      "application/vnd.jupyter.widget-view+json": {
       "model_id": "50de5c1fcf314addb0b224ee4d27a6d2",
       "version_major": 2,
       "version_minor": 0
      },
      "text/plain": [
       "tokenizer_config.json:   0%|          | 0.00/402 [00:00<?, ?B/s]"
      ]
     },
     "metadata": {},
     "output_type": "display_data"
    },
    {
     "data": {
      "application/vnd.jupyter.widget-view+json": {
       "model_id": "40ff254911144e82ae543a321cae5f2f",
       "version_major": 2,
       "version_minor": 0
      },
      "text/plain": [
       "sentencepiece.bpe.model:   0%|          | 0.00/5.07M [00:00<?, ?B/s]"
      ]
     },
     "metadata": {},
     "output_type": "display_data"
    },
    {
     "data": {
      "application/vnd.jupyter.widget-view+json": {
       "model_id": "8af7dd206b93405a9ba1202c14ac399a",
       "version_major": 2,
       "version_minor": 0
      },
      "text/plain": [
       "tokenizer.json:   0%|          | 0.00/9.08M [00:00<?, ?B/s]"
      ]
     },
     "metadata": {},
     "output_type": "display_data"
    },
    {
     "data": {
      "application/vnd.jupyter.widget-view+json": {
       "model_id": "631dc0cb752e4109838268cadf7ac6a3",
       "version_major": 2,
       "version_minor": 0
      },
      "text/plain": [
       "special_tokens_map.json:   0%|          | 0.00/239 [00:00<?, ?B/s]"
      ]
     },
     "metadata": {},
     "output_type": "display_data"
    },
    {
     "data": {
      "application/vnd.jupyter.widget-view+json": {
       "model_id": "bdb5e0f7f9ee420a8beeb13b42070660",
       "version_major": 2,
       "version_minor": 0
      },
      "text/plain": [
       "1_Pooling/config.json:   0%|          | 0.00/190 [00:00<?, ?B/s]"
      ]
     },
     "metadata": {},
     "output_type": "display_data"
    },
    {
     "name": "stdout",
     "output_type": "stream",
     "text": [
      "[[ 0.14317979 -0.23076151 -0.0139477  ...  0.03993538  0.10085307\n",
      "  -0.19941318]\n",
      " [ 0.0399936  -0.20410606 -0.01313243 ...  0.02634661 -0.20096205\n",
      "  -0.1451545 ]]\n"
     ]
    }
   ],
   "source": [
    "from sentence_transformers import SentenceTransformer\n",
    "sentences = [\"This is an example sentence\", \"Each sentence is converted\"]\n",
    "\n",
    "model = SentenceTransformer('sentence-transformers/paraphrase-multilingual-mpnet-base-v2')\n",
    "embeddings = model.encode(sentences)\n",
    "print(embeddings)"
   ]
  },
  {
   "cell_type": "code",
   "execution_count": 3,
   "metadata": {},
   "outputs": [
    {
     "name": "stdout",
     "output_type": "stream",
     "text": [
      "[[-0.03763687 -0.28697896 -0.01310425 ...  0.08947691 -0.01551844\n",
      "  -0.06878129]\n",
      " [ 0.09034583  0.16859867 -0.02084779 ...  0.07426576  0.01026654\n",
      "  -0.04596039]]\n"
     ]
    }
   ],
   "source": [
    "sentences = [\"ทดสอบภาษาไทย\", \"ดีจริงหรือแค่หลอก แค่มาหยอกไปวันๆ\"]\n",
    "embeddings = model.encode(sentences)\n",
    "print(embeddings)"
   ]
  },
  {
   "cell_type": "code",
   "execution_count": 8,
   "metadata": {},
   "outputs": [
    {
     "data": {
      "application/vnd.jupyter.widget-view+json": {
       "model_id": "b800cab2fca44a559fe804efefa411a2",
       "version_major": 2,
       "version_minor": 0
      },
      "text/plain": [
       "pytorch_model.bin:   0%|          | 0.00/1.11G [00:00<?, ?B/s]"
      ]
     },
     "metadata": {},
     "output_type": "display_data"
    },
    {
     "data": {
      "application/vnd.jupyter.widget-view+json": {
       "model_id": "3052752a9cce416d8ac1522e3fc8d413",
       "version_major": 2,
       "version_minor": 0
      },
      "text/plain": [
       "tokenizer_config.json:   0%|          | 0.00/713 [00:00<?, ?B/s]"
      ]
     },
     "metadata": {},
     "output_type": "display_data"
    },
    {
     "data": {
      "application/vnd.jupyter.widget-view+json": {
       "model_id": "7fcd4742061e46caad8a7b9a55f07770",
       "version_major": 2,
       "version_minor": 0
      },
      "text/plain": [
       "sentencepiece.bpe.model:   0%|          | 0.00/5.26M [00:00<?, ?B/s]"
      ]
     },
     "metadata": {},
     "output_type": "display_data"
    },
    {
     "data": {
      "application/vnd.jupyter.widget-view+json": {
       "model_id": "a2a7ef11dabb4ca0969f3b62c933376c",
       "version_major": 2,
       "version_minor": 0
      },
      "text/plain": [
       "tokenizer.json:   0%|          | 0.00/9.34M [00:00<?, ?B/s]"
      ]
     },
     "metadata": {},
     "output_type": "display_data"
    },
    {
     "data": {
      "application/vnd.jupyter.widget-view+json": {
       "model_id": "75aad879a3464ebeb02e4326f1431da7",
       "version_major": 2,
       "version_minor": 0
      },
      "text/plain": [
       "added_tokens.json:   0%|          | 0.00/13.3k [00:00<?, ?B/s]"
      ]
     },
     "metadata": {},
     "output_type": "display_data"
    },
    {
     "data": {
      "application/vnd.jupyter.widget-view+json": {
       "model_id": "8304899c69174701a330cb8c45ecaea2",
       "version_major": 2,
       "version_minor": 0
      },
      "text/plain": [
       "special_tokens_map.json:   0%|          | 0.00/305 [00:00<?, ?B/s]"
      ]
     },
     "metadata": {},
     "output_type": "display_data"
    },
    {
     "name": "stderr",
     "output_type": "stream",
     "text": [
      "Special tokens have been added in the vocabulary, make sure the associated word embeddings are fine-tuned or trained.\n"
     ]
    },
    {
     "data": {
      "application/vnd.jupyter.widget-view+json": {
       "model_id": "f4bb5494642a4fc0b54aa7d3196601d0",
       "version_major": 2,
       "version_minor": 0
      },
      "text/plain": [
       "1_Pooling/config.json:   0%|          | 0.00/270 [00:00<?, ?B/s]"
      ]
     },
     "metadata": {},
     "output_type": "display_data"
    },
    {
     "name": "stdout",
     "output_type": "stream",
     "text": [
      "[[ 0.7059439   0.64715075 -1.3627945  ... -0.6020316  -0.6800522\n",
      "   0.05652151]\n",
      " [ 1.6544622   0.21197516 -0.71227956 ...  0.57853884 -1.4006945\n",
      "   0.46957   ]]\n"
     ]
    }
   ],
   "source": [
    "model = SentenceTransformer(\"kornwtp/simcse-model-phayathaibert\")\n",
    "sentences = [\"ทดสอบภาษาไทย\", \"ดีจริงหรือแค่หลอก แค่มาหยอกไปวันๆ\"]\n",
    "embeddings = model.encode(sentences)\n",
    "print(embeddings)"
   ]
  },
  {
   "cell_type": "code",
   "execution_count": 10,
   "metadata": {},
   "outputs": [
    {
     "name": "stdout",
     "output_type": "stream",
     "text": [
      "error\n"
     ]
    }
   ],
   "source": [
    "try :\n",
    "    raise TypeError\n",
    "except :\n",
    "    print(\"error\")"
   ]
  },
  {
   "cell_type": "markdown",
   "metadata": {},
   "source": [
    "## Test LawApp"
   ]
  },
  {
   "cell_type": "code",
   "execution_count": 8,
   "metadata": {},
   "outputs": [
    {
     "name": "stdout",
     "output_type": "stream",
     "text": [
      "b'{\"error\":\"Invalid username or password.\"}'\n",
      "401\n"
     ]
    }
   ],
   "source": [
    "## API\n",
    "\n",
    "import requests\n",
    "from dotenv import load_dotenv, find_dotenv\n",
    "\n",
    "load_dotenv(find_dotenv()) # read local .env file\n",
    "huggingface_api = os.getenv('huggingface_api')\n",
    "# huggingface_api = None\n",
    "\n",
    "url = 'https://huggingface.co/api/whoami-v2'\n",
    "headers = {'Authorization': \"Bearer {token}\".format(token=huggingface_api)}\n",
    "r = requests.get(url, headers=headers)\n",
    "\n",
    "print(r.content)\n",
    "print(r.status_code)"
   ]
  },
  {
   "cell_type": "code",
   "execution_count": 1,
   "metadata": {},
   "outputs": [
    {
     "name": "stderr",
     "output_type": "stream",
     "text": [
      "Special tokens have been added in the vocabulary, make sure the associated word embeddings are fine-tuned or trained.\n"
     ]
    },
    {
     "data": {
      "text/plain": [
       "'kornwtp/simcse-model-phayathaibert'"
      ]
     },
     "execution_count": 1,
     "metadata": {},
     "output_type": "execute_result"
    }
   ],
   "source": [
    "import embeddings\n",
    "\n",
    "m = embeddings.embeddings_model()\n",
    "m.model"
   ]
  },
  {
   "cell_type": "code",
   "execution_count": 4,
   "metadata": {},
   "outputs": [
    {
     "data": {
      "text/plain": [
       "array([[ 0.7059439 ,  0.64715075, -1.3627945 , ..., -0.6020316 ,\n",
       "        -0.6800522 ,  0.05652151],\n",
       "       [ 1.6544622 ,  0.21197516, -0.71227956, ...,  0.57853884,\n",
       "        -1.4006945 ,  0.46957   ]], dtype=float32)"
      ]
     },
     "execution_count": 4,
     "metadata": {},
     "output_type": "execute_result"
    }
   ],
   "source": [
    "test = [\"ทดสอบภาษาไทย\", \"ดีจริงหรือแค่หลอก แค่มาหยอกไปวันๆ\"]\n",
    "tm = m.to_vec(test)\n",
    "\n",
    "tm"
   ]
  },
  {
   "cell_type": "code",
   "execution_count": 12,
   "metadata": {},
   "outputs": [
    {
     "name": "stdout",
     "output_type": "stream",
     "text": [
      "Number of vectors : 2\n",
      "shape of vectors : (2, 768)\n"
     ]
    },
    {
     "data": {
      "text/plain": [
       "list"
      ]
     },
     "execution_count": 12,
     "metadata": {},
     "output_type": "execute_result"
    }
   ],
   "source": [
    "print(f\"Number of vectors : {len(tm)}\")\n",
    "print(f\"shape of vectors : {tm.shape}\")\n",
    "\n",
    "type(tm.tolist())"
   ]
  },
  {
   "cell_type": "code",
   "execution_count": 32,
   "metadata": {},
   "outputs": [
    {
     "name": "stdout",
     "output_type": "stream",
     "text": [
      ".txt\n",
      ".docx\n"
     ]
    }
   ],
   "source": [
    "ll = os.listdir(\"../docs_storage\")\n",
    "for i in ll :\n",
    "    tes = \".\"+i.split(\".\")[1]\n",
    "\n",
    "    print(tes)"
   ]
  },
  {
   "cell_type": "code",
   "execution_count": 4,
   "metadata": {},
   "outputs": [
    {
     "data": {
      "text/plain": [
       "['upload.py', '__pycache__', 'main.py', 'test.ipynb']"
      ]
     },
     "execution_count": 4,
     "metadata": {},
     "output_type": "execute_result"
    }
   ],
   "source": [
    "os.listdir(Path(\".\"))"
   ]
  },
  {
   "cell_type": "code",
   "execution_count": 8,
   "metadata": {},
   "outputs": [
    {
     "data": {
      "text/plain": [
       "PosixPath('.')"
      ]
     },
     "execution_count": 8,
     "metadata": {},
     "output_type": "execute_result"
    }
   ],
   "source": [
    "Path(\"main.py\").parent"
   ]
  },
  {
   "cell_type": "code",
   "execution_count": 8,
   "metadata": {},
   "outputs": [
    {
     "name": "stdout",
     "output_type": "stream",
     "text": [
      "digital-money-srettha\n",
      "News\n"
     ]
    },
    {
     "data": {
      "text/plain": [
       "'../db/'"
      ]
     },
     "execution_count": 8,
     "metadata": {},
     "output_type": "execute_result"
    }
   ],
   "source": [
    "main_path = Path(\"main.py\").parent\n",
    "db_path = Path(main_path,\"..\")\n",
    "\n",
    "docs_path = Path(main_path,\"..\",\"docs_storage\")\n",
    "\n",
    "for i in os.listdir(docs_path):\n",
    "    print(i.split(\".\")[0])\n",
    "    \n",
    "os.path.join(db_path,\"db/\")"
   ]
  },
  {
   "cell_type": "code",
   "execution_count": 13,
   "metadata": {},
   "outputs": [
    {
     "data": {
      "text/plain": [
       "['digital-money-srettha.txt', 'News.docx']"
      ]
     },
     "execution_count": 13,
     "metadata": {},
     "output_type": "execute_result"
    }
   ],
   "source": [
    "os.listdir(docs_path)"
   ]
  },
  {
   "cell_type": "code",
   "execution_count": 2,
   "metadata": {},
   "outputs": [
    {
     "data": {
      "text/plain": [
       "{'child_documents': ['เบียร์ เดอะวอยซ์ ถูกปลดฟ้าฝ่าจากซีรีส์ High school bully ด้านโปรดิวเซอร์ซีรีส์เผยทีมงานรับไม่ได้กับพฤติกรรม',\n",
       "  'กลายเป็นประเด็นร้อนในโลกออนไลน์เลยทีเดียว หลังนักร้องสาว เบียร์ เดอะวอยซ์ ได้ออกมาไลฟ์ชี้แจงเหตุการณ์ต่างๆ ที่เกิดขึ้นปมสัมพันธ์กับแฟนของสาวรุ่นพี่ซึ่งเรื่องราวดังกล่าวดูเหมือนจะแตกกระเพื่อมกลายเป็นมรสุมลูกใหญ่บึ้มมากๆ เพราะล่าสุด หนุ่ม กรรชัย พิธีกรคนดังที่ถูกโยงว่าเป็นคนส่ง DM ทักหา เบียร์ เดอะวอยซ์ ได้ออกมาเปิดแชทแบบเต็มๆ ผ่านรายการโหนกระแส รับว่ามีการส่ง DM ไปจริง พร้อมกับโชว์ข้อความแบยเต็มๆ',\n",
       "  'ได้ออกมาเปิดแชทแบบเต็มๆ ผ่านรายการโหนกระแส รับว่ามีการส่ง DM ไปจริง พร้อมกับโชว์ข้อความแบยเต็มๆ ว่ามีการคุยอะไรกันบ้าง ต้องบอกว่าเป็นการเคลียร์ที่ชัดเจนมากระดับ HD เลยทีเดียว มีแต่เรื่องงานล้วนๆ',\n",
       "  'ล่าสุด เบียร์ เดอะวอยซ์ ถูกมรสุมถาโถมเข้าไปอีกระลอก เพราะ บอส-นัทธพงศ์ ไมทองโปรดิวเซอร์ซีรีส์เรื่อง High school bully ได้สั่งปลด เบียร์ เดอะวอยซ์ ออกจากซีรีส์เป็นที่เรียบร้อยเซ่นประเด็นข่าวร้อน พร้อมกับได้เปิดเผยถึงสาเหตุที่มีมากกว่านั้น โดย บอวส นัทธพงศ์ ได้ไลฟ์เปิดใจผ่าน ข่าวสดบันเทิง ว่า',\n",
       "  '\"ณ ตอนนี้เราได้ปลด เบียร์ เดอะวอยซ์ จากซีรีส์เรื่อง High school bully อีพี 2 แล้ว ต้องเล่าก่อนว่ากับตัวผมเองไม่ได้มีอะไร แต่ว่ากับทีมงานและนักแสดงร่วมส่วนใหญ่เขาบอกว่า ไม่อยากร่วมงานกับน้อง รวมถึงสปอนเซอร์เขาแจ้งผมมาเลยหลังจากที่น้องไลฟ์เมื่อคืนว่า เขาอยากให้ปลดน้องจากเรื่องนี้เลย\"',\n",
       "  'ทั้งนี้ผู้สื่อข่าวได้ถามต่อว่า ก่อนหน้านี้เกิดปัญหาอะไรขึ้น? ทาง บอส นัทธพงส์ ได้บอกว่า \"ก่อนหน้านี้มีปัญหากันนิดหน่อยด้วยว่าผู้จัดการของน้องดูแรงไปนิดหนึ่ง ตั้งแต่วันบวงสรวงแล้ว ผู้จัดการของน้องพูดไม่ดีกับทีมงาน มองเหยียดๆ ทีมงาน รวมถึงตัวน้องด้วย และก็มีวันที่น้องต้องไปร้องเพลงประกอบซีรีส์ น้องไม่ทำการบ้านไปเลย ซึ่งทีมงานหลายคนยังเจอพฤติกรรมที่ไม่น่ารักของน้องด้วย',\n",
       "  'น้องไม่ทำการบ้านไปเลย ซึ่งทีมงานหลายคนยังเจอพฤติกรรมที่ไม่น่ารักของน้องด้วย รวมถึงนักแสดงที่ต้องไปร่วมร้องเพลงประกอบซีรีส์แล้วยิ่งพอมีข่าวนี้ขึ้นมา เกือบทุกคนทั้งนักแสดง และทีมงานก็บอกให้ผมปลดน้อง เพราะว่าไม่อยากร่วมงานกับคนๆ นี้ซึ่งผมก็แจ้งน้องเบียร์กับผู้จัดการไปก่อนหน้านี้แล้ว\"'],\n",
       " 'parent_documents': ['เบียร์ เดอะวอยซ์ ถูกปลดฟ้าฝ่าจากซีรีส์ High school bully ด้านโปรดิวเซอร์ซีรีส์เผยทีมงานรับไม่ได้กับพฤติกรรม\\nกลายเป็นประเด็นร้อนในโลกออนไลน์เลยทีเดียว หลังนักร้องสาว เบียร์ เดอะวอยซ์ ได้ออกมาไลฟ์ชี้แจงเหตุการณ์ต่างๆ ที่เกิดขึ้นปมสัมพันธ์กับแฟนของสาวรุ่นพี่ซึ่งเรื่องราวดังกล่าวดูเหมือนจะแตกกระเพื่อมกลายเป็นมรสุมลูกใหญ่บึ้มมากๆ เพราะล่าสุด หนุ่ม กรรชัย พิธีกรคนดังที่ถูกโยงว่าเป็นคนส่ง DM ทักหา เบียร์ เดอะวอยซ์ ได้ออกมาเปิดแชทแบบเต็มๆ ผ่านรายการโหนกระแส รับว่ามีการส่ง DM ไปจริง พร้อมกับโชว์ข้อความแบยเต็มๆ ว่ามีการคุยอะไรกันบ้าง ต้องบอกว่าเป็นการเคลียร์ที่ชัดเจนมากระดับ HD เลยทีเดียว มีแต่เรื่องงานล้วนๆ\\nล่าสุด เบียร์ เดอะวอยซ์ ถูกมรสุมถาโถมเข้าไปอีกระลอก เพราะ บอส-นัทธพงศ์ ไมทองโปรดิวเซอร์ซีรีส์เรื่อง High school bully ได้สั่งปลด เบียร์ เดอะวอยซ์ ออกจากซีรีส์เป็นที่เรียบร้อยเซ่นประเด็นข่าวร้อน พร้อมกับได้เปิดเผยถึงสาเหตุที่มีมากกว่านั้น โดย บอวส นัทธพงศ์ ได้ไลฟ์เปิดใจผ่าน ข่าวสดบันเทิง ว่า\\n\"ณ ตอนนี้เราได้ปลด เบียร์ เดอะวอยซ์ จากซีรีส์เรื่อง High school bully อีพี 2 แล้ว ต้องเล่าก่อนว่ากับตัวผมเองไม่ได้มีอะไร แต่ว่ากับทีมงานและนักแสดงร่วมส่วนใหญ่เขาบอกว่า ไม่อยากร่วมงานกับน้อง รวมถึงสปอนเซอร์เขาแจ้งผมมาเลยหลังจากที่น้องไลฟ์เมื่อคืนว่า เขาอยากให้ปลดน้องจากเรื่องนี้เลย\"\\nทั้งนี้ผู้สื่อข่าวได้ถามต่อว่า ก่อนหน้านี้เกิดปัญหาอะไรขึ้น? ทาง บอส นัทธพงส์ ได้บอกว่า \"ก่อนหน้านี้มีปัญหากันนิดหน่อยด้วยว่าผู้จัดการของน้องดูแรงไปนิดหนึ่ง ตั้งแต่วันบวงสรวงแล้ว ผู้จัดการของน้องพูดไม่ดีกับทีมงาน มองเหยียดๆ ทีมงาน รวมถึงตัวน้องด้วย และก็มีวันที่น้องต้องไปร้องเพลงประกอบซีรีส์ น้องไม่ทำการบ้านไปเลย ซึ่งทีมงานหลายคนยังเจอพฤติกรรมที่ไม่น่ารักของน้องด้วย รวมถึงนักแสดงที่ต้องไปร่วมร้องเพลงประกอบซีรีส์แล้วยิ่งพอมีข่าวนี้ขึ้นมา เกือบทุกคนทั้งนักแสดง และทีมงานก็บอกให้ผมปลดน้อง เพราะว่าไม่อยากร่วมงานกับคนๆ นี้ซึ่งผมก็แจ้งน้องเบียร์กับผู้จัดการไปก่อนหน้านี้แล้ว\"']}"
      ]
     },
     "execution_count": 2,
     "metadata": {},
     "output_type": "execute_result"
    }
   ],
   "source": [
    "import upload\n",
    "upload_docs = upload.LangChainDocLoaders(pdf_loader=\"pymupdf\")\n",
    "\n",
    "upload_docs.load_document(\"../docs_storage/News.docx\")\n"
   ]
  },
  {
   "cell_type": "code",
   "execution_count": 8,
   "metadata": {},
   "outputs": [
    {
     "data": {
      "text/plain": [
       "True"
      ]
     },
     "execution_count": 8,
     "metadata": {},
     "output_type": "execute_result"
    }
   ],
   "source": [
    "db_path = Path(Path(\"main.py\").parent,\"..\")\n",
    "\n",
    "d = os.listdir(db_path)\n",
    "os.path.exists(db_path/\"vectors_db\")"
   ]
  },
  {
   "cell_type": "code",
   "execution_count": 3,
   "metadata": {},
   "outputs": [
    {
     "name": "stdout",
     "output_type": "stream",
     "text": [
      "digital-money-srettha.txt has been added\n",
      "News.docx has been added\n"
     ]
    }
   ],
   "source": [
    "import m_vector_db\n",
    "\n",
    "db = m_vector_db.vectordb_start(huggingface_api_key=huggingface_api,\n",
    "                                embed_model_name='sentence-transformers/paraphrase-multilingual-mpnet-base-v2')\n",
    "db.add(table_name=\"all_data\")"
   ]
  },
  {
   "cell_type": "code",
   "execution_count": 5,
   "metadata": {},
   "outputs": [],
   "source": [
    "results = db.retrieve(query=\"เศรษฐาคือใคร ทำอะไร\", table_name=\"all_data\")"
   ]
  },
  {
   "cell_type": "code",
   "execution_count": 6,
   "metadata": {},
   "outputs": [
    {
     "name": "stdout",
     "output_type": "stream",
     "text": [
      "BEST RESULT : ['ทั้งนี้ผู้สื่อข่าวได้ถามต่อว่า ก่อนหน้านี้เกิดปัญหาอะไรขึ้น? ทาง บอส นัทธพงส์ ได้บอกว่า \"ก่อนหน้านี้มีปัญหากันนิดหน่อยด้วยว่าผู้จัดการของน้องดูแรงไปนิดหนึ่ง ตั้งแต่วันบวงสรวงแล้ว ผู้จัดการของน้องพูดไม่ดีกับทีมงาน มองเหยียดๆ ทีมงาน รวมถึงตัวน้องด้วย และก็มีวันที่น้องต้องไปร้องเพลงประกอบซีรีส์ น้องไม่ทำการบ้านไปเลย ซึ่งทีมงานหลายคนยังเจอพฤติกรรมที่ไม่น่ารักของน้องด้วย', 'กลายเป็นประเด็นร้อนในโลกออนไลน์เลยทีเดียว หลังนักร้องสาว เบียร์ เดอะวอยซ์ ได้ออกมาไลฟ์ชี้แจงเหตุการณ์ต่างๆ ที่เกิดขึ้นปมสัมพันธ์กับแฟนของสาวรุ่นพี่ซึ่งเรื่องราวดังกล่าวดูเหมือนจะแตกกระเพื่อมกลายเป็นมรสุมลูกใหญ่บึ้มมากๆ เพราะล่าสุด หนุ่ม กรรชัย พิธีกรคนดังที่ถูกโยงว่าเป็นคนส่ง DM ทักหา เบียร์ เดอะวอยซ์ ได้ออกมาเปิดแชทแบบเต็มๆ ผ่านรายการโหนกระแส รับว่ามีการส่ง DM ไปจริง พร้อมกับโชว์ข้อความแบยเต็มๆ', '\"ณ ตอนนี้เราได้ปลด เบียร์ เดอะวอยซ์ จากซีรีส์เรื่อง High school bully อีพี 2 แล้ว ต้องเล่าก่อนว่ากับตัวผมเองไม่ได้มีอะไร แต่ว่ากับทีมงานและนักแสดงร่วมส่วนใหญ่เขาบอกว่า ไม่อยากร่วมงานกับน้อง รวมถึงสปอนเซอร์เขาแจ้งผมมาเลยหลังจากที่น้องไลฟ์เมื่อคืนว่า เขาอยากให้ปลดน้องจากเรื่องนี้เลย\"', 'น้องไม่ทำการบ้านไปเลย ซึ่งทีมงานหลายคนยังเจอพฤติกรรมที่ไม่น่ารักของน้องด้วย รวมถึงนักแสดงที่ต้องไปร่วมร้องเพลงประกอบซีรีส์แล้วยิ่งพอมีข่าวนี้ขึ้นมา เกือบทุกคนทั้งนักแสดง และทีมงานก็บอกให้ผมปลดน้อง เพราะว่าไม่อยากร่วมงานกับคนๆ นี้ซึ่งผมก็แจ้งน้องเบียร์กับผู้จัดการไปก่อนหน้านี้แล้ว\"', 'ล่าสุด เบียร์ เดอะวอยซ์ ถูกมรสุมถาโถมเข้าไปอีกระลอก เพราะ บอส-นัทธพงศ์ ไมทองโปรดิวเซอร์ซีรีส์เรื่อง High school bully ได้สั่งปลด เบียร์ เดอะวอยซ์ ออกจากซีรีส์เป็นที่เรียบร้อยเซ่นประเด็นข่าวร้อน พร้อมกับได้เปิดเผยถึงสาเหตุที่มีมากกว่านั้น โดย บอวส นัทธพงศ์ ได้ไลฟ์เปิดใจผ่าน ข่าวสดบันเทิง ว่า']\n",
      "DISTANCE : [4.003503895978801, 4.342776562347369, 4.775559178308077, 4.823860969827068, 4.8401106714474125]\n"
     ]
    }
   ],
   "source": [
    "best_doc = (results['documents'][0])[:5]\n",
    "distance = (results['distances'][0])[0:5]\n",
    "\n",
    "print(F\"BEST RESULT : {best_doc}\\nDISTANCE : {distance}\")"
   ]
  },
  {
   "cell_type": "code",
   "execution_count": 7,
   "metadata": {},
   "outputs": [
    {
     "name": "stdout",
     "output_type": "stream",
     "text": [
      "Vector database has been removed\n"
     ]
    }
   ],
   "source": [
    "db.remove_db(table_name='all_data')"
   ]
  },
  {
   "cell_type": "code",
   "execution_count": null,
   "metadata": {},
   "outputs": [],
   "source": []
  }
 ],
 "metadata": {
  "kernelspec": {
   "display_name": "Python 3",
   "language": "python",
   "name": "python3"
  },
  "language_info": {
   "codemirror_mode": {
    "name": "ipython",
    "version": 3
   },
   "file_extension": ".py",
   "mimetype": "text/x-python",
   "name": "python",
   "nbconvert_exporter": "python",
   "pygments_lexer": "ipython3",
   "version": "3.10.13"
  }
 },
 "nbformat": 4,
 "nbformat_minor": 2
}

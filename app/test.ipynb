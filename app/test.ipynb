{
 "cells": [
  {
   "cell_type": "code",
   "execution_count": 1,
   "metadata": {},
   "outputs": [
    {
     "name": "stdout",
     "output_type": "stream",
     "text": [
      "Requirement already satisfied: pypdf in c:\\users\\rastu\\appdata\\local\\packages\\pythonsoftwarefoundation.python.3.11_qbz5n2kfra8p0\\localcache\\local-packages\\python311\\site-packages (4.0.2)\n",
      "Requirement already satisfied: pymupdf in c:\\users\\rastu\\appdata\\local\\packages\\pythonsoftwarefoundation.python.3.11_qbz5n2kfra8p0\\localcache\\local-packages\\python311\\site-packages (1.23.25)\n",
      "Requirement already satisfied: PyMuPDFb==1.23.22 in c:\\users\\rastu\\appdata\\local\\packages\\pythonsoftwarefoundation.python.3.11_qbz5n2kfra8p0\\localcache\\local-packages\\python311\\site-packages (from pymupdf) (1.23.22)\n"
     ]
    }
   ],
   "source": [
    "# !pip install pythainlp -U\n",
    "# !pip install -U sentence-transformers\n",
    "\n",
    "# !pip install pypdf pymupdf"
   ]
  },
  {
   "cell_type": "code",
   "execution_count": 1,
   "metadata": {},
   "outputs": [
    {
     "name": "stdout",
     "output_type": "stream",
     "text": [
      "PythaiNLP : 5.0.1\n",
      "Sentence Transformers : 2.3.1\n"
     ]
    }
   ],
   "source": [
    "import pythainlp, sentence_transformers\n",
    "\n",
    "print(f\"PythaiNLP : {pythainlp.__version__}\")\n",
    "print(f\"Sentence Transformers : {sentence_transformers.__version__}\")"
   ]
  },
  {
   "cell_type": "code",
   "execution_count": 2,
   "metadata": {},
   "outputs": [
    {
     "name": "stdout",
     "output_type": "stream",
     "text": [
      "Corpus: thai2fit_wv\n",
      "- Downloading: thai2fit_wv 0.1\n"
     ]
    },
    {
     "data": {
      "application/vnd.jupyter.widget-view+json": {
       "model_id": "d744fabbb1b34ddda3f3eb7f201f3ff8",
       "version_major": 2,
       "version_minor": 0
      },
      "text/plain": [
       "  0%|          | 0/62452646 [00:00<?, ?it/s]"
      ]
     },
     "metadata": {},
     "output_type": "display_data"
    },
    {
     "data": {
      "text/plain": [
       "'เรือ'"
      ]
     },
     "execution_count": 2,
     "metadata": {},
     "output_type": "execute_result"
    }
   ],
   "source": [
    "from pythainlp.word_vector import WordVector\n",
    "\n",
    "wv = WordVector(model_name=\"thai2fit_wv\")\n",
    "words = ['ดีไซน์เนอร์', 'พนักงานเงินเดือน', 'หมอ', 'เรือ']\n",
    "wv.doesnt_match(words)"
   ]
  },
  {
   "cell_type": "code",
   "execution_count": 6,
   "metadata": {},
   "outputs": [
    {
     "name": "stdout",
     "output_type": "stream",
     "text": [
      "[[ 0.02693222 -0.01583178 -0.0219533  ... -0.02472306 -0.02929586\n",
      "   0.01645517]\n",
      " [ 0.02027376 -0.01176006 -0.00298297 ... -0.01922802 -0.03131692\n",
      "   0.03152583]]\n"
     ]
    }
   ],
   "source": [
    "from sentence_transformers import SentenceTransformer\n",
    "sentences = [\"This is an example sentence\", \"Each sentence is converted\"]\n",
    "\n",
    "model = SentenceTransformer('intfloat/multilingual-e5-large')\n",
    "embeddings = model.encode(sentences)\n",
    "print(embeddings)"
   ]
  },
  {
   "cell_type": "code",
   "execution_count": 2,
   "metadata": {},
   "outputs": [
    {
     "name": "stdout",
     "output_type": "stream",
     "text": [
      "[[ 0.0348012   0.0120109  -0.01799997 ... -0.02743497 -0.03056658\n",
      "   0.00434656]\n",
      " [ 0.0154956   0.00047231 -0.04004196 ... -0.01098824 -0.04432815\n",
      "  -0.01422975]]\n"
     ]
    }
   ],
   "source": [
    "sentences = [\"ทดสอบภาษาไทย\", \"ดีจริงหรือแค่หลอก แค่มาหยอกไปวันๆ\"]\n",
    "embeddings = model.encode(sentences)\n",
    "print(embeddings)"
   ]
  },
  {
   "cell_type": "code",
   "execution_count": 8,
   "metadata": {},
   "outputs": [
    {
     "data": {
      "application/vnd.jupyter.widget-view+json": {
       "model_id": "b800cab2fca44a559fe804efefa411a2",
       "version_major": 2,
       "version_minor": 0
      },
      "text/plain": [
       "pytorch_model.bin:   0%|          | 0.00/1.11G [00:00<?, ?B/s]"
      ]
     },
     "metadata": {},
     "output_type": "display_data"
    },
    {
     "data": {
      "application/vnd.jupyter.widget-view+json": {
       "model_id": "3052752a9cce416d8ac1522e3fc8d413",
       "version_major": 2,
       "version_minor": 0
      },
      "text/plain": [
       "tokenizer_config.json:   0%|          | 0.00/713 [00:00<?, ?B/s]"
      ]
     },
     "metadata": {},
     "output_type": "display_data"
    },
    {
     "data": {
      "application/vnd.jupyter.widget-view+json": {
       "model_id": "7fcd4742061e46caad8a7b9a55f07770",
       "version_major": 2,
       "version_minor": 0
      },
      "text/plain": [
       "sentencepiece.bpe.model:   0%|          | 0.00/5.26M [00:00<?, ?B/s]"
      ]
     },
     "metadata": {},
     "output_type": "display_data"
    },
    {
     "data": {
      "application/vnd.jupyter.widget-view+json": {
       "model_id": "a2a7ef11dabb4ca0969f3b62c933376c",
       "version_major": 2,
       "version_minor": 0
      },
      "text/plain": [
       "tokenizer.json:   0%|          | 0.00/9.34M [00:00<?, ?B/s]"
      ]
     },
     "metadata": {},
     "output_type": "display_data"
    },
    {
     "data": {
      "application/vnd.jupyter.widget-view+json": {
       "model_id": "75aad879a3464ebeb02e4326f1431da7",
       "version_major": 2,
       "version_minor": 0
      },
      "text/plain": [
       "added_tokens.json:   0%|          | 0.00/13.3k [00:00<?, ?B/s]"
      ]
     },
     "metadata": {},
     "output_type": "display_data"
    },
    {
     "data": {
      "application/vnd.jupyter.widget-view+json": {
       "model_id": "8304899c69174701a330cb8c45ecaea2",
       "version_major": 2,
       "version_minor": 0
      },
      "text/plain": [
       "special_tokens_map.json:   0%|          | 0.00/305 [00:00<?, ?B/s]"
      ]
     },
     "metadata": {},
     "output_type": "display_data"
    },
    {
     "name": "stderr",
     "output_type": "stream",
     "text": [
      "Special tokens have been added in the vocabulary, make sure the associated word embeddings are fine-tuned or trained.\n"
     ]
    },
    {
     "data": {
      "application/vnd.jupyter.widget-view+json": {
       "model_id": "f4bb5494642a4fc0b54aa7d3196601d0",
       "version_major": 2,
       "version_minor": 0
      },
      "text/plain": [
       "1_Pooling/config.json:   0%|          | 0.00/270 [00:00<?, ?B/s]"
      ]
     },
     "metadata": {},
     "output_type": "display_data"
    },
    {
     "name": "stdout",
     "output_type": "stream",
     "text": [
      "[[ 0.7059439   0.64715075 -1.3627945  ... -0.6020316  -0.6800522\n",
      "   0.05652151]\n",
      " [ 1.6544622   0.21197516 -0.71227956 ...  0.57853884 -1.4006945\n",
      "   0.46957   ]]\n"
     ]
    }
   ],
   "source": [
    "model = SentenceTransformer(\"kornwtp/simcse-model-phayathaibert\")\n",
    "sentences = [\"ทดสอบภาษาไทย\", \"ดีจริงหรือแค่หลอก แค่มาหยอกไปวันๆ\"]\n",
    "embeddings = model.encode(sentences)\n",
    "print(embeddings)"
   ]
  },
  {
   "cell_type": "code",
   "execution_count": 10,
   "metadata": {},
   "outputs": [
    {
     "name": "stdout",
     "output_type": "stream",
     "text": [
      "error\n"
     ]
    }
   ],
   "source": [
    "try :\n",
    "    raise TypeError\n",
    "except :\n",
    "    print(\"error\")"
   ]
  },
  {
   "cell_type": "markdown",
   "metadata": {},
   "source": [
    "## Test LawApp"
   ]
  },
  {
   "cell_type": "code",
   "execution_count": 7,
   "metadata": {},
   "outputs": [
    {
     "name": "stdout",
     "output_type": "stream",
     "text": [
      "b'{\"type\":\"user\",\"id\":\"655f3cb7337a5d2e37bc004b\",\"name\":\"Punnathorn\",\"fullname\":\"Mingkwan\",\"email\":\"rastuniing@hotmail.com\",\"emailVerified\":true,\"canPay\":false,\"isPro\":false,\"periodEnd\":null,\"avatarUrl\":\"/avatars/7913eccc7c8ac63773a0a9d2c14bc901.svg\",\"orgs\":[],\"auth\":{\"type\":\"access_token\",\"accessToken\":{\"displayName\":\"using-model\",\"role\":\"read\"}}}'\n",
      "200\n"
     ]
    }
   ],
   "source": [
    "## API\n",
    "\n",
    "import os\n",
    "from pathlib import Path\n",
    "\n",
    "import pandas as pd\n",
    "import requests\n",
    "from dotenv import load_dotenv, find_dotenv\n",
    "\n",
    "load_dotenv(find_dotenv()) # read local .env file\n",
    "huggingface_api = os.getenv('huggingface_api')\n",
    "cohere_api = os.getenv('cohere_api')\n",
    "openai_api = os.getenv('openai_api')\n",
    "# huggingface_api = None\n",
    "\n",
    "url = 'https://huggingface.co/api/whoami-v2'\n",
    "headers = {'Authorization': \"Bearer {token}\".format(token=huggingface_api)}\n",
    "r = requests.get(url, headers=headers)\n",
    "\n",
    "print(r.content)\n",
    "print(r.status_code)"
   ]
  },
  {
   "cell_type": "code",
   "execution_count": 1,
   "metadata": {},
   "outputs": [
    {
     "name": "stderr",
     "output_type": "stream",
     "text": [
      "Special tokens have been added in the vocabulary, make sure the associated word embeddings are fine-tuned or trained.\n"
     ]
    },
    {
     "data": {
      "text/plain": [
       "'kornwtp/simcse-model-phayathaibert'"
      ]
     },
     "execution_count": 1,
     "metadata": {},
     "output_type": "execute_result"
    }
   ],
   "source": [
    "import embeddings\n",
    "\n",
    "m = embeddings.embeddings_model()\n",
    "m.model"
   ]
  },
  {
   "cell_type": "code",
   "execution_count": 4,
   "metadata": {},
   "outputs": [
    {
     "data": {
      "text/plain": [
       "array([[ 0.7059439 ,  0.64715075, -1.3627945 , ..., -0.6020316 ,\n",
       "        -0.6800522 ,  0.05652151],\n",
       "       [ 1.6544622 ,  0.21197516, -0.71227956, ...,  0.57853884,\n",
       "        -1.4006945 ,  0.46957   ]], dtype=float32)"
      ]
     },
     "execution_count": 4,
     "metadata": {},
     "output_type": "execute_result"
    }
   ],
   "source": [
    "test = [\"ทดสอบภาษาไทย\", \"ดีจริงหรือแค่หลอก แค่มาหยอกไปวันๆ\"]\n",
    "tm = m.to_vec(test)\n",
    "\n",
    "tm"
   ]
  },
  {
   "cell_type": "code",
   "execution_count": 12,
   "metadata": {},
   "outputs": [
    {
     "name": "stdout",
     "output_type": "stream",
     "text": [
      "Number of vectors : 2\n",
      "shape of vectors : (2, 768)\n"
     ]
    },
    {
     "data": {
      "text/plain": [
       "list"
      ]
     },
     "execution_count": 12,
     "metadata": {},
     "output_type": "execute_result"
    }
   ],
   "source": [
    "print(f\"Number of vectors : {len(tm)}\")\n",
    "print(f\"shape of vectors : {tm.shape}\")\n",
    "\n",
    "type(tm.tolist())"
   ]
  },
  {
   "cell_type": "code",
   "execution_count": 32,
   "metadata": {},
   "outputs": [
    {
     "name": "stdout",
     "output_type": "stream",
     "text": [
      ".txt\n",
      ".docx\n"
     ]
    }
   ],
   "source": [
    "ll = os.listdir(\"../docs_storage\")\n",
    "for i in ll :\n",
    "    tes = \".\"+i.split(\".\")[1]\n",
    "\n",
    "    print(tes)"
   ]
  },
  {
   "cell_type": "code",
   "execution_count": 4,
   "metadata": {},
   "outputs": [
    {
     "data": {
      "text/plain": [
       "['upload.py', '__pycache__', 'main.py', 'test.ipynb']"
      ]
     },
     "execution_count": 4,
     "metadata": {},
     "output_type": "execute_result"
    }
   ],
   "source": [
    "os.listdir(Path(\".\"))"
   ]
  },
  {
   "cell_type": "code",
   "execution_count": 8,
   "metadata": {},
   "outputs": [
    {
     "data": {
      "text/plain": [
       "PosixPath('.')"
      ]
     },
     "execution_count": 8,
     "metadata": {},
     "output_type": "execute_result"
    }
   ],
   "source": [
    "Path(\"main.py\").parent"
   ]
  },
  {
   "cell_type": "code",
   "execution_count": 8,
   "metadata": {},
   "outputs": [
    {
     "name": "stdout",
     "output_type": "stream",
     "text": [
      "digital-money-srettha\n",
      "News\n"
     ]
    },
    {
     "data": {
      "text/plain": [
       "'../db/'"
      ]
     },
     "execution_count": 8,
     "metadata": {},
     "output_type": "execute_result"
    }
   ],
   "source": [
    "main_path = Path(\"main.py\").parent\n",
    "db_path = Path(main_path,\"..\")\n",
    "\n",
    "docs_path = Path(main_path,\"..\",\"docs_storage\")\n",
    "\n",
    "for i in os.listdir(docs_path):\n",
    "    print(i.split(\".\")[0])\n",
    "    \n",
    "os.path.join(db_path,\"db/\")"
   ]
  },
  {
   "cell_type": "code",
   "execution_count": 13,
   "metadata": {},
   "outputs": [
    {
     "data": {
      "text/plain": [
       "['digital-money-srettha.txt', 'News.docx']"
      ]
     },
     "execution_count": 13,
     "metadata": {},
     "output_type": "execute_result"
    }
   ],
   "source": [
    "os.listdir(docs_path)"
   ]
  },
  {
   "cell_type": "markdown",
   "metadata": {},
   "source": [
    "## Upload check"
   ]
  },
  {
   "cell_type": "code",
   "execution_count": 2,
   "metadata": {},
   "outputs": [],
   "source": [
    "import upload\n",
    "upload_docs = upload.LangChainDocLoaders(pdf_loader=\"pymupdf\")\n",
    "\n",
    "# check1 = upload_docs.load_document(\"../docs_storage/Por_Ror_Bor_2542.pdf\")\n",
    "check1 = upload_docs.load_document(\"../docs_storage/T_0052.pdf\")\n"
   ]
  },
  {
   "cell_type": "code",
   "execution_count": 3,
   "metadata": {},
   "outputs": [
    {
     "data": {
      "text/plain": [
       "'(ข) ในกรณีที่กฎหมายว่าด้วยการนั้นมีบทบัญญัติที่ให้อำนาจแก่เจ้าหน้าที่ผู้มีอำนาจพิจารณา\\nเรื่องร้องเรียนตามกฎหมายดังกล่าวออกคำสั่งเพื่อคุ้มครองเจ้าของข้อมูลส่วนบุคคล แต่ไม่เพียงพอ เท่ากับ\\nอำนาจของคณะกรรมการผู้เชี่ยวชาญตามพระราชบัญญัตินี้และเจ้าหน้าที่ผู้มีอำนาจตามกฎหมายดังกล่าว\\nร้องขอต่อคณะกรรมการผู้เชี่ยวชาญหรือเจ้าของข้อมูลส่วนบุคคลผู้เสียหายยื่นคำร้องเรียนต่อคณะกรรมการ\\nผู้เชี่ยวชาญตามพระราชบัญญัตินี้ แล้วแต่กรณี\\nมาตรา ๔ พระราชบัญญัตินี้ไม่ใช้บังคับแก่\\n(๑) การเก็บรวบรวม ใช้หรือเปิดเผยข้อมูลส่วนบุคคลของบุคคลที่ทำการเก็บรวบรวมข้อมูล\\nส่วนบุคคลเพื่อประโยชน์ส่วนตนหรือเพื่อกิจกรรมในครอบครัวของบุคคลนั้นเท่านั้น\\n(๒) การดำเนินการของหน่วยงานของรัฐที่มีหน้าที่ในการรักษาความมั่นคงของรัฐ ซึ่งรวมถึง'"
      ]
     },
     "execution_count": 3,
     "metadata": {},
     "output_type": "execute_result"
    }
   ],
   "source": [
    "check1[\"child_documents\"][4]"
   ]
  },
  {
   "cell_type": "code",
   "execution_count": 8,
   "metadata": {},
   "outputs": [
    {
     "data": {
      "text/plain": [
       "True"
      ]
     },
     "execution_count": 8,
     "metadata": {},
     "output_type": "execute_result"
    }
   ],
   "source": [
    "db_path = Path(Path(\"main.py\").parent,\"..\")\n",
    "\n",
    "d = os.listdir(db_path)\n",
    "os.path.exists(db_path/\"vectors_db\")"
   ]
  },
  {
   "cell_type": "markdown",
   "metadata": {},
   "source": [
    "## VectorDB test"
   ]
  },
  {
   "cell_type": "code",
   "execution_count": 8,
   "metadata": {},
   "outputs": [],
   "source": [
    "import m_vector_db\n",
    "\n",
    "tn = \"Table-0\"\n",
    "model_e5 = 'intfloat/multilingual-e5-large'\n",
    "model_mpnet = \"sentence-transformers/paraphrase-multilingual-mpnet-base-v2\"\n",
    "\n",
    "db = m_vector_db.vectordb_start(huggingface_api_key=huggingface_api,\n",
    "                                embed_model_name=model_e5)"
   ]
  },
  {
   "cell_type": "code",
   "execution_count": 9,
   "metadata": {},
   "outputs": [
    {
     "name": "stdout",
     "output_type": "stream",
     "text": [
      "\n",
      "Table name has been CREATED/GET as : Table-0\n"
     ]
    },
    {
     "ename": "JSONDecodeError",
     "evalue": "Expecting value: line 1 column 1 (char 0)",
     "output_type": "error",
     "traceback": [
      "\u001b[1;31m---------------------------------------------------------------------------\u001b[0m",
      "\u001b[1;31mJSONDecodeError\u001b[0m                           Traceback (most recent call last)",
      "\u001b[1;32mc:\\ProgramData\\anaconda3\\lib\\site-packages\\requests\\models.py\u001b[0m in \u001b[0;36mjson\u001b[1;34m(self, **kwargs)\u001b[0m\n\u001b[0;32m    970\u001b[0m         \u001b[1;32mtry\u001b[0m\u001b[1;33m:\u001b[0m\u001b[1;33m\u001b[0m\u001b[1;33m\u001b[0m\u001b[0m\n\u001b[1;32m--> 971\u001b[1;33m             \u001b[1;32mreturn\u001b[0m \u001b[0mcomplexjson\u001b[0m\u001b[1;33m.\u001b[0m\u001b[0mloads\u001b[0m\u001b[1;33m(\u001b[0m\u001b[0mself\u001b[0m\u001b[1;33m.\u001b[0m\u001b[0mtext\u001b[0m\u001b[1;33m,\u001b[0m \u001b[1;33m**\u001b[0m\u001b[0mkwargs\u001b[0m\u001b[1;33m)\u001b[0m\u001b[1;33m\u001b[0m\u001b[1;33m\u001b[0m\u001b[0m\n\u001b[0m\u001b[0;32m    972\u001b[0m         \u001b[1;32mexcept\u001b[0m \u001b[0mJSONDecodeError\u001b[0m \u001b[1;32mas\u001b[0m \u001b[0me\u001b[0m\u001b[1;33m:\u001b[0m\u001b[1;33m\u001b[0m\u001b[1;33m\u001b[0m\u001b[0m\n",
      "\u001b[1;32mc:\\ProgramData\\anaconda3\\lib\\json\\__init__.py\u001b[0m in \u001b[0;36mloads\u001b[1;34m(s, cls, object_hook, parse_float, parse_int, parse_constant, object_pairs_hook, **kw)\u001b[0m\n\u001b[0;32m    345\u001b[0m             parse_constant is None and object_pairs_hook is None and not kw):\n\u001b[1;32m--> 346\u001b[1;33m         \u001b[1;32mreturn\u001b[0m \u001b[0m_default_decoder\u001b[0m\u001b[1;33m.\u001b[0m\u001b[0mdecode\u001b[0m\u001b[1;33m(\u001b[0m\u001b[0ms\u001b[0m\u001b[1;33m)\u001b[0m\u001b[1;33m\u001b[0m\u001b[1;33m\u001b[0m\u001b[0m\n\u001b[0m\u001b[0;32m    347\u001b[0m     \u001b[1;32mif\u001b[0m \u001b[0mcls\u001b[0m \u001b[1;32mis\u001b[0m \u001b[1;32mNone\u001b[0m\u001b[1;33m:\u001b[0m\u001b[1;33m\u001b[0m\u001b[1;33m\u001b[0m\u001b[0m\n",
      "\u001b[1;32mc:\\ProgramData\\anaconda3\\lib\\json\\decoder.py\u001b[0m in \u001b[0;36mdecode\u001b[1;34m(self, s, _w)\u001b[0m\n\u001b[0;32m    336\u001b[0m         \"\"\"\n\u001b[1;32m--> 337\u001b[1;33m         \u001b[0mobj\u001b[0m\u001b[1;33m,\u001b[0m \u001b[0mend\u001b[0m \u001b[1;33m=\u001b[0m \u001b[0mself\u001b[0m\u001b[1;33m.\u001b[0m\u001b[0mraw_decode\u001b[0m\u001b[1;33m(\u001b[0m\u001b[0ms\u001b[0m\u001b[1;33m,\u001b[0m \u001b[0midx\u001b[0m\u001b[1;33m=\u001b[0m\u001b[0m_w\u001b[0m\u001b[1;33m(\u001b[0m\u001b[0ms\u001b[0m\u001b[1;33m,\u001b[0m \u001b[1;36m0\u001b[0m\u001b[1;33m)\u001b[0m\u001b[1;33m.\u001b[0m\u001b[0mend\u001b[0m\u001b[1;33m(\u001b[0m\u001b[1;33m)\u001b[0m\u001b[1;33m)\u001b[0m\u001b[1;33m\u001b[0m\u001b[1;33m\u001b[0m\u001b[0m\n\u001b[0m\u001b[0;32m    338\u001b[0m         \u001b[0mend\u001b[0m \u001b[1;33m=\u001b[0m \u001b[0m_w\u001b[0m\u001b[1;33m(\u001b[0m\u001b[0ms\u001b[0m\u001b[1;33m,\u001b[0m \u001b[0mend\u001b[0m\u001b[1;33m)\u001b[0m\u001b[1;33m.\u001b[0m\u001b[0mend\u001b[0m\u001b[1;33m(\u001b[0m\u001b[1;33m)\u001b[0m\u001b[1;33m\u001b[0m\u001b[1;33m\u001b[0m\u001b[0m\n",
      "\u001b[1;32mc:\\ProgramData\\anaconda3\\lib\\json\\decoder.py\u001b[0m in \u001b[0;36mraw_decode\u001b[1;34m(self, s, idx)\u001b[0m\n\u001b[0;32m    354\u001b[0m         \u001b[1;32mexcept\u001b[0m \u001b[0mStopIteration\u001b[0m \u001b[1;32mas\u001b[0m \u001b[0merr\u001b[0m\u001b[1;33m:\u001b[0m\u001b[1;33m\u001b[0m\u001b[1;33m\u001b[0m\u001b[0m\n\u001b[1;32m--> 355\u001b[1;33m             \u001b[1;32mraise\u001b[0m \u001b[0mJSONDecodeError\u001b[0m\u001b[1;33m(\u001b[0m\u001b[1;34m\"Expecting value\"\u001b[0m\u001b[1;33m,\u001b[0m \u001b[0ms\u001b[0m\u001b[1;33m,\u001b[0m \u001b[0merr\u001b[0m\u001b[1;33m.\u001b[0m\u001b[0mvalue\u001b[0m\u001b[1;33m)\u001b[0m \u001b[1;32mfrom\u001b[0m \u001b[1;32mNone\u001b[0m\u001b[1;33m\u001b[0m\u001b[1;33m\u001b[0m\u001b[0m\n\u001b[0m\u001b[0;32m    356\u001b[0m         \u001b[1;32mreturn\u001b[0m \u001b[0mobj\u001b[0m\u001b[1;33m,\u001b[0m \u001b[0mend\u001b[0m\u001b[1;33m\u001b[0m\u001b[1;33m\u001b[0m\u001b[0m\n",
      "\u001b[1;31mJSONDecodeError\u001b[0m: Expecting value: line 1 column 1 (char 0)",
      "\nDuring handling of the above exception, another exception occurred:\n",
      "\u001b[1;31mJSONDecodeError\u001b[0m                           Traceback (most recent call last)",
      "\u001b[1;32m~\\AppData\\Local\\Temp\\ipykernel_19324\\777226134.py\u001b[0m in \u001b[0;36m<cell line: 1>\u001b[1;34m()\u001b[0m\n\u001b[1;32m----> 1\u001b[1;33m \u001b[0mdb\u001b[0m\u001b[1;33m.\u001b[0m\u001b[0madd\u001b[0m\u001b[1;33m(\u001b[0m\u001b[0mtable_name\u001b[0m\u001b[1;33m=\u001b[0m\u001b[0mtn\u001b[0m\u001b[1;33m)\u001b[0m\u001b[1;33m\u001b[0m\u001b[1;33m\u001b[0m\u001b[0m\n\u001b[0m",
      "\u001b[1;32md:\\DATA_Science\\GitHub\\LawDocuments-Chatbot\\app\\m_vector_db.py\u001b[0m in \u001b[0;36madd\u001b[1;34m(self, table_name)\u001b[0m\n\u001b[0;32m     58\u001b[0m                 \u001b[0midd\u001b[0m \u001b[1;33m=\u001b[0m \u001b[1;33m[\u001b[0m\u001b[1;34m\"id{a}\"\u001b[0m\u001b[1;33m.\u001b[0m\u001b[0mformat\u001b[0m\u001b[1;33m(\u001b[0m\u001b[0ma\u001b[0m\u001b[1;33m=\u001b[0m\u001b[1;33m(\u001b[0m\u001b[0mi\u001b[0m\u001b[1;33m+\u001b[0m\u001b[1;36m1\u001b[0m\u001b[1;33m)\u001b[0m\u001b[1;33m+\u001b[0m\u001b[0mcurrent_data\u001b[0m\u001b[1;33m)\u001b[0m \u001b[1;32mfor\u001b[0m \u001b[0mi\u001b[0m \u001b[1;32min\u001b[0m \u001b[0mrange\u001b[0m\u001b[1;33m(\u001b[0m\u001b[0mlen\u001b[0m\u001b[1;33m(\u001b[0m\u001b[0mtexts\u001b[0m\u001b[1;33m)\u001b[0m\u001b[1;33m)\u001b[0m\u001b[1;33m]\u001b[0m\u001b[1;33m\u001b[0m\u001b[1;33m\u001b[0m\u001b[0m\n\u001b[0;32m     59\u001b[0m \u001b[1;33m\u001b[0m\u001b[0m\n\u001b[1;32m---> 60\u001b[1;33m                 \u001b[0mdoc_embed\u001b[0m \u001b[1;33m=\u001b[0m \u001b[0mself\u001b[0m\u001b[1;33m.\u001b[0m\u001b[0mhuggingface_ef\u001b[0m\u001b[1;33m(\u001b[0m\u001b[0mtexts\u001b[0m\u001b[1;33m)\u001b[0m\u001b[1;33m\u001b[0m\u001b[1;33m\u001b[0m\u001b[0m\n\u001b[0m\u001b[0;32m     61\u001b[0m \u001b[1;33m\u001b[0m\u001b[0m\n\u001b[0;32m     62\u001b[0m                 \u001b[1;32mtry\u001b[0m \u001b[1;33m:\u001b[0m\u001b[1;33m\u001b[0m\u001b[1;33m\u001b[0m\u001b[0m\n",
      "\u001b[1;32m~\\AppData\\Roaming\\Python\\Python310\\site-packages\\chromadb\\utils\\embedding_functions.py\u001b[0m in \u001b[0;36m__call__\u001b[1;34m(self, input)\u001b[0m\n\u001b[0;32m    265\u001b[0m         return self._session.post(  # type: ignore\n\u001b[0;32m    266\u001b[0m             \u001b[0mself\u001b[0m\u001b[1;33m.\u001b[0m\u001b[0m_api_url\u001b[0m\u001b[1;33m,\u001b[0m \u001b[0mjson\u001b[0m\u001b[1;33m=\u001b[0m\u001b[1;33m{\u001b[0m\u001b[1;34m\"inputs\"\u001b[0m\u001b[1;33m:\u001b[0m \u001b[0minput\u001b[0m\u001b[1;33m,\u001b[0m \u001b[1;34m\"options\"\u001b[0m\u001b[1;33m:\u001b[0m \u001b[1;33m{\u001b[0m\u001b[1;34m\"wait_for_model\"\u001b[0m\u001b[1;33m:\u001b[0m \u001b[1;32mTrue\u001b[0m\u001b[1;33m}\u001b[0m\u001b[1;33m}\u001b[0m\u001b[1;33m\u001b[0m\u001b[1;33m\u001b[0m\u001b[0m\n\u001b[1;32m--> 267\u001b[1;33m         ).json()\n\u001b[0m\u001b[0;32m    268\u001b[0m \u001b[1;33m\u001b[0m\u001b[0m\n\u001b[0;32m    269\u001b[0m \u001b[1;33m\u001b[0m\u001b[0m\n",
      "\u001b[1;32mc:\\ProgramData\\anaconda3\\lib\\site-packages\\requests\\models.py\u001b[0m in \u001b[0;36mjson\u001b[1;34m(self, **kwargs)\u001b[0m\n\u001b[0;32m    973\u001b[0m             \u001b[1;31m# Catch JSON-related errors and raise as requests.JSONDecodeError\u001b[0m\u001b[1;33m\u001b[0m\u001b[1;33m\u001b[0m\u001b[0m\n\u001b[0;32m    974\u001b[0m             \u001b[1;31m# This aliases json.JSONDecodeError and simplejson.JSONDecodeError\u001b[0m\u001b[1;33m\u001b[0m\u001b[1;33m\u001b[0m\u001b[0m\n\u001b[1;32m--> 975\u001b[1;33m             \u001b[1;32mraise\u001b[0m \u001b[0mRequestsJSONDecodeError\u001b[0m\u001b[1;33m(\u001b[0m\u001b[0me\u001b[0m\u001b[1;33m.\u001b[0m\u001b[0mmsg\u001b[0m\u001b[1;33m,\u001b[0m \u001b[0me\u001b[0m\u001b[1;33m.\u001b[0m\u001b[0mdoc\u001b[0m\u001b[1;33m,\u001b[0m \u001b[0me\u001b[0m\u001b[1;33m.\u001b[0m\u001b[0mpos\u001b[0m\u001b[1;33m)\u001b[0m\u001b[1;33m\u001b[0m\u001b[1;33m\u001b[0m\u001b[0m\n\u001b[0m\u001b[0;32m    976\u001b[0m \u001b[1;33m\u001b[0m\u001b[0m\n\u001b[0;32m    977\u001b[0m     \u001b[1;33m@\u001b[0m\u001b[0mproperty\u001b[0m\u001b[1;33m\u001b[0m\u001b[1;33m\u001b[0m\u001b[0m\n",
      "\u001b[1;31mJSONDecodeError\u001b[0m: Expecting value: line 1 column 1 (char 0)"
     ]
    }
   ],
   "source": [
    "db.add(table_name=tn)"
   ]
  },
  {
   "cell_type": "code",
   "execution_count": 6,
   "metadata": {},
   "outputs": [
    {
     "data": {
      "text/plain": [
       "{'doc': '2. วางโครงสร้างพื้นฐานเพื่อนำไปสู่เศรษฐกิจดิจิทัลและ E-Government ซึ่งเป็นการวางและแก้ไขปัญหาเชิงโครงสร้างของประเทศในระยะยาว\\n“ยาอีกครั้งนะครับ นี่ไม่ใช่การสงเคราะห์ประชาชนผู้ยากไร้ แต่เป็นการเติมเงินลงไปในระบบเศรษฐกิจผ่านสิทธิการใช้จ่าย เพื่อให้ประชาชนมีบทบาทร่วมกับรัฐบาล (Partnership) ในการพลิกฟื้นเศรษฐกิจของประเทศ ในขณะที่ยังรักษาวินัยการเงินการคลังของรัฐทุกประการ ผมขอให้ประชาชนทุกคนที่ได้รับสิทธิร่วมกันใช้จ่ายด้วยความภาคภูมิใจ โดยทุกคนล้วนเป็นผู้ร่วมสร้างการเจริญเติบโตและความมั่นคงทางเศรษฐกิจให้กับประเทศของเรา” นายเศรษฐา กล่าว',\n",
       " 'score': 0.8301328420639038}"
      ]
     },
     "execution_count": 6,
     "metadata": {},
     "output_type": "execute_result"
    }
   ],
   "source": [
    "## e5\n",
    "db.retrieve_rerank(query=\"เศรษฐาทำอะไรกับเงินดิจิทัล\", table_name=tn)"
   ]
  },
  {
   "cell_type": "code",
   "execution_count": 4,
   "metadata": {},
   "outputs": [
    {
     "data": {
      "text/plain": [
       "{'doc': 'เงินก้อนนี้ไม่ได้มาจากการเสกเงิน สร้างเงิน พิมพ์เงิน หรือออกเหรียญผ่าน Initial Coin Offering แต่อย่างใด. พูดให้ชัดๆ ว่า ไม่ได้มีการเขียนโปรแกรมสร้างเงินเหมือน Cryptocurrency ต่างๆ และไม่ได้เป็นการนำเงินไปซื้อเหรียญมาแจก และนำไปเทรด แลกเปลี่ยน โอนให้กันและกัน เก็งกำไร ไม่ได้\\n“ยานะครับ ไม่มีการนำไปเทรดบน Exchange ทั้งหลาย ตลาดหลักทรัพย์ ตลาด crypto ใดๆทั้งสิ้น เงินตัวนี้จะมีที่มาจากเงินบาท และมีมูลค่าเป็นเงินบาท ที่มีเงื่อนไขในการใช้งาน เพื่อให้เกิดการหมุนเวียนทางเศรษฐกิจสูงกว่าอัดฉีดที่ผ่านมา เพราะฉะนั้น เงิน 1 บาทในโครงการนี้ก็คือ 1 บาทในกระเป๋าเงินของทุกท่าน ที่สามารถใช้จ่ายได้ โครงการนี้ต้องมีการลงทะเบียนรับสิทธิทั้งร้านค้า และยืนยันรับสิทธิโดยประชาชน”\\nสำหรับ เงื่อนไขใช้ซื้ออะไรได้-ไม่ได้\\n– ประชาชนจะสามารถจะใช้ซื้อสินค้า อาหาร เครื่องดื่ม สินค้าอุปโภคบริโภคได้เท่านั้น',\n",
       " 'score': 0.6081387400627136}"
      ]
     },
     "execution_count": 4,
     "metadata": {},
     "output_type": "execute_result"
    }
   ],
   "source": [
    "## paraphase\n",
    "\n",
    "db.retrieve_rerank(query=\"เศรษฐาทำอะไรกับเงินดิจิทัล\", table_name=tn)"
   ]
  },
  {
   "cell_type": "code",
   "execution_count": 8,
   "metadata": {},
   "outputs": [
    {
     "data": {
      "text/plain": [
       "{'doc': 'รัฐบาลไทยเองก็จะกระตุ้นเศรษฐกิจ ด้วยการดำเนินโครงการ Digital Wallet 10,000 บาท ที่เรากำลังพูดถึงในวันนี้นโยบายนี้คือ การอัดฉีดเงินเข้าไปในระบบ ให้เข้าถึงทุกพื้นที่ ให้เกิดการจับจ่ายใช้สอยหมุนเวียนภายในระยะเวลาอันรวดเร็ว เงินทั้งหมดในโครงการนี้จะถูกส่งตรงไปให้กับประชาชนทุกคนที่ผ่านเงื่อนไขเข้าไปยังกระเป๋าเงินดิจิทัล\\nขอบเขตการใช้งาน จะใช้ได้กับร้านค้าที่อยู่ในอำเภอเดียวกับบัตรประชาชนของท่าน ยานะครับ “อำเภอ” ซึ่งปรับขยายมาตามความเห็นของทุกภาคส่วน และต้องจ่ายเงินกันแบบ Face-to-face เรื่องของระยะเวลา 6 เดือนสำหรับการใช้ “ครั้งแรก” ก็ถูกกำหนดขึ้นมาเพื่อให้เงินมีการหมุนเวียน และหากไม่ได้ใช้สิทธิที่เหลืออยู่ก็จะถูกยกเลิกไปโดยอัตโนมัติ และเงินที่ถูกใช้และเข้าไปอยู่ในระบบแล้ว จะสามารถใช้จับจ่ายต่อได้จนถึงเดือนเมษาปี 2570',\n",
       " 'score': 0.8164089322090149}"
      ]
     },
     "execution_count": 8,
     "metadata": {},
     "output_type": "execute_result"
    }
   ],
   "source": [
    "## e5\n",
    "db.retrieve_rerank(query=\"ทำไงจะได้เงินดิจิทัล\", table_name=tn)"
   ]
  },
  {
   "cell_type": "code",
   "execution_count": 5,
   "metadata": {},
   "outputs": [
    {
     "data": {
      "text/plain": [
       "{'doc': 'เงินก้อนนี้ไม่ได้มาจากการเสกเงิน สร้างเงิน พิมพ์เงิน หรือออกเหรียญผ่าน Initial Coin Offering แต่อย่างใด. พูดให้ชัดๆ ว่า ไม่ได้มีการเขียนโปรแกรมสร้างเงินเหมือน Cryptocurrency ต่างๆ และไม่ได้เป็นการนำเงินไปซื้อเหรียญมาแจก และนำไปเทรด แลกเปลี่ยน โอนให้กันและกัน เก็งกำไร ไม่ได้\\n“ยานะครับ ไม่มีการนำไปเทรดบน Exchange ทั้งหลาย ตลาดหลักทรัพย์ ตลาด crypto ใดๆทั้งสิ้น เงินตัวนี้จะมีที่มาจากเงินบาท และมีมูลค่าเป็นเงินบาท ที่มีเงื่อนไขในการใช้งาน เพื่อให้เกิดการหมุนเวียนทางเศรษฐกิจสูงกว่าอัดฉีดที่ผ่านมา เพราะฉะนั้น เงิน 1 บาทในโครงการนี้ก็คือ 1 บาทในกระเป๋าเงินของทุกท่าน ที่สามารถใช้จ่ายได้ โครงการนี้ต้องมีการลงทะเบียนรับสิทธิทั้งร้านค้า และยืนยันรับสิทธิโดยประชาชน”\\nสำหรับ เงื่อนไขใช้ซื้ออะไรได้-ไม่ได้\\n– ประชาชนจะสามารถจะใช้ซื้อสินค้า อาหาร เครื่องดื่ม สินค้าอุปโภคบริโภคได้เท่านั้น',\n",
       " 'score': 0.6661297678947449}"
      ]
     },
     "execution_count": 5,
     "metadata": {},
     "output_type": "execute_result"
    }
   ],
   "source": [
    "## paraphase\n",
    "db.retrieve_rerank(query=\"ทำไงจะได้เงินดิจิทัล\", table_name=tn)"
   ]
  },
  {
   "cell_type": "code",
   "execution_count": 6,
   "metadata": {},
   "outputs": [
    {
     "data": {
      "text/plain": [
       "{'ids': [['id12', 'id1', 'id11', 'id2', 'id14']],\n",
       " 'distances': [[4.375934547808213,\n",
       "   4.6773410576080146,\n",
       "   5.800654703755578,\n",
       "   6.740377784229372,\n",
       "   6.796118734667014]],\n",
       " 'metadatas': [[{'chunk_no': 11,\n",
       "    'file_type': '.txt',\n",
       "    'source_name': 'digital-money-srettha.txt'},\n",
       "   {'chunk_no': 0,\n",
       "    'file_type': '.txt',\n",
       "    'source_name': 'digital-money-srettha.txt'},\n",
       "   {'chunk_no': 10,\n",
       "    'file_type': '.txt',\n",
       "    'source_name': 'digital-money-srettha.txt'},\n",
       "   {'chunk_no': 1,\n",
       "    'file_type': '.txt',\n",
       "    'source_name': 'digital-money-srettha.txt'},\n",
       "   {'chunk_no': 13,\n",
       "    'file_type': '.txt',\n",
       "    'source_name': 'digital-money-srettha.txt'}]],\n",
       " 'embeddings': None,\n",
       " 'documents': [['เงินก้อนนี้ไม่ได้มาจากการเสกเงิน สร้างเงิน พิมพ์เงิน หรือออกเหรียญผ่าน Initial Coin Offering แต่อย่างใด. พูดให้ชัดๆ ว่า ไม่ได้มีการเขียนโปรแกรมสร้างเงินเหมือน Cryptocurrency ต่างๆ และไม่ได้เป็นการนำเงินไปซื้อเหรียญมาแจก และนำไปเทรด แลกเปลี่ยน โอนให้กันและกัน เก็งกำไร ไม่ได้\\n“ยานะครับ ไม่มีการนำไปเทรดบน Exchange ทั้งหลาย ตลาดหลักทรัพย์ ตลาด crypto ใดๆทั้งสิ้น เงินตัวนี้จะมีที่มาจากเงินบาท และมีมูลค่าเป็นเงินบาท ที่มีเงื่อนไขในการใช้งาน เพื่อให้เกิดการหมุนเวียนทางเศรษฐกิจสูงกว่าอัดฉีดที่ผ่านมา เพราะฉะนั้น เงิน 1 บาทในโครงการนี้ก็คือ 1 บาทในกระเป๋าเงินของทุกท่าน ที่สามารถใช้จ่ายได้ โครงการนี้ต้องมีการลงทะเบียนรับสิทธิทั้งร้านค้า และยืนยันรับสิทธิโดยประชาชน”\\nสำหรับ เงื่อนไขใช้ซื้ออะไรได้-ไม่ได้\\n– ประชาชนจะสามารถจะใช้ซื้อสินค้า อาหาร เครื่องดื่ม สินค้าอุปโภคบริโภคได้เท่านั้น',\n",
       "   'นายกฯ ‘เศรษฐา’ ตัดจบ ‘ดิจิทัลวอลเล็ต 10,000 บาท’ ให้ 50 ล้านคน กำหนดเงื่อนไข เงินเดือนไม่ถึง 70,000 บาท เงินฝากต่ำกว่า 500,000 บาท ต้องออก ‘พ.ร.บ.กู้เงิน’\\nเวลา 14.00 น. วันนี้ (10 พ.ย. 66) นายเศรษฐา ทวีสิน เปิดแถลงข่าว นโยบายโครงการเติมเงิน 10,000 บาท ผ่าน Digital Wallet (ดิจิทัลวอลเล็ต) ตามที่ได้แจ้งนัดหมายไว้\\nนายเศรษฐา กล่าวว่า โครงการดิจิทัลวอลเล็ต ไม่ใช่แค่ความฝัน แต่กำลังเป็นความจริง รัฐบาลได้หาข้อสรุปที่ดีที่สุดในการกระตุ้นและสร้างความมั่นคงทางเศรษฐกิจ ผ่านการเติมเงินลงไปในระบบเศรษฐกิจ มูลค่า 6 แสนล้านบาท ซึ่งจะอยู่ในโครงการดิจิทัลวอลเล็ต 5 แสนล้านบาท ครอบคลุม 50 ล้านคน และอีก 1 แสนล้านบาท ในกองทุนเพิ่มขีดความสามารถ และทุกอย่างที่แถลงในวันนี้จะยังต้องผ่านกระบวนการตามกฎหมาย และต้องมีมติของคณะกรรมการที่เกี่ยวข้อง ก่อนจะสรุปอีกครั้ง',\n",
       "   'รัฐบาลไทยเองก็จะกระตุ้นเศรษฐกิจ ด้วยการดำเนินโครงการ Digital Wallet 10,000 บาท ที่เรากำลังพูดถึงในวันนี้นโยบายนี้คือ การอัดฉีดเงินเข้าไปในระบบ ให้เข้าถึงทุกพื้นที่ ให้เกิดการจับจ่ายใช้สอยหมุนเวียนภายในระยะเวลาอันรวดเร็ว เงินทั้งหมดในโครงการนี้จะถูกส่งตรงไปให้กับประชาชนทุกคนที่ผ่านเงื่อนไขเข้าไปยังกระเป๋าเงินดิจิทัล\\nขอบเขตการใช้งาน จะใช้ได้กับร้านค้าที่อยู่ในอำเภอเดียวกับบัตรประชาชนของท่าน ยานะครับ “อำเภอ” ซึ่งปรับขยายมาตามความเห็นของทุกภาคส่วน และต้องจ่ายเงินกันแบบ Face-to-face เรื่องของระยะเวลา 6 เดือนสำหรับการใช้ “ครั้งแรก” ก็ถูกกำหนดขึ้นมาเพื่อให้เงินมีการหมุนเวียน และหากไม่ได้ใช้สิทธิที่เหลืออยู่ก็จะถูกยกเลิกไปโดยอัตโนมัติ และเงินที่ถูกใช้และเข้าไปอยู่ในระบบแล้ว จะสามารถใช้จับจ่ายต่อได้จนถึงเดือนเมษาปี 2570',\n",
       "   'ตัวเลขทั้งหมดเกิดจากการที่รัฐบาลรับฟังความเห็น จากธนาคารแห่งประเทศไทย สภาพัฒน์ (สำนักงานสภาพัฒนาการเศรษฐกิจและสังคมแห่งชาติ) และหน่วยงานอื่นๆ ทำงานร่วมกัน และปรับเงื่อนไขโครงการดิจิทัลวอลเล็ต ให้รัดกุมขึ้น โดยรัฐบาลจะมอบสิทธิ์การใช้จ่าย 10,000 บาท ให้คนไทยที่มีอายุ 16 ปีขึ้นไป ที่มีรายได้ไม่ถึง 7 หมื่นบาทต่อเดือน และมีเงินฝากต่ำกว่า 5 แสนบาท\\n“เพื่อความชัดเจน ประโยคนี้แปลว่า ถ้ารายได้เกิน 7 หมื่นบาทแต่มีเงินฝากน้อยกว่า 5 แสนบาท ก็จะไม่ได้รับสิทธิ์ หรือถ้ารายได้น้อยกว่า 7 หมื่นบาท แต่มีเงินฝากมากกว่า 5 แสนบาท ก็จะไม่ได้รับสิทธิ์เช่นกัน โดยให้สิทธิ์ใช้ครั้งแรกในเวลา 6 เดือน หลังจากโครงการเริ่ม และขยายพื้นที่การใช้จ่ายให้ครอบคลุมระดับอำเภอตามที่ได้รับฟังความเห็นมา” นานเศรษฐา กล่าว\\n[โครงการ e-Refund ลดหย่อนภาษี ไม่เกิน 50,000 บาท สำหรับผู้ที่ได้สิทธิ์ ‘ดิจิทัลวอลเล็ต’]',\n",
       "   '– แลกเป็นเงินสดไม่ได้ แลกเปลี่ยนในตลาดต่างๆ ไม่ได้\\nประเภทร้านค้า\\n– ขอชี้แจงให้ชัดว่าใช้ซื้อสินค้าได้ทุกร้านค้า ไม่ได้จำกัดแต่ร้านที่อยู่ในระบบภาษี\\n– ไม่จำเป็นต้องจด VAT\\n– ร้านค้ารถเข็น ร้านโชห่วย ร้านค้าที่อยู่บนแอปเป๋าตัง ใช้ได้หมด แต่ต้องมีการลงทะเบียนรับสิทธิ์ และร้านค้าที่จะขึ้นเงินได้ต้องอยู่ในระบบภาษีเท่านั้น\\nนายเศรษฐา กล่าวว่า การจับจ่ายใช้สอย จะต้องเริ่มที่ชุมชนระดับอำเภอก่อนเสมอ ซึ่งเป็นการรดน้ำทั่วประเทศให้เขียวไปพร้อมๆ กัน ทำให้ทุกภาคส่วนมีส่วนร่วมในกิจกรรมทางเศรษฐกิจนี้ เงินตัวนี้จะเป็นเงินที่ให้ประชาชนช่วยกันกอบกู้เศรษฐกิจ ซึ่งจะนำมาสู่การลงทุนในภาคประชาชน ทั้งการรวมเงินในครัวเรือนเพื่อประกอบอาชีพ การซื้อ-ขายสินค้าของพ่อค้าแม่ค้า ไปจนถึงการสั่งผลิตสินค้าในโรงงาน SME ไปจนถึงโรงงานขนาดใหญ่']],\n",
       " 'uris': None,\n",
       " 'data': None}"
      ]
     },
     "execution_count": 6,
     "metadata": {},
     "output_type": "execute_result"
    }
   ],
   "source": [
    "results = db.retrieve(query=\"ทำไงจะได้เงินดิจิทัล\", table_name=tn)\n",
    "results"
   ]
  },
  {
   "cell_type": "code",
   "execution_count": 8,
   "metadata": {},
   "outputs": [
    {
     "data": {
      "text/plain": [
       "['ทั้งนี้ผู้สื่อข่าวได้ถามต่อว่า ก่อนหน้านี้เกิดปัญหาอะไรขึ้น? ทาง บอส นัทธพงส์ ได้บอกว่า \"ก่อนหน้านี้มีปัญหากันนิดหน่อยด้วยว่าผู้จัดการของน้องดูแรงไปนิดหนึ่ง ตั้งแต่วันบวงสรวงแล้ว ผู้จัดการของน้องพูดไม่ดีกับทีมงาน มองเหยียดๆ ทีมงาน รวมถึงตัวน้องด้วย และก็มีวันที่น้องต้องไปร้องเพลงประกอบซีรีส์ น้องไม่ทำการบ้านไปเลย ซึ่งทีมงานหลายคนยังเจอพฤติกรรมที่ไม่น่ารักของน้องด้วย รวมถึงนักแสดงที่ต้องไปร่วมร้องเพลงประกอบซีรีส์แล้วยิ่งพอมีข่าวนี้ขึ้นมา เกือบทุกคนทั้งนักแสดง และทีมงานก็บอกให้ผมปลดน้อง เพราะว่าไม่อยากร่วมงานกับคนๆ นี้ซึ่งผมก็แจ้งน้องเบียร์กับผู้จัดการไปก่อนหน้านี้แล้ว\"',\n",
       " 'ล่าสุด เบียร์ เดอะวอยซ์ ถูกมรสุมถาโถมเข้าไปอีกระลอก เพราะ บอส-นัทธพงศ์ ไมทองโปรดิวเซอร์ซีรีส์เรื่อง High school bully ได้สั่งปลด เบียร์ เดอะวอยซ์ ออกจากซีรีส์เป็นที่เรียบร้อยเซ่นประเด็นข่าวร้อน พร้อมกับได้เปิดเผยถึงสาเหตุที่มีมากกว่านั้น โดย บอวส นัทธพงศ์ ได้ไลฟ์เปิดใจผ่าน ข่าวสดบันเทิง ว่า\\n\"ณ ตอนนี้เราได้ปลด เบียร์ เดอะวอยซ์ จากซีรีส์เรื่อง High school bully อีพี 2 แล้ว ต้องเล่าก่อนว่ากับตัวผมเองไม่ได้มีอะไร แต่ว่ากับทีมงานและนักแสดงร่วมส่วนใหญ่เขาบอกว่า ไม่อยากร่วมงานกับน้อง รวมถึงสปอนเซอร์เขาแจ้งผมมาเลยหลังจากที่น้องไลฟ์เมื่อคืนว่า เขาอยากให้ปลดน้องจากเรื่องนี้เลย\"',\n",
       " 'เบียร์ เดอะวอยซ์ ถูกปลดฟ้าฝ่าจากซีรีส์ High school bully ด้านโปรดิวเซอร์ซีรีส์เผยทีมงานรับไม่ได้กับพฤติกรรม\\nกลายเป็นประเด็นร้อนในโลกออนไลน์เลยทีเดียว หลังนักร้องสาว เบียร์ เดอะวอยซ์ ได้ออกมาไลฟ์ชี้แจงเหตุการณ์ต่างๆ ที่เกิดขึ้นปมสัมพันธ์กับแฟนของสาวรุ่นพี่ซึ่งเรื่องราวดังกล่าวดูเหมือนจะแตกกระเพื่อมกลายเป็นมรสุมลูกใหญ่บึ้มมากๆ เพราะล่าสุด หนุ่ม กรรชัย พิธีกรคนดังที่ถูกโยงว่าเป็นคนส่ง DM ทักหา เบียร์ เดอะวอยซ์ ได้ออกมาเปิดแชทแบบเต็มๆ ผ่านรายการโหนกระแส รับว่ามีการส่ง DM ไปจริง พร้อมกับโชว์ข้อความแบยเต็มๆ ว่ามีการคุยอะไรกันบ้าง ต้องบอกว่าเป็นการเคลียร์ที่ชัดเจนมากระดับ HD เลยทีเดียว มีแต่เรื่องงานล้วนๆ']"
      ]
     },
     "execution_count": 8,
     "metadata": {},
     "output_type": "execute_result"
    }
   ],
   "source": [
    "(results['documents'][0])"
   ]
  },
  {
   "cell_type": "code",
   "execution_count": 28,
   "metadata": {},
   "outputs": [
    {
     "data": {
      "text/plain": [
       "dict"
      ]
     },
     "execution_count": 28,
     "metadata": {},
     "output_type": "execute_result"
    }
   ],
   "source": [
    "type(results)"
   ]
  },
  {
   "cell_type": "code",
   "execution_count": 4,
   "metadata": {},
   "outputs": [
    {
     "name": "stdout",
     "output_type": "stream",
     "text": [
      "BEST RESULT : ['นายกฯ ‘เศรษฐา’ ตัดจบ ‘ดิจิทัลวอลเล็ต 10,000 บาท’ ให้ 50 ล้านคน กำหนดเงื่อนไข เงินเดือนไม่ถึง 70,000 บาท เงินฝากต่ำกว่า 500,000 บาท ต้องออก ‘พ.ร.บ.กู้เงิน’\\nเวลา 14.00 น. วันนี้ (10 พ.ย. 66) นายเศรษฐา ทวีสิน เปิดแถลงข่าว นโยบายโครงการเติมเงิน 10,000 บาท ผ่าน Digital Wallet (ดิจิทัลวอลเล็ต) ตามที่ได้แจ้งนัดหมายไว้\\nนายเศรษฐา กล่าวว่า โครงการดิจิทัลวอลเล็ต ไม่ใช่แค่ความฝัน แต่กำลังเป็นความจริง รัฐบาลได้หาข้อสรุปที่ดีที่สุดในการกระตุ้นและสร้างความมั่นคงทางเศรษฐกิจ ผ่านการเติมเงินลงไปในระบบเศรษฐกิจ มูลค่า 6 แสนล้านบาท ซึ่งจะอยู่ในโครงการดิจิทัลวอลเล็ต 5 แสนล้านบาท ครอบคลุม 50 ล้านคน และอีก 1 แสนล้านบาท ในกองทุนเพิ่มขีดความสามารถ และทุกอย่างที่แถลงในวันนี้จะยังต้องผ่านกระบวนการตามกฎหมาย และต้องมีมติของคณะกรรมการที่เกี่ยวข้อง ก่อนจะสรุปอีกครั้ง', '2. วางโครงสร้างพื้นฐานเพื่อนำไปสู่เศรษฐกิจดิจิทัลและ E-Government ซึ่งเป็นการวางและแก้ไขปัญหาเชิงโครงสร้างของประเทศในระยะยาว\\n“ยาอีกครั้งนะครับ นี่ไม่ใช่การสงเคราะห์ประชาชนผู้ยากไร้ แต่เป็นการเติมเงินลงไปในระบบเศรษฐกิจผ่านสิทธิการใช้จ่าย เพื่อให้ประชาชนมีบทบาทร่วมกับรัฐบาล (Partnership) ในการพลิกฟื้นเศรษฐกิจของประเทศ ในขณะที่ยังรักษาวินัยการเงินการคลังของรัฐทุกประการ ผมขอให้ประชาชนทุกคนที่ได้รับสิทธิร่วมกันใช้จ่ายด้วยความภาคภูมิใจ โดยทุกคนล้วนเป็นผู้ร่วมสร้างการเจริญเติบโตและความมั่นคงทางเศรษฐกิจให้กับประเทศของเรา” นายเศรษฐา กล่าว', '– แลกเป็นเงินสดไม่ได้ แลกเปลี่ยนในตลาดต่างๆ ไม่ได้\\nประเภทร้านค้า\\n– ขอชี้แจงให้ชัดว่าใช้ซื้อสินค้าได้ทุกร้านค้า ไม่ได้จำกัดแต่ร้านที่อยู่ในระบบภาษี\\n– ไม่จำเป็นต้องจด VAT\\n– ร้านค้ารถเข็น ร้านโชห่วย ร้านค้าที่อยู่บนแอปเป๋าตัง ใช้ได้หมด แต่ต้องมีการลงทะเบียนรับสิทธิ์ และร้านค้าที่จะขึ้นเงินได้ต้องอยู่ในระบบภาษีเท่านั้น\\nนายเศรษฐา กล่าวว่า การจับจ่ายใช้สอย จะต้องเริ่มที่ชุมชนระดับอำเภอก่อนเสมอ ซึ่งเป็นการรดน้ำทั่วประเทศให้เขียวไปพร้อมๆ กัน ทำให้ทุกภาคส่วนมีส่วนร่วมในกิจกรรมทางเศรษฐกิจนี้ เงินตัวนี้จะเป็นเงินที่ให้ประชาชนช่วยกันกอบกู้เศรษฐกิจ ซึ่งจะนำมาสู่การลงทุนในภาคประชาชน ทั้งการรวมเงินในครัวเรือนเพื่อประกอบอาชีพ การซื้อ-ขายสินค้าของพ่อค้าแม่ค้า ไปจนถึงการสั่งผลิตสินค้าในโรงงาน SME ไปจนถึงโรงงานขนาดใหญ่', 'ตัวเลขทั้งหมดเกิดจากการที่รัฐบาลรับฟังความเห็น จากธนาคารแห่งประเทศไทย สภาพัฒน์ (สำนักงานสภาพัฒนาการเศรษฐกิจและสังคมแห่งชาติ) และหน่วยงานอื่นๆ ทำงานร่วมกัน และปรับเงื่อนไขโครงการดิจิทัลวอลเล็ต ให้รัดกุมขึ้น โดยรัฐบาลจะมอบสิทธิ์การใช้จ่าย 10,000 บาท ให้คนไทยที่มีอายุ 16 ปีขึ้นไป ที่มีรายได้ไม่ถึง 7 หมื่นบาทต่อเดือน และมีเงินฝากต่ำกว่า 5 แสนบาท\\n“เพื่อความชัดเจน ประโยคนี้แปลว่า ถ้ารายได้เกิน 7 หมื่นบาทแต่มีเงินฝากน้อยกว่า 5 แสนบาท ก็จะไม่ได้รับสิทธิ์ หรือถ้ารายได้น้อยกว่า 7 หมื่นบาท แต่มีเงินฝากมากกว่า 5 แสนบาท ก็จะไม่ได้รับสิทธิ์เช่นกัน โดยให้สิทธิ์ใช้ครั้งแรกในเวลา 6 เดือน หลังจากโครงการเริ่ม และขยายพื้นที่การใช้จ่ายให้ครอบคลุมระดับอำเภอตามที่ได้รับฟังความเห็นมา” นานเศรษฐา กล่าว\\n[โครงการ e-Refund ลดหย่อนภาษี ไม่เกิน 50,000 บาท สำหรับผู้ที่ได้สิทธิ์ ‘ดิจิทัลวอลเล็ต’]', 'เงินในส่วนที่เหลือของโครงการ รัฐบาลจะนำมาใส่ในกองทุนเพื่อลงทุนพัฒนาประเทศ เช่น กองทุนเพิ่มขีดความสามารถ ซึ่งบริหารและดูแลโดย คณะกรรมการฯ ที่มี BOI เป็นผู้จัดการ เป็นต้น ท่านอาจจะมีคำถามว่า อ่าวแล้วคนที่ไม่ได้รับสิทธินี้จะมีส่วนอย่างไรได้บ้าง รัฐบาลก็อยากขอให้พวกท่านช่วยกันมีส่วนร่วมในการกระตุ้นเศรษฐกิจ โดยเราจะออกโครงการ e-Refund ซึ่งประชาชนจะได้รับภาษีคืนจากการจับจ่ายสินค้าและบริการรวมมูลค่าไม่เกิน 50,000 บาท จากร้านค้า']\n",
      "DISTANCE : [5.323897764432121, 6.772280349439449, 7.095881756910696, 7.356132748670836, 7.500295155117163]\n"
     ]
    }
   ],
   "source": [
    "best_doc = ((results['documents'])[0])[:5]\n",
    "distance = ((results['distances'])[0])[:5]\n",
    "\n",
    "print(F\"BEST RESULT : {best_doc}\\nDISTANCE : {distance}\")"
   ]
  },
  {
   "cell_type": "code",
   "execution_count": 6,
   "metadata": {},
   "outputs": [
    {
     "name": "stdout",
     "output_type": "stream",
     "text": [
      "N : 5\n",
      "The 1st : นายกฯ ‘เศรษฐา’ ตัดจบ ‘ดิจิทัลวอลเล็ต 10,000 บาท’ ให้ 50 ล้านคน กำหนดเงื่อนไข เงินเดือนไม่ถึง 70,000 บาท เงินฝากต่ำกว่า 500,000 บาท ต้องออก ‘พ.ร.บ.กู้เงิน’\n",
      "เวลา 14.00 น. วันนี้ (10 พ.ย. 66) นายเศรษฐา ทวีสิน เปิดแถลงข่าว นโยบายโครงการเติมเงิน 10,000 บาท ผ่าน Digital Wallet (ดิจิทัลวอลเล็ต) ตามที่ได้แจ้งนัดหมายไว้\n",
      "นายเศรษฐา กล่าวว่า โครงการดิจิทัลวอลเล็ต ไม่ใช่แค่ความฝัน แต่กำลังเป็นความจริง รัฐบาลได้หาข้อสรุปที่ดีที่สุดในการกระตุ้นและสร้างความมั่นคงทางเศรษฐกิจ ผ่านการเติมเงินลงไปในระบบเศรษฐกิจ มูลค่า 6 แสนล้านบาท ซึ่งจะอยู่ในโครงการดิจิทัลวอลเล็ต 5 แสนล้านบาท ครอบคลุม 50 ล้านคน และอีก 1 แสนล้านบาท ในกองทุนเพิ่มขีดความสามารถ และทุกอย่างที่แถลงในวันนี้จะยังต้องผ่านกระบวนการตามกฎหมาย และต้องมีมติของคณะกรรมการที่เกี่ยวข้อง ก่อนจะสรุปอีกครั้ง\n"
     ]
    }
   ],
   "source": [
    "print(f\"N : {len(best_doc)}\\nThe 1st : {best_doc[0]}\")"
   ]
  },
  {
   "cell_type": "code",
   "execution_count": 5,
   "metadata": {},
   "outputs": [
    {
     "name": "stdout",
     "output_type": "stream",
     "text": [
      "Sentence transformer : 2.3.1\n"
     ]
    }
   ],
   "source": [
    "import sentence_transformers\n",
    "\n",
    "print(f\"Sentence transformer : {sentence_transformers.__version__}\")"
   ]
  },
  {
   "cell_type": "code",
   "execution_count": 14,
   "metadata": {},
   "outputs": [],
   "source": [
    "from sentence_transformers import SentenceTransformer, util\n",
    "\n",
    "model_name = \"sentence-transformers/paraphrase-multilingual-mpnet-base-v2\"\n",
    "model = SentenceTransformer(model_name)\n",
    "\n",
    "# Two lists of sentences\n",
    "sentences1 = [\n",
    "    \"เศรษฐาคือใคร ทำอะไร\",\n",
    "    \"เงื่อนไขการรับเงินบาทดิจิทัล\"\n",
    "]\n",
    "\n",
    "sentences2 = [best_doc[i] for i in range( len(best_doc) )]\n",
    "\n",
    "# Compute embedding for both lists\n",
    "embeddings1 = model.encode(sentences1, convert_to_tensor=True)\n",
    "embeddings2 = model.encode(sentences2, convert_to_tensor=True)\n",
    "\n",
    "# Compute cosine-similarities\n",
    "cosine_scores = util.cos_sim(embeddings1, embeddings2)"
   ]
  },
  {
   "cell_type": "code",
   "execution_count": 26,
   "metadata": {},
   "outputs": [
    {
     "name": "stdout",
     "output_type": "stream",
     "text": [
      "{'q': ['เศรษฐาคือใคร ทำอะไร', 'เศรษฐาคือใคร ทำอะไร', 'เศรษฐาคือใคร ทำอะไร', 'เศรษฐาคือใคร ทำอะไร', 'เศรษฐาคือใคร ทำอะไร', 'เงื่อนไขการรับเงินบาทดิจิทัล', 'เงื่อนไขการรับเงินบาทดิจิทัล', 'เงื่อนไขการรับเงินบาทดิจิทัล', 'เงื่อนไขการรับเงินบาทดิจิทัล', 'เงื่อนไขการรับเงินบาทดิจิทัล'], 'a': ['นายกฯ ‘เศรษฐา’ ตัดจบ ‘ดิจิทัลวอลเล็ต 10,000 บาท’ ให้ 50 ล้านคน กำหนดเงื่อนไข เงินเดือนไม่ถึง 70,000 บาท เงินฝากต่ำกว่า 500,000 บาท ต้องออก ‘พ.ร.บ.กู้เงิน’\\nเวลา 14.00 น. วันนี้ (10 พ.ย. 66) นายเศรษฐา ทวีสิน เปิดแถลงข่าว นโยบายโครงการเติมเงิน 10,000 บาท ผ่าน Digital Wallet (ดิจิทัลวอลเล็ต) ตามที่ได้แจ้งนัดหมายไว้\\nนายเศรษฐา กล่าวว่า โครงการดิจิทัลวอลเล็ต ไม่ใช่แค่ความฝัน แต่กำลังเป็นความจริง รัฐบาลได้หาข้อสรุปที่ดีที่สุดในการกระตุ้นและสร้างความมั่นคงทางเศรษฐกิจ ผ่านการเติมเงินลงไปในระบบเศรษฐกิจ มูลค่า 6 แสนล้านบาท ซึ่งจะอยู่ในโครงการดิจิทัลวอลเล็ต 5 แสนล้านบาท ครอบคลุม 50 ล้านคน และอีก 1 แสนล้านบาท ในกองทุนเพิ่มขีดความสามารถ และทุกอย่างที่แถลงในวันนี้จะยังต้องผ่านกระบวนการตามกฎหมาย และต้องมีมติของคณะกรรมการที่เกี่ยวข้อง ก่อนจะสรุปอีกครั้ง', '2. วางโครงสร้างพื้นฐานเพื่อนำไปสู่เศรษฐกิจดิจิทัลและ E-Government ซึ่งเป็นการวางและแก้ไขปัญหาเชิงโครงสร้างของประเทศในระยะยาว\\n“ยาอีกครั้งนะครับ นี่ไม่ใช่การสงเคราะห์ประชาชนผู้ยากไร้ แต่เป็นการเติมเงินลงไปในระบบเศรษฐกิจผ่านสิทธิการใช้จ่าย เพื่อให้ประชาชนมีบทบาทร่วมกับรัฐบาล (Partnership) ในการพลิกฟื้นเศรษฐกิจของประเทศ ในขณะที่ยังรักษาวินัยการเงินการคลังของรัฐทุกประการ ผมขอให้ประชาชนทุกคนที่ได้รับสิทธิร่วมกันใช้จ่ายด้วยความภาคภูมิใจ โดยทุกคนล้วนเป็นผู้ร่วมสร้างการเจริญเติบโตและความมั่นคงทางเศรษฐกิจให้กับประเทศของเรา” นายเศรษฐา กล่าว', '– แลกเป็นเงินสดไม่ได้ แลกเปลี่ยนในตลาดต่างๆ ไม่ได้\\nประเภทร้านค้า\\n– ขอชี้แจงให้ชัดว่าใช้ซื้อสินค้าได้ทุกร้านค้า ไม่ได้จำกัดแต่ร้านที่อยู่ในระบบภาษี\\n– ไม่จำเป็นต้องจด VAT\\n– ร้านค้ารถเข็น ร้านโชห่วย ร้านค้าที่อยู่บนแอปเป๋าตัง ใช้ได้หมด แต่ต้องมีการลงทะเบียนรับสิทธิ์ และร้านค้าที่จะขึ้นเงินได้ต้องอยู่ในระบบภาษีเท่านั้น\\nนายเศรษฐา กล่าวว่า การจับจ่ายใช้สอย จะต้องเริ่มที่ชุมชนระดับอำเภอก่อนเสมอ ซึ่งเป็นการรดน้ำทั่วประเทศให้เขียวไปพร้อมๆ กัน ทำให้ทุกภาคส่วนมีส่วนร่วมในกิจกรรมทางเศรษฐกิจนี้ เงินตัวนี้จะเป็นเงินที่ให้ประชาชนช่วยกันกอบกู้เศรษฐกิจ ซึ่งจะนำมาสู่การลงทุนในภาคประชาชน ทั้งการรวมเงินในครัวเรือนเพื่อประกอบอาชีพ การซื้อ-ขายสินค้าของพ่อค้าแม่ค้า ไปจนถึงการสั่งผลิตสินค้าในโรงงาน SME ไปจนถึงโรงงานขนาดใหญ่', 'ตัวเลขทั้งหมดเกิดจากการที่รัฐบาลรับฟังความเห็น จากธนาคารแห่งประเทศไทย สภาพัฒน์ (สำนักงานสภาพัฒนาการเศรษฐกิจและสังคมแห่งชาติ) และหน่วยงานอื่นๆ ทำงานร่วมกัน และปรับเงื่อนไขโครงการดิจิทัลวอลเล็ต ให้รัดกุมขึ้น โดยรัฐบาลจะมอบสิทธิ์การใช้จ่าย 10,000 บาท ให้คนไทยที่มีอายุ 16 ปีขึ้นไป ที่มีรายได้ไม่ถึง 7 หมื่นบาทต่อเดือน และมีเงินฝากต่ำกว่า 5 แสนบาท\\n“เพื่อความชัดเจน ประโยคนี้แปลว่า ถ้ารายได้เกิน 7 หมื่นบาทแต่มีเงินฝากน้อยกว่า 5 แสนบาท ก็จะไม่ได้รับสิทธิ์ หรือถ้ารายได้น้อยกว่า 7 หมื่นบาท แต่มีเงินฝากมากกว่า 5 แสนบาท ก็จะไม่ได้รับสิทธิ์เช่นกัน โดยให้สิทธิ์ใช้ครั้งแรกในเวลา 6 เดือน หลังจากโครงการเริ่ม และขยายพื้นที่การใช้จ่ายให้ครอบคลุมระดับอำเภอตามที่ได้รับฟังความเห็นมา” นานเศรษฐา กล่าว\\n[โครงการ e-Refund ลดหย่อนภาษี ไม่เกิน 50,000 บาท สำหรับผู้ที่ได้สิทธิ์ ‘ดิจิทัลวอลเล็ต’]', 'เงินในส่วนที่เหลือของโครงการ รัฐบาลจะนำมาใส่ในกองทุนเพื่อลงทุนพัฒนาประเทศ เช่น กองทุนเพิ่มขีดความสามารถ ซึ่งบริหารและดูแลโดย คณะกรรมการฯ ที่มี BOI เป็นผู้จัดการ เป็นต้น ท่านอาจจะมีคำถามว่า อ่าวแล้วคนที่ไม่ได้รับสิทธินี้จะมีส่วนอย่างไรได้บ้าง รัฐบาลก็อยากขอให้พวกท่านช่วยกันมีส่วนร่วมในการกระตุ้นเศรษฐกิจ โดยเราจะออกโครงการ e-Refund ซึ่งประชาชนจะได้รับภาษีคืนจากการจับจ่ายสินค้าและบริการรวมมูลค่าไม่เกิน 50,000 บาท จากร้านค้า', 'นายกฯ ‘เศรษฐา’ ตัดจบ ‘ดิจิทัลวอลเล็ต 10,000 บาท’ ให้ 50 ล้านคน กำหนดเงื่อนไข เงินเดือนไม่ถึง 70,000 บาท เงินฝากต่ำกว่า 500,000 บาท ต้องออก ‘พ.ร.บ.กู้เงิน’\\nเวลา 14.00 น. วันนี้ (10 พ.ย. 66) นายเศรษฐา ทวีสิน เปิดแถลงข่าว นโยบายโครงการเติมเงิน 10,000 บาท ผ่าน Digital Wallet (ดิจิทัลวอลเล็ต) ตามที่ได้แจ้งนัดหมายไว้\\nนายเศรษฐา กล่าวว่า โครงการดิจิทัลวอลเล็ต ไม่ใช่แค่ความฝัน แต่กำลังเป็นความจริง รัฐบาลได้หาข้อสรุปที่ดีที่สุดในการกระตุ้นและสร้างความมั่นคงทางเศรษฐกิจ ผ่านการเติมเงินลงไปในระบบเศรษฐกิจ มูลค่า 6 แสนล้านบาท ซึ่งจะอยู่ในโครงการดิจิทัลวอลเล็ต 5 แสนล้านบาท ครอบคลุม 50 ล้านคน และอีก 1 แสนล้านบาท ในกองทุนเพิ่มขีดความสามารถ และทุกอย่างที่แถลงในวันนี้จะยังต้องผ่านกระบวนการตามกฎหมาย และต้องมีมติของคณะกรรมการที่เกี่ยวข้อง ก่อนจะสรุปอีกครั้ง', '2. วางโครงสร้างพื้นฐานเพื่อนำไปสู่เศรษฐกิจดิจิทัลและ E-Government ซึ่งเป็นการวางและแก้ไขปัญหาเชิงโครงสร้างของประเทศในระยะยาว\\n“ยาอีกครั้งนะครับ นี่ไม่ใช่การสงเคราะห์ประชาชนผู้ยากไร้ แต่เป็นการเติมเงินลงไปในระบบเศรษฐกิจผ่านสิทธิการใช้จ่าย เพื่อให้ประชาชนมีบทบาทร่วมกับรัฐบาล (Partnership) ในการพลิกฟื้นเศรษฐกิจของประเทศ ในขณะที่ยังรักษาวินัยการเงินการคลังของรัฐทุกประการ ผมขอให้ประชาชนทุกคนที่ได้รับสิทธิร่วมกันใช้จ่ายด้วยความภาคภูมิใจ โดยทุกคนล้วนเป็นผู้ร่วมสร้างการเจริญเติบโตและความมั่นคงทางเศรษฐกิจให้กับประเทศของเรา” นายเศรษฐา กล่าว', '– แลกเป็นเงินสดไม่ได้ แลกเปลี่ยนในตลาดต่างๆ ไม่ได้\\nประเภทร้านค้า\\n– ขอชี้แจงให้ชัดว่าใช้ซื้อสินค้าได้ทุกร้านค้า ไม่ได้จำกัดแต่ร้านที่อยู่ในระบบภาษี\\n– ไม่จำเป็นต้องจด VAT\\n– ร้านค้ารถเข็น ร้านโชห่วย ร้านค้าที่อยู่บนแอปเป๋าตัง ใช้ได้หมด แต่ต้องมีการลงทะเบียนรับสิทธิ์ และร้านค้าที่จะขึ้นเงินได้ต้องอยู่ในระบบภาษีเท่านั้น\\nนายเศรษฐา กล่าวว่า การจับจ่ายใช้สอย จะต้องเริ่มที่ชุมชนระดับอำเภอก่อนเสมอ ซึ่งเป็นการรดน้ำทั่วประเทศให้เขียวไปพร้อมๆ กัน ทำให้ทุกภาคส่วนมีส่วนร่วมในกิจกรรมทางเศรษฐกิจนี้ เงินตัวนี้จะเป็นเงินที่ให้ประชาชนช่วยกันกอบกู้เศรษฐกิจ ซึ่งจะนำมาสู่การลงทุนในภาคประชาชน ทั้งการรวมเงินในครัวเรือนเพื่อประกอบอาชีพ การซื้อ-ขายสินค้าของพ่อค้าแม่ค้า ไปจนถึงการสั่งผลิตสินค้าในโรงงาน SME ไปจนถึงโรงงานขนาดใหญ่', 'ตัวเลขทั้งหมดเกิดจากการที่รัฐบาลรับฟังความเห็น จากธนาคารแห่งประเทศไทย สภาพัฒน์ (สำนักงานสภาพัฒนาการเศรษฐกิจและสังคมแห่งชาติ) และหน่วยงานอื่นๆ ทำงานร่วมกัน และปรับเงื่อนไขโครงการดิจิทัลวอลเล็ต ให้รัดกุมขึ้น โดยรัฐบาลจะมอบสิทธิ์การใช้จ่าย 10,000 บาท ให้คนไทยที่มีอายุ 16 ปีขึ้นไป ที่มีรายได้ไม่ถึง 7 หมื่นบาทต่อเดือน และมีเงินฝากต่ำกว่า 5 แสนบาท\\n“เพื่อความชัดเจน ประโยคนี้แปลว่า ถ้ารายได้เกิน 7 หมื่นบาทแต่มีเงินฝากน้อยกว่า 5 แสนบาท ก็จะไม่ได้รับสิทธิ์ หรือถ้ารายได้น้อยกว่า 7 หมื่นบาท แต่มีเงินฝากมากกว่า 5 แสนบาท ก็จะไม่ได้รับสิทธิ์เช่นกัน โดยให้สิทธิ์ใช้ครั้งแรกในเวลา 6 เดือน หลังจากโครงการเริ่ม และขยายพื้นที่การใช้จ่ายให้ครอบคลุมระดับอำเภอตามที่ได้รับฟังความเห็นมา” นานเศรษฐา กล่าว\\n[โครงการ e-Refund ลดหย่อนภาษี ไม่เกิน 50,000 บาท สำหรับผู้ที่ได้สิทธิ์ ‘ดิจิทัลวอลเล็ต’]', 'เงินในส่วนที่เหลือของโครงการ รัฐบาลจะนำมาใส่ในกองทุนเพื่อลงทุนพัฒนาประเทศ เช่น กองทุนเพิ่มขีดความสามารถ ซึ่งบริหารและดูแลโดย คณะกรรมการฯ ที่มี BOI เป็นผู้จัดการ เป็นต้น ท่านอาจจะมีคำถามว่า อ่าวแล้วคนที่ไม่ได้รับสิทธินี้จะมีส่วนอย่างไรได้บ้าง รัฐบาลก็อยากขอให้พวกท่านช่วยกันมีส่วนร่วมในการกระตุ้นเศรษฐกิจ โดยเราจะออกโครงการ e-Refund ซึ่งประชาชนจะได้รับภาษีคืนจากการจับจ่ายสินค้าและบริการรวมมูลค่าไม่เกิน 50,000 บาท จากร้านค้า'], 'score': [0.25227484107017517, 0.21371962130069733, 0.0994090884923935, 0.0793738067150116, 0.10803481191396713, 0.656807005405426, 0.5256420969963074, 0.480589896440506, 0.5143066048622131, 0.40481430292129517]}\n"
     ]
    }
   ],
   "source": [
    "# Output the pairs with their score\n",
    "\n",
    "see = {'q':[], 'a':[], 'score':[]}\n",
    "for i in range(len(sentences1)):\n",
    "    for j in range(len(sentences2)):\n",
    "        see['q'].append(sentences1[i])\n",
    "        see['a'].append(sentences2[j])\n",
    "        see['score'].append( float(cosine_scores[i][j]) )\n",
    "\n",
    "print(see)"
   ]
  },
  {
   "cell_type": "code",
   "execution_count": 15,
   "metadata": {},
   "outputs": [
    {
     "data": {
      "text/plain": [
       "tensor([[0.2523, 0.2137, 0.0994, 0.0794, 0.1080],\n",
       "        [0.6568, 0.5256, 0.4806, 0.5143, 0.4048]])"
      ]
     },
     "execution_count": 15,
     "metadata": {},
     "output_type": "execute_result"
    }
   ],
   "source": [
    "cosine_scores"
   ]
  },
  {
   "cell_type": "code",
   "execution_count": 23,
   "metadata": {},
   "outputs": [
    {
     "data": {
      "text/plain": [
       "tensor(0.6568)"
      ]
     },
     "execution_count": 23,
     "metadata": {},
     "output_type": "execute_result"
    }
   ],
   "source": [
    "cosine_scores.max()"
   ]
  },
  {
   "cell_type": "code",
   "execution_count": 21,
   "metadata": {},
   "outputs": [
    {
     "data": {
      "text/plain": [
       "0.5256420969963074"
      ]
     },
     "execution_count": 21,
     "metadata": {},
     "output_type": "execute_result"
    }
   ],
   "source": [
    "float(cosine_scores[1][1])"
   ]
  },
  {
   "cell_type": "code",
   "execution_count": 27,
   "metadata": {},
   "outputs": [
    {
     "name": "stdout",
     "output_type": "stream",
     "text": [
      "นายกฯ ‘เศรษฐา’ ตัดจบ ‘ดิจิทัลวอลเล็ต 10,000 บาท’ ให้ 50 ล้านคน กำหนดเงื่อนไข เงินเดือนไม่ถึง 70,000 บาท เงินฝากต่ำกว่า 500,000 บาท ต้องออก ‘พ.ร.บ.กู้เงิน’\n",
      "เวลา 14.00 น. วันนี้ (10 พ.ย. 66) นายเศรษฐา ทวีสิน เปิดแถลงข่าว นโยบายโครงการเติมเงิน 10,000 บาท ผ่าน Digital Wallet (ดิจิทัลวอลเล็ต) ตามที่ได้แจ้งนัดหมายไว้\n",
      "นายเศรษฐา กล่าวว่า โครงการดิจิทัลวอลเล็ต ไม่ใช่แค่ความฝัน แต่กำลังเป็นความจริง รัฐบาลได้หาข้อสรุปที่ดีที่สุดในการกระตุ้นและสร้างความมั่นคงทางเศรษฐกิจ ผ่านการเติมเงินลงไปในระบบเศรษฐกิจ มูลค่า 6 แสนล้านบาท ซึ่งจะอยู่ในโครงการดิจิทัลวอลเล็ต 5 แสนล้านบาท ครอบคลุม 50 ล้านคน และอีก 1 แสนล้านบาท ในกองทุนเพิ่มขีดความสามารถ และทุกอย่างที่แถลงในวันนี้จะยังต้องผ่านกระบวนการตามกฎหมาย และต้องมีมติของคณะกรรมการที่เกี่ยวข้อง ก่อนจะสรุปอีกครั้ง\n"
     ]
    }
   ],
   "source": [
    "for i in see['score']:\n",
    "    if i == float(cosine_scores.max()):\n",
    "        retrieve_doc = see['score'].index(i)\n",
    "        print(see['a'][retrieve_doc])"
   ]
  },
  {
   "cell_type": "code",
   "execution_count": 5,
   "metadata": {},
   "outputs": [
    {
     "ename": "ValueError",
     "evalue": "Collection Table-0 does not exist.",
     "output_type": "error",
     "traceback": [
      "\u001b[1;31m---------------------------------------------------------------------------\u001b[0m",
      "\u001b[1;31mValueError\u001b[0m                                Traceback (most recent call last)",
      "\u001b[1;32m~\\AppData\\Local\\Temp\\ipykernel_9636\\880347230.py\u001b[0m in \u001b[0;36m<cell line: 1>\u001b[1;34m()\u001b[0m\n\u001b[1;32m----> 1\u001b[1;33m \u001b[0mdb\u001b[0m\u001b[1;33m.\u001b[0m\u001b[0mremove_db\u001b[0m\u001b[1;33m(\u001b[0m\u001b[0mtable_name\u001b[0m\u001b[1;33m=\u001b[0m\u001b[0mtn\u001b[0m\u001b[1;33m)\u001b[0m\u001b[1;33m\u001b[0m\u001b[1;33m\u001b[0m\u001b[0m\n\u001b[0m",
      "\u001b[1;32md:\\DATA_Science\\GitHub\\LawDocuments-Chatbot\\app\\m_vector_db.py\u001b[0m in \u001b[0;36mremove_db\u001b[1;34m(self, table_name)\u001b[0m\n\u001b[0;32m     25\u001b[0m \u001b[1;33m\u001b[0m\u001b[0m\n\u001b[0;32m     26\u001b[0m         \u001b[1;32mif\u001b[0m \u001b[0mos\u001b[0m\u001b[1;33m.\u001b[0m\u001b[0mpath\u001b[0m\u001b[1;33m.\u001b[0m\u001b[0mexists\u001b[0m\u001b[1;33m(\u001b[0m\u001b[0mself\u001b[0m\u001b[1;33m.\u001b[0m\u001b[0mdb_path\u001b[0m\u001b[1;33m/\u001b[0m\u001b[1;34m\"vectors_db\"\u001b[0m\u001b[1;33m)\u001b[0m\u001b[1;33m:\u001b[0m\u001b[1;33m\u001b[0m\u001b[1;33m\u001b[0m\u001b[0m\n\u001b[1;32m---> 27\u001b[1;33m             \u001b[0mself\u001b[0m\u001b[1;33m.\u001b[0m\u001b[0mdb\u001b[0m\u001b[1;33m.\u001b[0m\u001b[0mdelete_collection\u001b[0m\u001b[1;33m(\u001b[0m\u001b[0mname\u001b[0m \u001b[1;33m=\u001b[0m \u001b[0mtable_name\u001b[0m\u001b[1;33m)\u001b[0m\u001b[1;33m\u001b[0m\u001b[1;33m\u001b[0m\u001b[0m\n\u001b[0m\u001b[0;32m     28\u001b[0m             \u001b[0mshutil\u001b[0m\u001b[1;33m.\u001b[0m\u001b[0mrmtree\u001b[0m\u001b[1;33m(\u001b[0m\u001b[0mself\u001b[0m\u001b[1;33m.\u001b[0m\u001b[0mdb_path\u001b[0m\u001b[1;33m/\u001b[0m\u001b[1;34m\"vectors_db\"\u001b[0m\u001b[1;33m)\u001b[0m\u001b[1;33m\u001b[0m\u001b[1;33m\u001b[0m\u001b[0m\n\u001b[0;32m     29\u001b[0m \u001b[1;33m\u001b[0m\u001b[0m\n",
      "\u001b[1;32m~\\AppData\\Roaming\\Python\\Python310\\site-packages\\chromadb\\api\\client.py\u001b[0m in \u001b[0;36mdelete_collection\u001b[1;34m(self, name)\u001b[0m\n\u001b[0;32m    262\u001b[0m         \u001b[0mname\u001b[0m\u001b[1;33m:\u001b[0m \u001b[0mstr\u001b[0m\u001b[1;33m,\u001b[0m\u001b[1;33m\u001b[0m\u001b[1;33m\u001b[0m\u001b[0m\n\u001b[0;32m    263\u001b[0m     ) -> None:\n\u001b[1;32m--> 264\u001b[1;33m         return self._server.delete_collection(\n\u001b[0m\u001b[0;32m    265\u001b[0m             \u001b[0mname\u001b[0m\u001b[1;33m=\u001b[0m\u001b[0mname\u001b[0m\u001b[1;33m,\u001b[0m\u001b[1;33m\u001b[0m\u001b[1;33m\u001b[0m\u001b[0m\n\u001b[0;32m    266\u001b[0m             \u001b[0mtenant\u001b[0m\u001b[1;33m=\u001b[0m\u001b[0mself\u001b[0m\u001b[1;33m.\u001b[0m\u001b[0mtenant\u001b[0m\u001b[1;33m,\u001b[0m\u001b[1;33m\u001b[0m\u001b[1;33m\u001b[0m\u001b[0m\n",
      "\u001b[1;32m~\\AppData\\Roaming\\Python\\Python310\\site-packages\\chromadb\\telemetry\\opentelemetry\\__init__.py\u001b[0m in \u001b[0;36mwrapper\u001b[1;34m(*args, **kwargs)\u001b[0m\n\u001b[0;32m    125\u001b[0m             \u001b[1;32mglobal\u001b[0m \u001b[0mtracer\u001b[0m\u001b[1;33m,\u001b[0m \u001b[0mgranularity\u001b[0m\u001b[1;33m\u001b[0m\u001b[1;33m\u001b[0m\u001b[0m\n\u001b[0;32m    126\u001b[0m             \u001b[1;32mif\u001b[0m \u001b[0mtrace_granularity\u001b[0m \u001b[1;33m<\u001b[0m \u001b[0mgranularity\u001b[0m\u001b[1;33m:\u001b[0m\u001b[1;33m\u001b[0m\u001b[1;33m\u001b[0m\u001b[0m\n\u001b[1;32m--> 127\u001b[1;33m                 \u001b[1;32mreturn\u001b[0m \u001b[0mf\u001b[0m\u001b[1;33m(\u001b[0m\u001b[1;33m*\u001b[0m\u001b[0margs\u001b[0m\u001b[1;33m,\u001b[0m \u001b[1;33m**\u001b[0m\u001b[0mkwargs\u001b[0m\u001b[1;33m)\u001b[0m\u001b[1;33m\u001b[0m\u001b[1;33m\u001b[0m\u001b[0m\n\u001b[0m\u001b[0;32m    128\u001b[0m             \u001b[1;32mif\u001b[0m \u001b[1;32mnot\u001b[0m \u001b[0mtracer\u001b[0m\u001b[1;33m:\u001b[0m\u001b[1;33m\u001b[0m\u001b[1;33m\u001b[0m\u001b[0m\n\u001b[0;32m    129\u001b[0m                 \u001b[1;32mreturn\u001b[0m \u001b[0mf\u001b[0m\u001b[1;33m(\u001b[0m\u001b[1;33m*\u001b[0m\u001b[0margs\u001b[0m\u001b[1;33m,\u001b[0m \u001b[1;33m**\u001b[0m\u001b[0mkwargs\u001b[0m\u001b[1;33m)\u001b[0m\u001b[1;33m\u001b[0m\u001b[1;33m\u001b[0m\u001b[0m\n",
      "\u001b[1;32m~\\AppData\\Roaming\\Python\\Python310\\site-packages\\chromadb\\api\\segment.py\u001b[0m in \u001b[0;36mdelete_collection\u001b[1;34m(self, name, tenant, database)\u001b[0m\n\u001b[0;32m    344\u001b[0m                 \u001b[1;32mdel\u001b[0m \u001b[0mself\u001b[0m\u001b[1;33m.\u001b[0m\u001b[0m_collection_cache\u001b[0m\u001b[1;33m[\u001b[0m\u001b[0mexisting\u001b[0m\u001b[1;33m[\u001b[0m\u001b[1;36m0\u001b[0m\u001b[1;33m]\u001b[0m\u001b[1;33m[\u001b[0m\u001b[1;34m\"id\"\u001b[0m\u001b[1;33m]\u001b[0m\u001b[1;33m]\u001b[0m\u001b[1;33m\u001b[0m\u001b[1;33m\u001b[0m\u001b[0m\n\u001b[0;32m    345\u001b[0m         \u001b[1;32melse\u001b[0m\u001b[1;33m:\u001b[0m\u001b[1;33m\u001b[0m\u001b[1;33m\u001b[0m\u001b[0m\n\u001b[1;32m--> 346\u001b[1;33m             \u001b[1;32mraise\u001b[0m \u001b[0mValueError\u001b[0m\u001b[1;33m(\u001b[0m\u001b[1;34mf\"Collection {name} does not exist.\"\u001b[0m\u001b[1;33m)\u001b[0m\u001b[1;33m\u001b[0m\u001b[1;33m\u001b[0m\u001b[0m\n\u001b[0m\u001b[0;32m    347\u001b[0m \u001b[1;33m\u001b[0m\u001b[0m\n\u001b[0;32m    348\u001b[0m     \u001b[1;33m@\u001b[0m\u001b[0mtrace_method\u001b[0m\u001b[1;33m(\u001b[0m\u001b[1;34m\"SegmentAPI._add\"\u001b[0m\u001b[1;33m,\u001b[0m \u001b[0mOpenTelemetryGranularity\u001b[0m\u001b[1;33m.\u001b[0m\u001b[0mOPERATION\u001b[0m\u001b[1;33m)\u001b[0m\u001b[1;33m\u001b[0m\u001b[1;33m\u001b[0m\u001b[0m\n",
      "\u001b[1;31mValueError\u001b[0m: Collection Table-0 does not exist."
     ]
    }
   ],
   "source": [
    "db.remove_db(table_name=tn)"
   ]
  },
  {
   "cell_type": "code",
   "execution_count": 4,
   "metadata": {},
   "outputs": [
    {
     "name": "stdout",
     "output_type": "stream",
     "text": [
      "banana\n"
     ]
    }
   ],
   "source": [
    "thislist = [\"apple\", \"banana\", \"cherry\"]\n",
    "thislist.pop(0)\n",
    "\n",
    "print(thislist[0])"
   ]
  },
  {
   "cell_type": "markdown",
   "metadata": {},
   "source": [
    "# LLM Test"
   ]
  },
  {
   "cell_type": "code",
   "execution_count": 1,
   "metadata": {},
   "outputs": [
    {
     "name": "stdout",
     "output_type": "stream",
     "text": [
      "Requirement already satisfied: openai in /Users/hikarii/anaconda3/lib/python3.10/site-packages (1.1.1)\n",
      "Requirement already satisfied: anyio<4,>=3.5.0 in /Users/hikarii/anaconda3/lib/python3.10/site-packages (from openai) (3.5.0)\n",
      "Requirement already satisfied: httpx<1,>=0.23.0 in /Users/hikarii/anaconda3/lib/python3.10/site-packages (from openai) (0.25.1)\n",
      "Requirement already satisfied: pydantic<3,>=1.9.0 in /Users/hikarii/anaconda3/lib/python3.10/site-packages (from openai) (2.4.2)\n",
      "Requirement already satisfied: typing-extensions<5,>=4.5 in /Users/hikarii/anaconda3/lib/python3.10/site-packages (from openai) (4.8.0)\n",
      "Requirement already satisfied: distro<2,>=1.7.0 in /Users/hikarii/anaconda3/lib/python3.10/site-packages (from openai) (1.8.0)\n",
      "Requirement already satisfied: tqdm>4 in /Users/hikarii/anaconda3/lib/python3.10/site-packages (from openai) (4.66.1)\n",
      "Requirement already satisfied: sniffio>=1.1 in /Users/hikarii/anaconda3/lib/python3.10/site-packages (from anyio<4,>=3.5.0->openai) (1.2.0)\n",
      "Requirement already satisfied: idna>=2.8 in /Users/hikarii/anaconda3/lib/python3.10/site-packages (from anyio<4,>=3.5.0->openai) (3.4)\n",
      "Requirement already satisfied: httpcore in /Users/hikarii/anaconda3/lib/python3.10/site-packages (from httpx<1,>=0.23.0->openai) (1.0.1)\n",
      "Requirement already satisfied: certifi in /Users/hikarii/anaconda3/lib/python3.10/site-packages (from httpx<1,>=0.23.0->openai) (2023.11.17)\n",
      "Requirement already satisfied: pydantic-core==2.10.1 in /Users/hikarii/anaconda3/lib/python3.10/site-packages (from pydantic<3,>=1.9.0->openai) (2.10.1)\n",
      "Requirement already satisfied: annotated-types>=0.4.0 in /Users/hikarii/anaconda3/lib/python3.10/site-packages (from pydantic<3,>=1.9.0->openai) (0.6.0)\n",
      "Requirement already satisfied: h11<0.15,>=0.13 in /Users/hikarii/anaconda3/lib/python3.10/site-packages (from httpcore->httpx<1,>=0.23.0->openai) (0.14.0)\n",
      "Requirement already satisfied: openai in /Users/hikarii/anaconda3/lib/python3.10/site-packages (1.1.1)\n",
      "Collecting openai\n",
      "  Downloading openai-1.12.0-py3-none-any.whl (226 kB)\n",
      "\u001b[2K     \u001b[90m━━━━━━━━━━━━━━━━━━━━━━━━━━━━━━━━━━━━━━━\u001b[0m \u001b[32m226.7/226.7 kB\u001b[0m \u001b[31m6.6 MB/s\u001b[0m eta \u001b[36m0:00:00\u001b[0m\n",
      "\u001b[?25hRequirement already satisfied: tqdm>4 in /Users/hikarii/anaconda3/lib/python3.10/site-packages (from openai) (4.66.1)\n",
      "Requirement already satisfied: pydantic<3,>=1.9.0 in /Users/hikarii/anaconda3/lib/python3.10/site-packages (from openai) (2.4.2)\n",
      "Requirement already satisfied: anyio<5,>=3.5.0 in /Users/hikarii/anaconda3/lib/python3.10/site-packages (from openai) (3.5.0)\n",
      "Requirement already satisfied: httpx<1,>=0.23.0 in /Users/hikarii/anaconda3/lib/python3.10/site-packages (from openai) (0.25.1)\n",
      "Requirement already satisfied: distro<2,>=1.7.0 in /Users/hikarii/anaconda3/lib/python3.10/site-packages (from openai) (1.8.0)\n",
      "Requirement already satisfied: sniffio in /Users/hikarii/anaconda3/lib/python3.10/site-packages (from openai) (1.2.0)\n",
      "Requirement already satisfied: typing-extensions<5,>=4.7 in /Users/hikarii/anaconda3/lib/python3.10/site-packages (from openai) (4.8.0)\n",
      "Requirement already satisfied: idna>=2.8 in /Users/hikarii/anaconda3/lib/python3.10/site-packages (from anyio<5,>=3.5.0->openai) (3.4)\n",
      "Requirement already satisfied: certifi in /Users/hikarii/anaconda3/lib/python3.10/site-packages (from httpx<1,>=0.23.0->openai) (2023.11.17)\n",
      "Requirement already satisfied: httpcore in /Users/hikarii/anaconda3/lib/python3.10/site-packages (from httpx<1,>=0.23.0->openai) (1.0.1)\n",
      "Requirement already satisfied: annotated-types>=0.4.0 in /Users/hikarii/anaconda3/lib/python3.10/site-packages (from pydantic<3,>=1.9.0->openai) (0.6.0)\n",
      "Requirement already satisfied: pydantic-core==2.10.1 in /Users/hikarii/anaconda3/lib/python3.10/site-packages (from pydantic<3,>=1.9.0->openai) (2.10.1)\n",
      "Requirement already satisfied: h11<0.15,>=0.13 in /Users/hikarii/anaconda3/lib/python3.10/site-packages (from httpcore->httpx<1,>=0.23.0->openai) (0.14.0)\n",
      "Installing collected packages: openai\n",
      "  Attempting uninstall: openai\n",
      "    Found existing installation: openai 1.1.1\n",
      "    Uninstalling openai-1.1.1:\n",
      "      Successfully uninstalled openai-1.1.1\n",
      "Successfully installed openai-1.12.0\n"
     ]
    }
   ],
   "source": [
    "# !pip install cohere\n",
    "!pip install openai\n",
    "!pip install --upgrade openai"
   ]
  },
  {
   "cell_type": "code",
   "execution_count": 2,
   "metadata": {},
   "outputs": [
    {
     "name": "stdout",
     "output_type": "stream",
     "text": [
      "Name: cohere\n",
      "Version: 4.36\n",
      "Summary: \n",
      "Home-page: \n",
      "Author: Cohere\n",
      "Author-email: \n",
      "License: \n",
      "Location: /Users/hikarii/anaconda3/lib/python3.10/site-packages\n",
      "Requires: aiohttp, backoff, fastavro, importlib_metadata, requests, urllib3\n",
      "Required-by: \n",
      "Name: openai\n",
      "Version: 1.12.0\n",
      "Summary: The official Python library for the openai API\n",
      "Home-page: \n",
      "Author: \n",
      "Author-email: OpenAI <support@openai.com>\n",
      "License: \n",
      "Location: /Users/hikarii/anaconda3/lib/python3.10/site-packages\n",
      "Requires: anyio, distro, httpx, pydantic, sniffio, tqdm, typing-extensions\n",
      "Required-by: \n"
     ]
    }
   ],
   "source": [
    "!pip show cohere\n",
    "!pip show openai"
   ]
  },
  {
   "cell_type": "code",
   "execution_count": 8,
   "metadata": {},
   "outputs": [],
   "source": [
    "import cohere\n",
    "\n",
    "co = cohere.Client(cohere_api)"
   ]
  },
  {
   "cell_type": "code",
   "execution_count": 11,
   "metadata": {},
   "outputs": [
    {
     "name": "stdout",
     "output_type": "stream",
     "text": [
      "I can understand many languages to varying degrees of fluency; as an AI language model, my performance depends on the amount of data I have available to train on, as well as how widely spoken and studied a given language is. Here is a list of some of the top languages I can assist with: \n",
      "\n",
      "1. English (United States)\n",
      "2. Mandarin (Chinese)\n",
      "3. Spanish (Spain)\n",
      "4. Hindi (India)\n",
      "5. French (France)\n",
      "6. Arabic (Saudi Arabia)\n",
      "7. Portuguese (Brazil)\n",
      "8. Japanese (Japan)\n",
      "9. Russian (Russia)\n",
      "10. Italian (Italy)\n",
      "\n",
      "However, as an AI language model, I can understand many more languages to different degrees, and I aim to continuously learn and improve my understanding through new data and updates.\n"
     ]
    }
   ],
   "source": [
    "chat_history = []\n",
    "message = \"list the top 20 languages you can understand\"\n",
    "\t\n",
    "# generate a response with the current chat history\n",
    "response = co.chat(\n",
    "    message,\n",
    "    temperature=0.8,\n",
    "    chat_history=chat_history\n",
    ")\n",
    "answer = response.text\n",
    "    \n",
    "print(answer)\n",
    "\n",
    "# add message and answer to the chat history\n",
    "user_message = {\"user_name\": \"User\", \"text\": message}\n",
    "bot_message = {\"user_name\": \"Chatbot\", \"text\": answer}\n",
    "\n",
    "chat_history.append(user_message)\n",
    "chat_history.append(bot_message)"
   ]
  },
  {
   "cell_type": "code",
   "execution_count": 12,
   "metadata": {},
   "outputs": [
    {
     "name": "stdout",
     "output_type": "stream",
     "text": [
      "My training data is comprised of many different languages, including Thai. I cannot provide specific details about the proportion or amount of language data I have been trained on, but can assure you that it encompasses a diverse range of languages from different populations and regions. \n",
      "\n",
      "You can ask me specific questions in Thai, and I'll do my best to respond accurately and help you with the content you need.\n"
     ]
    }
   ],
   "source": [
    "message = \"what is the proportion of Thai language that you trained\"\n",
    "\t\n",
    "# generate a response with the current chat history\n",
    "response = co.chat(\n",
    "    message,\n",
    "    temperature=0.8,\n",
    "    chat_history=chat_history\n",
    ")\n",
    "answer = response.text\n",
    "    \n",
    "print(answer)\n",
    "\n",
    "# add message and answer to the chat history\n",
    "user_message = {\"user_name\": \"User\", \"text\": message}\n",
    "bot_message = {\"user_name\": \"Chatbot\", \"text\": answer}\n",
    "\n",
    "chat_history.append(user_message)\n",
    "chat_history.append(bot_message)"
   ]
  },
  {
   "cell_type": "code",
   "execution_count": 13,
   "metadata": {},
   "outputs": [
    {
     "name": "stdout",
     "output_type": "stream",
     "text": [
      "I am unable to understand this query sentences as it is written in Thai. Please restate your question in English, or opt for a virtual keyboard if you would like to type in Thai.\n"
     ]
    }
   ],
   "source": [
    "message = \"ผีตาโขนอยู่จังหวัดอะไร\"\n",
    "\t\n",
    "# generate a response with the current chat history\n",
    "response = co.chat(\n",
    "    message,\n",
    "    temperature=0.8,\n",
    "    chat_history=chat_history\n",
    ")\n",
    "answer = response.text\n",
    "    \n",
    "print(answer)\n",
    "\n",
    "# add message and answer to the chat history\n",
    "user_message = {\"user_name\": \"User\", \"text\": message}\n",
    "bot_message = {\"user_name\": \"Chatbot\", \"text\": answer}\n",
    "\n",
    "chat_history.append(user_message)\n",
    "chat_history.append(bot_message)"
   ]
  },
  {
   "cell_type": "code",
   "execution_count": 14,
   "metadata": {},
   "outputs": [
    {
     "data": {
      "text/plain": [
       "[{'user_name': 'User', 'text': 'list the top 20 languages you can understand'},\n",
       " {'user_name': 'Chatbot',\n",
       "  'text': 'I can understand many languages to varying degrees of fluency; as an AI language model, my performance depends on the amount of data I have available to train on, as well as how widely spoken and studied a given language is. Here is a list of some of the top languages I can assist with: \\n\\n1. English (United States)\\n2. Mandarin (Chinese)\\n3. Spanish (Spain)\\n4. Hindi (India)\\n5. French (France)\\n6. Arabic (Saudi Arabia)\\n7. Portuguese (Brazil)\\n8. Japanese (Japan)\\n9. Russian (Russia)\\n10. Italian (Italy)\\n\\nHowever, as an AI language model, I can understand many more languages to different degrees, and I aim to continuously learn and improve my understanding through new data and updates.'},\n",
       " {'user_name': 'User',\n",
       "  'text': 'what is the proportion of Thai language that you trained'},\n",
       " {'user_name': 'Chatbot',\n",
       "  'text': \"My training data is comprised of many different languages, including Thai. I cannot provide specific details about the proportion or amount of language data I have been trained on, but can assure you that it encompasses a diverse range of languages from different populations and regions. \\n\\nYou can ask me specific questions in Thai, and I'll do my best to respond accurately and help you with the content you need.\"},\n",
       " {'user_name': 'User', 'text': 'ผีตาโขนอยู่จังหวัดอะไร'},\n",
       " {'user_name': 'Chatbot',\n",
       "  'text': 'I am unable to understand this query sentences as it is written in Thai. Please restate your question in English, or opt for a virtual keyboard if you would like to type in Thai.'}]"
      ]
     },
     "execution_count": 14,
     "metadata": {},
     "output_type": "execute_result"
    }
   ],
   "source": [
    "chat_history"
   ]
  },
  {
   "cell_type": "code",
   "execution_count": null,
   "metadata": {},
   "outputs": [],
   "source": [
    "## mission abort, due to Laptop performance!\n",
    "## use API instead"
   ]
  },
  {
   "cell_type": "code",
   "execution_count": 8,
   "metadata": {},
   "outputs": [],
   "source": [
    "from openai import OpenAI\n",
    "\n",
    "client = OpenAI(api_key=openai_api)\n",
    "\n",
    "def get_response(messages, model=\"gpt-3.5-turbo-0125\", temperature=0):\n",
    "    response = client.chat.completions.create(\n",
    "        model=model,\n",
    "        messages=messages,\n",
    "        temperature=temperature, # this is the degree of randomness of the model's output\n",
    "    )\n",
    "    #     print(str(response.choices[0].message))\n",
    "    return response.choices[0].message.content"
   ]
  },
  {
   "cell_type": "code",
   "execution_count": 9,
   "metadata": {},
   "outputs": [
    {
     "name": "stdout",
     "output_type": "stream",
     "text": [
      "ถ้าคุณถูกรถชนและต้องการฟ้องคู่กรณี คุณสามารถทำตามขั้นตอนดังนี้:\n",
      "\n",
      "1. ระบุข้อมูลเกี่ยวกับเหตุการณ์: ระบุวันที่, เวลา, สถานที่ เหตุการณ์ที่เกิดขึ้น รวมถึงรายละเอียดเกี่ยวกับความเสียหายที่เกิดขึ้น เช่น ความเสียหายของรถ บุคคลที่ได้รับบาดเจ็บ ฯลฯ\n",
      "\n",
      "2. รวบรวมหลักฐาน: รวบรวมเอกสารหรือหลักฐานที่เกี่ยวข้อง เช่น รายงานการเกิดอุบัติเหตุ, รายละเอียดของพยาน, ฯลฯ\n",
      "\n",
      "3. ติดต่อกับบริษัทประกัน: ถ้ามีประกันภัย เริ่มต้นติดต่อกับบริษัทประกันของคู่กรณี เพื่อแจ้งเหตุการณ์และเริ่มกระบวนการเรียกร้องความเสียหาย\n",
      "\n",
      "4. รับคำปรึกษาจากทนาย: หากความเสียหายใหญ่หรือการเรียกร้องความเสียหายมีความซับซ้อน คุณสามารถค้นหาทนายที่เชี่ยวชาญด้านกฎหมายทางการบดี พูดคุยและรับคำปรึกษาเพื่อสนับสนุนกระบวนการทางกฎหมายของคุณ.\n",
      "\n",
      "ควรจำไว้ว่าขั้นตอนที่แจ้งไปข้างต้นเป็นเพียงแนวทางเท่านั้น และควรปฏิบัติตามกฎหมายและข้อบังคับท้องถิ่น.\n"
     ]
    }
   ],
   "source": [
    "messages =  [  \n",
    "{'role':'system', 'content':'You are law consultant chatbot.'},\n",
    "{'role':'user', 'content':'สวัสดี'},\n",
    "{'role':'assistant', 'content': \"สวัสดี ฉันชื่อ Saturday มีอะไรให้ฉันช่วยไหม?\"},\n",
    "{'role':'user', 'content':'ช่วยบอกทีว่าถูกรถชน จะฟ้องคู่กรณีได้ยังไง'}  ]\n",
    "\n",
    "response = get_response(messages, temperature=1)\n",
    "print(response)"
   ]
  },
  {
   "cell_type": "code",
   "execution_count": 10,
   "metadata": {},
   "outputs": [
    {
     "data": {
      "text/plain": [
       "str"
      ]
     },
     "execution_count": 10,
     "metadata": {},
     "output_type": "execute_result"
    }
   ],
   "source": [
    "type(response)"
   ]
  },
  {
   "cell_type": "markdown",
   "metadata": {},
   "source": [
    "## DATASET"
   ]
  },
  {
   "cell_type": "code",
   "execution_count": 2,
   "metadata": {},
   "outputs": [],
   "source": [
    "from datasets import load_dataset\n",
    "\n",
    "dataset = load_dataset(\"pythainlp/thailaw-v1.0\", split='train')"
   ]
  },
  {
   "cell_type": "code",
   "execution_count": 3,
   "metadata": {},
   "outputs": [
    {
     "name": "stdout",
     "output_type": "stream",
     "text": [
      "Type : <class 'datasets.arrow_dataset.Dataset'>\n",
      "\n",
      "Detail :\n",
      "Dataset({\n",
      "    features: ['title', 'text', '__index_level_0__'],\n",
      "    num_rows: 52556\n",
      "})\n"
     ]
    }
   ],
   "source": [
    "print(f\"Type : {type(dataset)}\\n\\nDetail :\\n{dataset}\")"
   ]
  },
  {
   "cell_type": "code",
   "execution_count": 16,
   "metadata": {},
   "outputs": [
    {
     "name": "stdout",
     "output_type": "stream",
     "text": [
      "ประกาศคณะกรรมการกำกับตลาดทุน ที่ ทจ. 12/2554 เรื่อง หลักเกณฑ์ เงื่อนไข และวิธีการในการเข้าถือหลักทรัพย์เพื่อครอบงำกิจการ\n",
      "\n",
      "\n",
      "ประกาศคณะกรรมการกํากับตลาดทุน\n",
      "\n",
      "ที่ ทจ.  12 /2554\n",
      "\n",
      "เรื่อง หลักเกณฑ์ เงื่อนไข และวิธีการในการเข้าถือหลักทรัพย์\n",
      "\n",
      "เพื่อครอบงํากิจการ \n",
      "\n",
      "\\_\\_\\_\\_\\_\\_\\_\\_\\_\\_\\_\\_\\_\\_\\_\\_\\_\\_\\_\n",
      "\n",
      "อาศัยอํานาจตามความในมาตรา 16/6 และมาตรา 247 แห่งพระราชบัญญัติหลักทรัพย์และตลาดหลักทรัพย์ พ.ศ. 2535  ซึ่งแก้ไขเพิ่มเติมโดยพระราชบัญญัติหลักทรัพย์และตลาดหลักทรัพย์ (ฉบับที่ 4) พ.ศ. 2551  และมาตรา 248 มาตรา 255 และมาตรา 256 แห่งพระราชบัญญัติหลักทรัพย์และตลาดหลักทรัพย์ พ.ศ. 2535  อันเป็นพระราชบัญญัติที่มีบทบัญญัติบางประการเกี่ยวกับการจํากัดสิทธิและเสรีภาพของบุคคล ซึ่งมาตรา 29 ประกอบกับมาตรา 33 มาตรา 34 มาตรา 41 มาตรา 43 มาตรา 44 และมาตรา 64 ของรัฐธรรมนูญแห่งราชอาณาจักรไทย บัญญัติให้กระทําได้โดยอาศัยอํานาจตามบทบัญญัติแห่งกฎหมาย คณะกรรมการกํากับตลาดทุนออกข้อกําหนดไว้ดังต่อไปนี้\n",
      "\n",
      "\n",
      "ข้อ ๑ ในประกาศนี้\n",
      "\n",
      "“กิจการ”  หมายความว่า   บริษัทที่มีหุ้นเป็นหลักทรัพย์จดทะเบียนในตลาดหลักทรัพย์\n",
      "\n",
      "“ราคา”  หมายความว่า   สิ่งตอบแทนในการได้มาซึ่งหลักทรัพย์ทั้งในรูปตัวเงินและในรูปอื่นที่มิใช่ตัวเงิน\n",
      "\n",
      "“ราคาตลาดถัวเฉลี่ยถ่วงน้ําหนัก”  หมายความว่า   ผลรวมของมูลค่าการซื้อขายหุ้นในแต่ละวันระหว่างระยะเวลาที่กําหนด หารด้วยจํานวนหุ้นทั้งหมดที่ซื้อขายในระหว่างระยะเวลาเดียวกันนั้น  \n",
      "\n",
      "“หลักทรัพย์แปลงสภาพ”  หมายความว่า  ใบสําคัญแสดงสิทธิที่จะซื้อหุ้น ใบแสดงสิทธิในการซื้อหุ้นเพิ่มทุนที่โอนสิทธิได้ หุ้นกู้แปลงสภาพ หรือหลักทรัพย์อื่นที่อาจแปลงสภาพแห่งสิทธิเป็นหุ้นได้ ที่กิจการเป็นผู้ออก เพื่อให้สิทธิซื้อหรือแปลงสภาพเป็นหุ้นของกิจการนั้นเอง\n",
      "\n",
      "“ที่ปรึกษาทางการเงิน”  หมายความว่า  ที่ปรึกษาทางการเงินที่อยู่ในบัญชีรายชื่อที่สํานักงานให้ความเห็นชอบ\n",
      "\n",
      "“คณะอนุกรรมการวินิจฉัยการเข้าถือหลักทรัพย์เพื่อครอบงํากิจการ”  หมายความว่า คณะอนุกรรมการตามประกาศคณะกรรมการกํากับตลาดทุนว่าด้วยการแต่งตั้งและอํานาจหน้าที่ของคณะอนุกรรมการวินิจฉัยการเข้าถือหลักทรัพย์เพื่อครอบงํากิจการ\n",
      "\n",
      "“ตลาดหลักทรัพย์”  หมายความว่า  ตลาดหลักทรัพย์แห่งประเทศไทย\n",
      "\n",
      "“ข้อมูลอิเล็กทรอนิกส์”  หมายความว่า   ข้อความที่ได้สร้าง ส่ง รับ เก็บรักษา หรือประมวลผล ด้วยวิธีการทางอิเล็กทรอนิกส์\n",
      "\n",
      "\n",
      "ข้อ ๒ การทําคําเสนอซื้อหลักทรัพย์ที่อยู่ภายใต้บังคับแห่งประกาศนี้ ได้แก่\n",
      "\n",
      "(1)  การทําคําเสนอซื้อหลักทรัพย์ทั้งหมดของกิจการเพื่อปฏิบัติให้เป็นไปตามหน้าที่ภายหลังการได้มาหรือเป็นผู้ถือหุ้นในลักษณะที่กําหนดตามหมวด 1 (mandatory tender offer)\n",
      "\n",
      "(2) การทําคําเสนอซื้อหลักทรัพย์ทั้งหมดของกิจการโดยสมัครใจ (voluntary tender offer) \n",
      "\n",
      "(3)  การทําคําเสนอซื้อหุ้นบางส่วน (partial tender offer) ตามหมวด 5 \n",
      "\n",
      "(4) การทําคําเสนอซื้อเพื่อเพิกถอนหุ้นออกจากการเป็นหลักทรัพย์จดทะเบียนในตลาดหลักทรัพย์ตามหมวด 6 \n",
      "\n",
      "\n",
      "หมวด ๑ กรณีที่ต้องทําคําเสนอซื้อหลักทรัพย์ทั้งหมดของกิจการ\n",
      "\n",
      "และหลักทรัพย์ที่ต้องรับซื้อ\n",
      "\n",
      "\\_\\_\\_\\_\\_\\_\\_\\_\\_\\_\\_\\_\\_\\_\n",
      "\n",
      "\n",
      "ข้อ ๓ บุคคลใดซื้อหรือกระทําการอื่นใดอันเป็นผลให้ตนได้มาซึ่งหุ้นหรือเป็นผู้ถือหุ้นของกิจการใด ณ สิ้นวันใดวันหนึ่ง ในลักษณะใดลักษณะหนึ่งตามที่กําหนดในข้อ 4 ข้อ 5 หรือข้อ 6 บุคคลนั้นต้องทําคําเสนอซื้อหลักทรัพย์ทั้งหมดของกิจการนั้น ตามหลักเกณฑ์ ที่กําหนดในประกาศนี้  เว้นแต่จะเข้ากรณีที่ได้รับยกเว้นตามหมวด 2 \n",
      "\n",
      "\n",
      "ข้อ ๔ บุคคลใดซื้อหรือกระทําการอื่นใดอันเป็นผลให้ตนได้มาซึ่งหุ้นหรือเป็นผู้ถือหุ้นของกิจการใด ณ สิ้นวันใดวันหนึ่งเพิ่มขึ้นจนถึงหรือข้ามจุดดังต่อไปนี้ บุคคลนั้นต้องทําคําเสนอซื้อหลักทรัพย์ทั้งหมดของกิจการ\n",
      "\n",
      "(1)  ร้อยละยี่สิบห้าของสิทธิออกเสียงทั้งหมดของกิจการ\n",
      "\n",
      "(2) ร้อยละห้าสิบของสิทธิออกเสียงทั้งหมดของกิจการ \n",
      "\n",
      "(3) ร้อยละเจ็ดสิบห้าของสิทธิออกเสียงทั้งหมดของกิจการ\n",
      "\n",
      "ในกรณีที่กิจการมีการซื้อหุ้นคืน และยังมิได้จําหน่ายหรือตัดหุ้นที่ซื้อคืนมานั้นออกจากหุ้นจดทะเบียนชําระแล้ว  ในการคํานวณสิทธิออกเสียงทั้งหมดของกิจการ ให้หักสิทธิออกเสียงของหุ้นที่กิจการซื้อคืนและยังคงค้างอยู่ ณ วันสิ้นเดือนของเดือนก่อนเดือนที่มีการได้มาในครั้งนั้น ออกจากฐานในการคํานวณ \n",
      "\n",
      "\n",
      "ข้อ ๕ ในกรณีที่กิจการมีการซื้อหุ้นคืน และเป็นผลให้บุคคลใดเป็นผู้ถือหุ้นในกิจการนั้นเพิ่มขึ้นจนถึงหรือข้ามจุดที่ต้องทําคําเสนอซื้อตามข้อ 4 บุคคลดังกล่าวต้องทําคําเสนอซื้อหลักทรัพย์ทั้งหมดของกิจการ หากในเวลาต่อมาบุคคลนั้นได้มาซึ่งหุ้นของกิจการเพิ่มขึ้นอีกไม่ว่าในจํานวนใด ๆ โดยเป็นการได้มาเพิ่มขึ้นในขณะที่และยังคงเป็นผลให้บุคคลนั้นเป็นผู้ถือหุ้นของกิจการข้ามจุดที่ต้องทําคําเสนอซื้อ                  \n",
      "\n",
      "\n",
      "ข้อ ๖ บุคคลใดเข้ามามีอํานาจควบคุมอย่างมีนัยสําคัญในนิติบุคคลที่เป็นผู้ถือหุ้นของกิจการอยู่ก่อนแล้ว (chain principle) ไม่ว่าการมีอํานาจควบคุมนั้นจะเกิดขึ้นโดยทางตรงหรือโดยทางอ้อมผ่านการถือหุ้นหรือการควบคุมในนิติบุคคลอื่นเป็นทอด ๆ จนถึงนิติบุคคลที่เป็นผู้ถือหุ้นของกิจการ บุคคลนั้นต้องทําคําเสนอซื้อหลักทรัพย์ทั้งหมดของกิจการหากเข้าลักษณะดังต่อไปนี้\n",
      "\n",
      "(1)  การเข้ามามีอํานาจควบคุมในนิติบุคคลดังกล่าวทําให้เมื่อนับรวมจํานวนหุ้นที่ถือโดยบุคคลดังกล่าว นิติบุคคลในทุกทอดตลอดสายจนถึงนิติบุคคลที่เป็นผู้ถือหุ้นของกิจการ และบุคคลตามมาตรา 258 ของบุคคลเหล่านั้นแล้ว มีจํานวนถึงหรือข้ามจุดที่ต้องทําคําเสนอซื้อตามข้อ 4 \n",
      "\n",
      "(2)  การเข้ามามีอํานาจควบคุมในนิติบุคคลที่เป็นผู้ถือหุ้นของกิจการนั้น ให้รวมถึง\n",
      "\n",
      "      (ก) การถือหุ้นและมีสิทธิออกเสียงตั้งแต่ร้อยละห้าสิบขึ้นไปของสิทธิออกเสียงทั้งหมดของนิติบุคคลที่เป็นผู้ถือหุ้นของกิจการ (ในกรณีที่เป็นอํานาจควบคุมทางตรง) หรือของนิติบุคคลที่ถูกถือหุ้นต่อกันในแต่ละทอดทุกทอดตลอดสายจนถึงนิติบุคคลที่เป็นผู้ถือหุ้นในกิจการ (ในกรณีที่เป็นอํานาจควบคุมทางอ้อม) หรือ\n",
      "\n",
      "      (ข) การส่งบุคคลหรือมีพฤติกรรมในการส่งบุคคลเข้าเป็นกรรมการในจํานวนที่มีนัยสําคัญเพื่อควบคุมการบริหารงานหรือการดําเนินงานของนิติบุคคลหรือของกิจการ \n",
      "\n",
      "เพื่อประโยชน์ตามวรรคหนึ่ง ให้นับรวมจํานวนหุ้นทั้งหมดที่ออกโดยกิจการและถือโดยบุคคลตามวรรคหนึ่ง นิติบุคคลในทุกทอด (ถ้ามี) จนถึงนิติบุคคลที่เป็นผู้ถือหุ้นของกิจการ และบุคคลตามมาตรา 258 ของบุคคลเหล่านั้น เป็นหุ้นของบุคคลในกลุ่มเดียวกัน ตลอดระยะเวลาที่บุคคลดังกล่าวยังคงมีอํานาจควบคุมในนิติบุคคลที่เป็นผู้ถือหุ้นของกิจการ\n",
      "\n",
      "\n",
      "ข้อ ๗ ให้หลักทรัพย์ดังต่อไปนี้เป็นหลักทรัพย์ที่ต้องเสนอซื้อในกรณีที่เป็นการทําคําเสนอซื้อหลักทรัพย์ทั้งหมดของกิจการ\n",
      "\n",
      "(1) หุ้นสามัญและหุ้นบุริมสิทธิที่จําหน่ายได้แล้วทั้งหมดของกิจการ แต่ไม่รวมถึงหุ้นที่กิจการได้ซื้อคืนมาแล้ว และยังมิได้จําหน่ายหรือตัดออกจากหุ้นจดทะเบียนชําระแล้ว\n",
      "\n",
      "(2)  ใบสําคัญแสดงสิทธิทั้งหมดที่ออกโดยกิจการเพื่อให้สิทธิซื้อหุ้นของกิจการนั้นเอง ไม่ว่าจะเป็นใบสําคัญแสดงสิทธิที่จะซื้อหุ้น หรือใบแสดงสิทธิในการซื้อหุ้นเพิ่มทุนที่โอนสิทธิได้ เว้นแต่ใบสําคัญแสดงสิทธิที่มีลักษณะอย่างใดอย่างหนึ่งดังต่อไปนี้ \n",
      "\n",
      "      (ก)  ใบสําคัญแสดงสิทธิที่ราคาใช้สิทธิซื้อหุ้นตามใบสําคัญแสดงสิทธินั้นเท่ากับหรือสูงกว่าราคาเสนอซื้อหุ้นประเภทเดียวกับที่จะได้จากการใช้สิทธิดังกล่าว และบุคคลดังกล่าวไม่เคยได้มาซึ่งใบสําคัญแสดงสิทธินั้นโดยมีค่าตอบแทนในระหว่างระยะเวลาเก้าสิบวันก่อนวันที่ยื่นคําเสนอซื้อต่อสํานักงาน\n",
      "\n",
      "      (ข)  ใบสําคัญแสดงสิทธิที่ระยะเวลาการใช้สิทธิครั้งสุดท้ายสิ้นสุดลงก่อนหรือในวันเดียวกับวันสิ้นสุดระยะเวลารับซื้อตามคําเสนอซื้อ\n",
      "\n",
      "      (ค) ใบสําคัญแสดงสิทธิที่มีการกําหนดเงื่อนไขจํากัดบุคคลผู้ใช้สิทธิ ซึ่งเป็นผลให้ผู้ทําคําเสนอซื้อไม่อาจใช้สิทธิตามใบสําคัญแสดงสิทธิดังกล่าวได้\n",
      "\n",
      "(3)  หุ้นกู้แปลงสภาพทั้งหมดที่ออกโดยกิจการและอาจแปลงสภาพเป็นหุ้นของกิจการนั้นเอง  เว้นแต่หุ้นกู้แปลงสภาพที่มีลักษณะอย่างใดอย่างหนึ่งดังต่อไปนี้\n",
      "\n",
      "   (ก)  หุ้นกู้แปลงสภาพที่ราคาแปลงสภาพเมื่อคํานวณจากอัตราการแปลงสภาพของหุ้นกู้แปลงสภาพนั้น เท่ากับหรือสูงกว่าราคาเสนอซื้อหุ้นประเภทเดียวกับที่จะได้จากการแปลงสภาพนั้น และบุคคลดังกล่าวไม่เคยได้มาซึ่งหุ้นกู้แปลงสภาพนั้นโดยมีค่าตอบแทนในระหว่างระยะเวลาเก้าสิบวันก่อนวันที่ยื่นคําเสนอซื้อต่อสํานักงาน\n",
      "\n",
      "   (ข) หุ้นกู้แปลงสภาพที่ระยะเวลาการใช้สิทธิครั้งสุดท้ายสิ้นสุดลงก่อนหรือในวันเดียวกับวันสิ้นสุดระยะเวลารับซื้อตามคําเสนอซื้อ\n",
      "\n",
      "     (ค) หุ้นกู้แปลงสภาพที่ชําระดอกเบี้ยและเงินต้นเป็นเงินตราต่างประเทศ\n",
      "\n",
      "(4)  หุ้นที่จะได้มาจากการใช้สิทธิตามหลักทรัพย์ที่อาจแปลงสภาพแห่งสิทธิเป็นหุ้นได้ ซึ่งผู้ถือหลักทรัพย์แต่ละประเภทนั้นได้ใช้สิทธิในการซื้อหรือแปลงสภาพแล้วก่อนสิ้นสุดระยะเวลารับซื้อตามคําเสนอซื้อ\n",
      "\n",
      "\n",
      "หมวด ๒ กรณีที่ได้รับยกเว้นการทําคําเสนอซื้อหลักทรัพย์ทั้งหมดของกิจการ\n",
      "\n",
      " \n",
      "\n",
      "\n",
      "ข้อ ๘ บุคคลที่ได้มาหรือเป็นผู้ถือหุ้นของกิจการใดจนถึงหรือข้ามจุดที่ต้องทําคําเสนอซื้อตามข้อ 4 จะได้รับยกเว้นการทําคําเสนอซื้อหลักทรัพย์ทั้งหมดของกิจการนั้นเมื่อเข้ากรณีใดกรณีหนึ่งดังต่อไปนี้\n",
      "\n",
      "(1) ที่มาของการได้มาหรือลักษณะของบุคคลที่ได้มาเป็นไปตามหลักเกณฑ์ที่กําหนดในข้อ 9 \n",
      "\n",
      "(2) มีการลดสัดส่วนการถือหุ้นหรือลดการมีอํานาจควบคุมตามหลักเกณฑ์ที่กําหนดในข้อ 10\n",
      "\n",
      "(3)  เป็นการได้มาตามที่ได้รับผ่อนผันตามหลักเกณฑ์ที่กําหนดในข้อ 11 \n",
      "\n",
      "(4)  เป็นการได้มาตามที่ได้รับผ่อนผันให้ทําคําเสนอซื้อหุ้นบางส่วน (partial tender offer) ตามหลักเกณฑ์ที่กําหนดในหมวด 5 \n",
      "\n",
      "\n",
      "ข้อ ๙ เมื่อที่มาของการได้มาซึ่งหุ้นหรือลักษณะของบุคคลที่ได้มาซึ่งหุ้นเข้าลักษณะใดลักษณะหนึ่งดังต่อไปนี้ ให้บุคคลที่ได้หุ้นมาดังกล่าวได้รับยกเว้นการทําคําเสนอซื้อหลักทรัพย์ทั้งหมดของกิจการ\n",
      "\n",
      "(1)  การได้มาโดยทางมรดก หรือโดยการใช้สิทธิซื้อหรือแปลงสภาพตามหลักทรัพย์ แปลงสภาพที่ได้มาทางมรดก\n",
      "\n",
      "(2)  การได้มาเนื่องจากกิจการจ่ายหุ้นปันผล หรือโดยการใช้สิทธิซื้อหุ้นเพิ่มทุนตามส่วนจํานวนหุ้นที่ตนมีอยู่ (right offer)  ทั้งนี้ ไม่ว่าเพื่อประโยชน์ในการใช้สิทธินั้น กิจการจะมีการออกใบแสดงสิทธิในการซื้อหุ้นเพิ่มทุนที่โอนสิทธิได้ ให้แก่ผู้ถือหุ้นด้วยหรือไม่ก็ตาม \n",
      "\n",
      "(3) การได้มาเนื่องจากการทําคําเสนอซื้อหลักทรัพย์ทั้งหมดของกิจการ หรือจากการใช้สิทธิซื้อหรือแปลงสภาพตามหลักทรัพย์แปลงสภาพที่ได้มาจากการทําคําเสนอซื้อหลักทรัพย์ทั้งหมดของกิจการ ตามหลักเกณฑ์ที่กําหนดในประกาศนี้  ทั้งนี้ ไม่ว่าการทําคําเสนอซื้อดังกล่าวจะกระทําโดยสมัครใจหรือเพื่อปฏิบัติให้เป็นไปตามหน้าที่ตามข้อกําหนดแห่งประกาศนี้\n",
      "\n",
      "(4)  การได้มาโดยบุคคลดังต่อไปนี้ ซึ่งมีข้อกําหนดที่แสดงว่าโดยปกติจะไม่ใช้สิทธิออกเสียงลงคะแนนในที่ประชุมผู้ถือหุ้นของกิจการ\n",
      "\n",
      "      (ก)  กองทุนรวมเพื่อผู้ลงทุนซึ่งเป็นคนต่างด้าว (Thai Trust Fund)\n",
      "\n",
      "      (ข)  บริษัทที่ได้รับอนุญาตให้เสนอขายใบแสดงสิทธิในผลประโยชน์ที่เกิดจากหลักทรัพย์อ้างอิงไทยตามประกาศคณะกรรมการกํากับตลาดทุนว่าด้วยการเสนอขายใบแสดงสิทธิในผลประโยชน์ที่เกิดจากหลักทรัพย์อ้างอิงไทยโดยบริษัทย่อยของตลาดหลักทรัพย์แห่งประเทศไทย ซึ่งบริษัทดังกล่าวถือหุ้นของกิจการเพื่อรองรับภาระผูกพันที่คงค้างอยู่ตามหลักทรัพย์นั้น\n",
      "\n",
      "\n",
      "ข้อ ๑๐ ให้บุคคลที่ได้มาหรือเป็นผู้ถือหุ้นจนถึงหรือข้ามจุดที่ต้องทําคําเสนอซื้อตามข้อ 4 ได้รับยกเว้นการทําคําเสนอซื้อหลักทรัพย์ทั้งหมดของกิจการ หากภายหลังจากการได้มานั้นบุคคลดังกล่าวได้ลดสัดส่วนการถือหุ้นหรือลดการมีอํานาจควบคุมในลักษณะใดลักษณะหนึ่งดังต่อไปนี้\n",
      "\n",
      "(1) ในกรณีที่เป็นการได้มาซึ่งหุ้นในกิจการโดยตรง ผู้ได้มาได้ดําเนินการดังต่อไปนี้\n",
      "\n",
      "      (ก) ลดสัดส่วนการถือหุ้นของกิจการดังกล่าวลงให้ต่ํากว่าจุดที่ต้องทําคําเสนอซื้อตามข้อ 4 ภายในเจ็ดวันทําการนับแต่วันที่มีหน้าที่ต้องยื่นรายงานการได้มาซึ่งหุ้นตามแบบ 246-2 ต่อสํานักงาน โดยการขายหุ้นของกิจการบนกระดานหลักของตลาดหลักทรัพย์ หรือโอนหุ้นดังกล่าวคืนให้กับบุคคลที่ตนรับโอนหุ้นมา และ\n",
      "\n",
      "      (ข)  งดเว้นการใช้สิทธิออกเสียงในกิจการสําหรับหุ้นในส่วนที่ต้องลดสัดส่วนตาม (ก) เพื่อให้ถือหุ้นในกิจการต่ํากว่าจุดที่ต้องทําคําเสนอซื้อ\n",
      "\n",
      "(2) ในกรณีที่เป็นการได้มาโดยการเข้ามามีอํานาจควบคุมอย่างมีนัยสําคัญในนิติบุคคลที่เป็นผู้ถือหุ้นของกิจการอยู่ก่อนแล้ว (chain principle) ผู้ได้มาได้ดําเนินการดังต่อไปนี้\n",
      "\n",
      "      (ก) ลดสัดส่วนการถือหุ้นหรือลดการมีอํานาจควบคุมโดยวิธีใดวิธีหนึ่งดังต่อไปนี้ ภายในเจ็ดวันทําการนับแต่วันที่มีหน้าที่ต้องยื่นรายงานการได้มาซึ่งหุ้นตามแบบ 246-2 ต่อสํานักงาน\n",
      "\n",
      "            1.  ลดสัดส่วนการถือหุ้นของกิจการตามวิธีการที่กําหนดใน (1) (ก)\n",
      "\n",
      "            2. ลดสัดส่วนการถือหุ้นหรือลดการมีอํานาจควบคุมในนิติบุคคลที่เป็นผู้ถือหุ้นของกิจการจนทําให้ไม่มีลักษณะตามที่กําหนดในข้อ 6(2)\n",
      "\n",
      "ในกรณีที่เป็นการลดสัดส่วนการถือหุ้นในนิติบุคคลที่เป็นผู้ถือหุ้นของกิจการหรือลดสัดส่วนการถือหุ้นในนิติบุคคลในทอดใด ๆ ก่อนถึงนิติบุคคลที่เป็นผู้ถือหุ้นของกิจการผู้รับโอนหุ้นของนิติบุคคลดังกล่าวต้องมิใช่บุคคลตามมาตรา 258 ของผู้ได้มา หรือของนิติบุคคลในทอดใด ๆ ที่มีความสัมพันธ์กับผู้ได้มาตามข้อ 6(2)\n",
      "\n",
      "      (ข) งดเว้นการใช้สิทธิออกเสียงในกิจการสําหรับหุ้นในส่วนที่ต้องลดสัดส่วนตาม (ก) เพื่อให้ถือหุ้นในกิจการต่ํากว่าจุดที่ต้องทําคําเสนอซื้อ ไม่ว่าจะเป็นการใช้สิทธิออกเสียงโดยผู้ได้มา นิติบุคคลในทอดใด ๆ ที่มีความสัมพันธ์กับผู้ได้มาตามข้อ 6(2) หรือบุคคลตามมาตรา 258 ของบุคคลดังกล่าว\n",
      "\n",
      "ให้ผู้ได้มาดําเนินการเปิดเผยข้อมูลในการลดสัดส่วนการถือหุ้นหรือลดการมีอํานาจควบคุมในนิติบุคคลที่เป็นผู้ถือหุ้นของกิจการ ตามหลักเกณฑ์ดังต่อไปนี้\n",
      "\n",
      "(1)  แสดงเจตนาไว้ในรายงานการได้มาซึ่งหุ้นตามแบบ 246-2 ไว้อย่างชัดเจนว่าจะลดสัดส่วนการถือหุ้นลงให้ต่ํากว่าจุดที่ต้องทําคําเสนอซื้อหรือลดการมีอํานาจควบคุมจนทําให้ไม่มีลักษณะตามที่กําหนดในข้อ 6(2) และจะไม่ใช้สิทธิออกเสียงในกิจการสําหรับหุ้นในส่วนที่ต้องลดสัดส่วนตาม (ก) เพื่อให้ถือหุ้นในกิจการต่ํากว่าจุดที่ต้องทําคําเสนอซื้อ\n",
      "\n",
      "(2) มีหนังสือแจ้งรายละเอียดการลดสัดส่วนการถือหุ้นหรือลดการมีอํานาจควบคุมต่อสํานักงานภายในวันทําการถัดจากวันที่ดําเนินการดังกล่าว\n",
      "\n",
      "ในกรณีที่มีเหตุจําเป็นและสมควร เมื่อได้รับคําร้องขอจากผู้ได้มาก่อนสิ้นสุดระยะเวลาที่กําหนดในวรรคหนึ่ง (1) (ก) หรือ (2) (ก) สํานักงานอาจผ่อนผันระยะเวลาหรือวิธีการลดสัดส่วนการถือหุ้นเป็นประการอื่นได้\n",
      "\n",
      "ในกรณีที่เป็นการลดสัดส่วนการถือหุ้นโดยการโอนหุ้นดังกล่าวคืนให้กับบุคคลที่ตนรับโอนหุ้นมา  หากการดําเนินการดังกล่าวทําให้ผู้ที่รับโอนหุ้นคืนมานั้น เป็นผู้ถือหุ้นจนถึงหรือข้ามจุดที่ต้องทําคําเสนอซื้อจุดเดิมก่อนที่จะมีการโอนหุ้นดังกล่าวออกไป ให้ผู้ถือหุ้นที่รับโอนหุ้นคืนมานั้นได้รับยกเว้นการทําคําเสนอซื้อหลักทรัพย์ทั้งหมดของกิจการ\n",
      "\n",
      "\n",
      "ข้อ ๑๑ ให้บุคคลที่ประสงค์จะได้มาหรือเป็นผู้ถือหุ้นของกิจการจนถึงหรือข้ามจุดที่ต้องทําคําเสนอซื้อตามข้อ 4 ได้รับยกเว้นไม่ต้องทําคําเสนอซื้อหลักทรัพย์ทั้งหมดของกิจการ หากก่อนการซื้อหรือกระทําการอื่นใดอันเป็นผลให้ได้มาหรือเป็นผู้ถือหุ้นของกิจการจนถึงหรือข้ามจุดดังกล่าว บุคคลนั้นได้ยื่นคําขอผ่อนผันต่อสํานักงาน หรือต่อคณะอนุกรรมการวินิจฉัยการเข้าถือหลักทรัพย์เพื่อครอบงํากิจการผ่านสํานักงาน โดยชําระค่าธรรมเนียมตามที่กําหนดไว้ในประกาศสํานักงานคณะกรรมการกํากับหลักทรัพย์และตลาดหลักทรัพย์ว่าด้วยการกําหนดค่าธรรมเนียมการยื่นแบบแสดงรายการข้อมูล การจดทะเบียน และการยื่นคําขอต่าง ๆ และคําขอดังกล่าวได้รับการผ่อนผันจากสํานักงานหรือคณะอนุกรรมการวินิจฉัยการเข้าถือหลักทรัพย์เพื่อครอบงํากิจการแล้ว แล้วแต่กรณี  โดยในกรณีที่มีเหตุผลสมควร การผ่อนผันอาจระบุเงื่อนไขที่ผู้ได้มาต้องปฏิบัติด้วยก็ได้ \n",
      "\n",
      "คําขอผ่อนผันกรณีดังต่อไปนี้ ให้อยู่ในอํานาจพิจารณาของสํานักงาน\n",
      "\n",
      "(1) การได้มาจะไม่มีผลเปลี่ยนแปลงอํานาจในการควบคุมกิจการ\n",
      "\n",
      "(2) การได้มาโดยมีวัตถุประสงค์เพื่อช่วยเหลือหรือฟื้นฟูกิจการ\n",
      "\n",
      "(3)  การได้มาซึ่งหลักทรัพย์ที่ออกใหม่ และที่ประชุมผู้ถือหุ้นของกิจการมีมติให้ออกหลักทรัพย์ดังกล่าวให้แก่บุคคลนั้นโดยไม่ต้องทําคําเสนอซื้อหลักทรัพย์ทั้งหมดของกิจการ  (whitewash)  ทั้งนี้ ตามหลักเกณฑ์ที่สํานักงานกําหนด \n",
      "\n",
      "(4)  กรณีอื่นใดซึ่งคณะอนุกรรมการวินิจฉัยการเข้าถือหลักทรัพย์เพื่อครอบงํากิจการได้มีแนววินิจฉัยเป็นบรรทัดฐานไว้แล้ว \n",
      "\n",
      "(5)  กรณีมีเหตุจําเป็นและสมควรประการอื่น\n",
      "\n",
      "คําขอผ่อนผันกรณีดังต่อไปนี้ ให้อยู่ในอํานาจพิจารณาของคณะอนุกรรมการวินิจฉัยการเข้าถือหลักทรัพย์เพื่อครอบงํากิจการ\n",
      "\n",
      "(1)  การได้มาซึ่งอํานาจควบคุมอย่างมีนัยสําคัญในนิติบุคคลที่เป็นผู้ถือหุ้นของกิจการ (chain principle) มิได้มีวัตถุประสงค์สําคัญเพื่อการครอบงํากิจการ\n",
      "\n",
      "(2)  กรณีอื่นที่สํานักงานเห็นว่าควรได้รับการพิจารณาโดยคณะอนุกรรมการวินิจฉัยการเข้าถือหลักทรัพย์เพื่อครอบงํากิจการ\n",
      "\n",
      "บุคคลที่ได้รับผ่อนผันตามวรรคหนึ่ง ต้องดําเนินการเพื่อให้ได้มาซึ่งหุ้นของกิจการภายในหกเดือนนับแต่วันที่ได้รับผ่อนผัน หากพ้นระยะเวลาดังกล่าวแล้วให้การผ่อนผันเป็นอันสิ้นสุดลง\n",
      "\n",
      "\n",
      "หมวด ๓ การประกาศต่อสาธารณชน\n",
      "\n",
      "\\_\\_\\_\\_\\_\\_\\_\\_\\_\\_\\_\\_\\_\\_\\_\\_\n",
      "\n",
      "\n",
      "ข้อ ๑๒ บุคคลใดประกาศโดยวิธีใดวิธีหนึ่งดังต่อไปนี้ ว่าจะทําคําเสนอซื้อหุ้นของกิจการใดจนถึงหรือข้ามจุดที่ต้องทําคําเสนอซื้อ โดยมีรายละเอียดเกี่ยวกับชื่อผู้ทําคําเสนอซื้อ จํานวนหุ้นหรือจํานวนสิทธิออกเสียงของหุ้นที่จะเสนอซื้อ ไม่ว่าจะเป็นการระบุจํานวนโดยแน่นอนหรือโดยประมาณ ให้ถือว่าบุคคลนั้นได้ประกาศต่อสาธารณชนว่าจะเข้าถือหลักทรัพย์เพื่อครอบงํากิจการ\n",
      "\n",
      "(1) แถลงหรือโฆษณาผ่านสื่อมวลชน หรือสื่ออิเล็กทรอนิกส์ หรือโครงข่ายสื่อสารประเภทอื่นใด ในลักษณะที่เป็นการกระจายข้อมูลในวงกว้าง\n",
      "\n",
      "(2)  แจ้งต่อกรรมการหรือผู้จัดการของกิจการนั้น\n",
      "\n",
      "(3) แจ้งต่อผู้ถือหุ้นรายหนึ่งหรือหลายรายซึ่งมีสิทธิออกเสียงรวมกันตั้งแต่ร้อยละสิบขึ้นไปของจํานวนสิทธิออกเสียงทั้งหมดของกิจการนั้น\n",
      "\n",
      "(4)  แจ้งต่อตลาดหลักทรัพย์\n",
      "\n",
      "(5)  แจ้งต่อสํานักงาน\n",
      "\n",
      "\n",
      "ข้อ ๑๓ ให้บุคคลที่ประกาศต่อสาธารณชนว่าจะเข้าถือหลักทรัพย์เพื่อครอบงํากิจการ ดําเนินการดังต่อไปนี้\n",
      "\n",
      "(1)  ยื่นประกาศเจตนาในการเข้าถือหลักทรัพย์เพื่อครอบงํากิจการตามแบบ 247-3 ต่อสํานักงานภายในสามวันทําการนับแต่วันที่ประกาศต่อสาธารณชน  เว้นแต่บุคคลนั้นจะได้ยื่นคําเสนอซื้อตามแบบ 247-4 ต่อสํานักงานภายในระยะเวลาดังกล่าวแล้ว\n",
      "\n",
      "(2)  ยื่นคําเสนอซื้อตามแบบ 247-4 ต่อสํานักงานภายในเจ็ดวันทําการนับแต่วันที่ต้องยื่นประกาศเจตนาในการเข้าถือหลักทรัพย์เพื่อครอบงํากิจการ หรือภายในระยะเวลาที่ได้รับการผ่อนผันจากสํานักงาน\n",
      "\n",
      "ในกรณีที่บุคคลดังกล่าวไม่สามารถดําเนินการตามกรณีใดในวรรคหนึ่งได้ และมิใช่เป็นกรณีที่ต้องทําคําเสนอซื้อหลักทรัพย์ทั้งหมดของกิจการตามข้อ 3  ให้บุคคลนั้นยื่นประกาศปฏิเสธการทําคําเสนอซื้อตามแบบ 247-5 ต่อสํานักงานภายในระยะเวลาที่กําหนดสําหรับแต่ละกรณีนั้น ตามวรรคหนึ่งแทน\n",
      "\n",
      "ให้บุคคลตามข้อนี้ส่งสําเนาแบบ 247-3 หรือแบบ 247-5 ให้แก่ตลาดหลักทรัพย์ด้วย\n",
      "\n",
      "\n",
      "ข้อ ๑๔ ในกรณีที่บุคคลซึ่งประกาศต่อสาธารณชนว่าจะเข้าถือหลักทรัพย์เพื่อครอบงํากิจการตามข้อ 12 ได้ประกาศเงื่อนไขก่อนการทําคําเสนอซื้อ  บุคคลดังกล่าวยังไม่ต้องปฏิบัติตามข้อ 13 จนกว่าเงื่อนไขได้สําเร็จลง และในกรณีเช่นว่านี้ ให้นับวันทําการถัดจากวันที่เงื่อนไขสําเร็จลง เป็นวันเริ่มต้นการนับระยะเวลาในการปฏิบัติตามข้อ 13\n",
      "\n",
      "ในกรณีที่เงื่อนไขไม่สําเร็จหรือเมื่อพ้นกําหนดเวลาหนึ่งปีนับแต่วันที่ประกาศต่อสาธารณชนว่าจะเข้าถือหลักทรัพย์เพื่อครอบงํากิจการ ให้บุคคลดังกล่าวยื่นประกาศปฏิเสธการทําคําเสนอซื้อตามแบบ 247-5 ต่อสํานักงานภายในสามวันทําการนับแต่วันที่เงื่อนไขไม่สําเร็จหรือวันครบกําหนดเวลาดังกล่าว แล้วแต่เวลาใดจะถึงก่อน                   \n",
      "\n",
      "\n",
      "ข้อ ๑๕ ห้ามมิให้บุคคลที่ยื่นประกาศปฏิเสธการทําคําเสนอซื้อตามข้อ 13 วรรคสอง หรือข้อ 14 วรรคสอง ทําคําเสนอซื้อหลักทรัพย์หรือกระทําการอื่นใดอันเป็นผลให้ต้องทําคําเสนอซื้อหลักทรัพย์ทั้งหมดของกิจการนั้น เป็นระยะเวลาหนึ่งปีนับแต่วันที่ยื่นประกาศปฏิเสธการทําคําเสนอซื้อ\n",
      "\n",
      "ในกรณีที่บุคคลซึ่งต้องยื่นประกาศปฏิเสธการทําคําเสนอซื้อ ไม่ยื่นประกาศดังกล่าวภายในระยะเวลาที่กําหนดตามข้อ 13 วรรคสอง หรือข้อ 14 วรรคสอง แล้วแต่กรณี  ห้ามมิให้บุคคลดังกล่าวทําคําเสนอซื้อหลักทรัพย์หรือกระทําการอื่นใดอันเป็นผลให้ต้องทําคําเสนอซื้อหลักทรัพย์ทั้งหมดของกิจการนั้น เป็นระยะเวลาสองปีนับแต่วันสุดท้ายที่อาจยื่นประกาศปฏิเสธการทําคําเสนอซื้อ\n",
      "\n",
      "\n",
      "ข้อ ๑๖ ในกรณีที่เงื่อนไขก่อนการทําคําเสนอซื้อตามข้อ 14 วรรคหนึ่งไม่อาจสําเร็จลงได้ เนื่องจากเหตุปัจจัยที่อยู่นอกเหนือความควบคุมของบุคคลซึ่งประกาศต่อสาธารณชนว่าจะเข้าถือหลักทรัพย์เพื่อครอบงํากิจการ มิให้นําข้อห้ามในการทําคําเสนอซื้อหลักทรัพย์ตามข้อ 15 วรรคหนึ่ง มาใช้บังคับกับบุคคลที่ยื่นประกาศปฏิเสธการทําคําเสนอซื้อภายในระยะเวลาที่กําหนดตามข้อ 14 วรรคสองเนื่องจากเหตุดังกล่าว\n",
      "\n",
      "\n",
      "หมวด ๔ การทําคําเสนอซื้อหลักทรัพย์ของกิจการ\n",
      "\n",
      "\\_\\_\\_\\_\\_\\_\\_\\_\\_\\_\\_\\_\\_\\_\\_\\_\\_\n",
      "\n",
      "\n",
      "ส่วน ๑ คําเสนอซื้อหลักทรัพย์\n",
      "\n",
      "\\_\\_\\_\\_\\_\\_\\_\\_\\_\\_\\_\\_\\_\\_\\_\n",
      "\n",
      "\n",
      "ข้อ ๑๗ เมื่อบุคคลใดได้มาหรือเป็นผู้ถือหุ้นของกิจการใดจนถึงจุดที่ต้องทําคําเสนอซื้อ ให้บุคคลนั้นดําเนินการดังต่อไปนี้\n",
      "\n",
      "(1)  กรณีหุ้นที่ได้มาจนถึงจุดที่ต้องทําคําเสนอซื้อเป็นหุ้นที่ออกใหม่  ให้รายงานจํานวนหุ้นที่ถืออยู่ทั้งหมดตามแบบ 246-2  ต่อสํานักงานภายในวันทําการถัดจากวันที่กิจการได้จดทะเบียนเปลี่ยนแปลงทุนชําระแล้วกับกระทรวงพาณิชย์แล้วเสร็จ  และยื่นคําเสนอซื้อ ตามแบบ 247-4  ต่อสํานักงานภายในเจ็ดวันทําการนับแต่วันที่ต้องยื่นแบบ 246-2 หรือภายในระยะเวลาที่ได้รับผ่อนผันจากสํานักงาน\n",
      "\n",
      "(2) กรณีอื่นนอกจาก (1)  ให้รายงานจํานวนหุ้นที่ถืออยู่ทั้งหมดตามแบบ 246-2  พร้อมทั้งยื่นประกาศเจตนาในการเข้าถือหลักทรัพย์เพื่อครอบงํากิจการตามแบบ 247-3 ต่อสํานักงานภายในวันทําการถัดจากวันที่ได้หุ้นนั้นมา  และยื่นคําเสนอซื้อตามแบบ 247-4 ต่อสํานักงานภายในเจ็ดวันทําการนับแต่วันที่ต้องยื่นแบบ 247-3 หรือภายในระยะเวลาที่ได้รับผ่อนผันจากสํานักงาน                \n",
      "\n",
      "\n",
      "ข้อ ๑๘ ให้ผู้ทําคําเสนอซื้อยื่นคําเสนอซื้อตามแบบ 247-4 พร้อมแบบตอบรับคําเสนอซื้อต่อสํานักงาน โดยมีที่ปรึกษาทางการเงินเป็นผู้จัดเตรียมคําเสนอซื้อ และชําระค่าธรรมเนียมการยื่นคําเสนอซื้อตามที่กําหนดไว้ในประกาศสํานักงานคณะกรรมการกํากับหลักทรัพย์และตลาดหลักทรัพย์ว่าด้วยการกําหนดค่าธรรมเนียมการยื่นแบบแสดงรายการข้อมูล การจดทะเบียน และการยื่นคําขอต่าง ๆ  ทั้งนี้ ผู้จัดเตรียมคําเสนอซื้ออาจเป็นหรือร่วมเป็นผู้ทําคําเสนอซื้อด้วยก็ได้ \n",
      "\n",
      "คําเสนอซื้อให้มีผลใช้บังคับตั้งแต่วันทําการถัดจากวันที่ยื่นคําเสนอซื้อต่อสํานักงาน\n",
      "\n",
      "\n",
      "ข้อ ๑๙ คําเสนอซื้อที่ได้ยื่นตามข้อ 18 ต้องมีข้อมูลถูกต้องครบถ้วน ตรงต่อความเป็นจริง ไม่มีข้อมูลที่อาจทําให้บุคคลอื่นสําคัญผิดในสาระสําคัญ รวมทั้งไม่มีการปกปิดข้อมูลที่เป็นสาระสําคัญซึ่งควรบอกให้แจ้ง\n",
      "\n",
      "คําเสนอซื้อต้องจัดทําเป็นภาษาไทย โดยเอกสารประกอบคําเสนอซื้ออาจเป็นภาษาอังกฤษก็ได้\n",
      "\n",
      "\n",
      "ข้อ ๒๐ เมื่อได้ยื่นคําเสนอซื้อต่อสํานักงานแล้ว ให้ผู้ทําคําเสนอซื้อดําเนินการดังต่อไปนี้ \n",
      "\n",
      "(1)  ส่งคําเสนอซื้อพร้อมแบบตอบรับคําเสนอซื้อให้แก่บุคคลดังต่อไปนี้ โดยทันทีหลังจากยื่นคําเสนอซื้อต่อสํานักงาน\n",
      "\n",
      "      (ก)  ผู้ถือหลักทรัพย์ในประเภทและรุ่นที่เสนอซื้อทุกรายตามรายชื่อในทะเบียนผู้ถือหลักทรัพย์ล่าสุด\n",
      "\n",
      "      (ข)  ผู้ถือหลักทรัพย์ตามข้อ 7(2) (ก) ถึง (ค) และ (3) (ก) ถึง (ค) ทุกรายตามรายชื่อในทะเบียนผู้ถือหลักทรัพย์ล่าสุด (หากเป็นการทําคําเสนอซื้อหลักทรัพย์ทั้งหมดของกิจการ)\n",
      "\n",
      "      (ค)  กิจการที่ถูกเสนอซื้อ\n",
      "\n",
      "      (ง)  ตลาดหลักทรัพย์ \n",
      "\n",
      "(2) โฆษณาการทําคําเสนอซื้อในหนังสือพิมพ์รายวันภาษาไทยอย่างน้อยสองฉบับ และหนังสือพิมพ์รายวันภาษาอังกฤษอย่างน้อยหนึ่งฉบับตามหลักเกณฑ์ดังต่อไปนี้\n",
      "\n",
      "      (ก) ไม่น้อยกว่าสามวันทําการติดต่อกันนับแต่วันที่ยื่นคําเสนอซื้อต่อสํานักงาน ในกรณีที่ผู้ทําคําเสนอซื้อระบุไว้ในคําเสนอซื้อตั้งแต่ต้นว่าระยะเวลารับซื้อและข้อเสนอตามคําเสนอซื้อเป็นระยะเวลารับซื้อสุดท้ายและข้อเสนอสุดท้าย\n",
      "\n",
      "      (ข) ไม่น้อยกว่าหนึ่งวันทําการนับแต่วันที่ยื่นคําเสนอซื้อต่อสํานักงาน ในกรณีอื่นนอกจาก (ก)  ทั้งนี้ ให้ระบุไว้อย่างชัดเจนว่าระยะเวลารับซื้อหรือข้อเสนอตามคําเสนอซื้อดังกล่าวมิใช่ระยะเวลารับซื้อสุดท้ายหรือข้อเสนอสุดท้าย \n",
      "\n",
      "\n",
      "ข้อ ๒๑ การโฆษณาการทําคําเสนอซื้อหลักทรัพย์ตามข้อ 20(2) ต้องกระทําให้ถูกต้องตรงต่อความเป็นจริง และต้องไม่ใช้ถ้อยคําหรือข้อความใดที่ทําให้บุคคลอื่นสําคัญผิดในสาระสําคัญรวมทั้งมีสาระสําคัญของข้อมูลไม่ต่างไปจากที่ปรากฏในคําเสนอซื้อที่ได้ยื่นต่อสํานักงาน และอย่างน้อยต้องมีข้อมูลตามรายการดังต่อไปนี้\n",
      "\n",
      "(1) ชื่อและที่อยู่ของผู้ทําคําเสนอซื้อ\n",
      "\n",
      "(2)  ชื่อของกิจการที่ถูกเสนอซื้อ\n",
      "\n",
      "(3) ชื่อและที่อยู่ของผู้จัดเตรียมคําเสนอซื้อ\n",
      "\n",
      "(4)  ชื่อตัวแทนรับซื้อหลักทรัพย์\n",
      "\n",
      "(5) ประเภทหรือรุ่นของหลักทรัพย์ที่เสนอซื้อ \n",
      "\n",
      "(6)  ข้อเสนอในคําเสนอซื้อ\n",
      "\n",
      "       (ก)  จํานวนหลักทรัพย์ที่เสนอซื้อ และจํานวนสิทธิออกเสียงของหลักทรัพย์ที่เสนอซื้อ\n",
      "\n",
      "       (ข)  ราคาเสนอซื้อ\n",
      "\n",
      "       (ค)  เงื่อนไขการยกเลิกคําเสนอซื้อ\n",
      "\n",
      "       (ง) การรับซื้อกรณีมีผู้แสดงเจตนาขายมากกว่าหรือน้อยกว่าจํานวนที่เสนอซื้อ (เฉพาะกรณีการทําคําเสนอซื้อหุ้นบางส่วนตามหมวด 5)\n",
      "\n",
      "       (จ) ระยะเวลาที่ยินยอมให้ผู้ถือหลักทรัพย์ที่แสดงเจตนาขายตามคําเสนอซื้อยกเลิกการแสดงเจตนาขาย\n",
      "\n",
      "(7)  ระยะเวลารับซื้อ\n",
      "\n",
      "(8) สถานที่ติดต่อในการรับและยื่นแบบตอบรับคําเสนอซื้อ\n",
      "\n",
      "(9)  ข้อความที่แสดงอย่างชัดเจนว่าระยะเวลาตามคําเสนอซื้อหรือข้อเสนอตาม\n",
      "\n",
      "คําเสนอซื้อที่โฆษณาในครั้งนี้ เป็นระยะเวลารับซื้อสุดท้ายหรือข้อเสนอสุดท้ายหรือไม่           \n",
      "\n",
      "\n",
      "ข้อ ๒๒ ก่อนสิ้นสุดระยะเวลารับซื้อตามคําเสนอซื้อ หากผู้ทําคําเสนอซื้อได้เปิดเผยข้อเท็จจริงอันเป็นสาระสําคัญที่มิได้แสดงอยู่ในคําเสนอซื้อให้แก่บุคคลใดเป็นการเฉพาะราย ผู้ทําคําเสนอซื้อต้องแก้ไขเพิ่มเติมข้อเท็จจริงดังกล่าวในคําเสนอซื้อที่ได้ยื่นต่อสํานักงานภายในวันทําการถัดจากวันที่ได้เปิดเผยข้อเท็จจริงต่อบุคคลใดนั้น และส่งข้อมูลที่แก้ไขเพิ่มเติมนั้นให้แก่บุคคลตามข้อ 20(1) (ก) ถึง (ง) โดยทันทีหลังจากยื่นแก้ไขเพิ่มเติมข้อมูลในคําเสนอซื้อต่อสํานักงาน\n",
      "\n",
      "\n",
      "ส่วน ๒ ระยะเวลา ข้อเสนอ และการรายงานการรับซื้อหลักทรัพย์\n",
      "\n",
      "\\_\\_\\_\\_\\_\\_\\_\\_\\_\\_\\_\\_\\_\\_\\_\\_\\_\\_\n",
      "\n",
      "\n",
      "ข้อ ๒๓ ผู้ทําคําเสนอซื้อต้องเริ่มรับซื้อหลักทรัพย์ตามคําเสนอซื้อภายในสามวันทําการนับแต่วันที่ยื่นคําเสนอซื้อต่อสํานักงาน\n",
      "\n",
      "\n",
      "ข้อ ๒๔ ผู้ทําคําเสนอซื้อต้องกําหนดระยะเวลารับซื้อติดต่อกันไม่น้อยกว่ายี่สิบห้าวันทําการ แต่ไม่เกินสี่สิบห้าวันทําการ \n",
      "\n",
      "ผู้ทําคําเสนอซื้อที่มิได้ระบุว่าจะไม่ขยายระยะเวลารับซื้อ และไม่เคยประกาศระยะเวลารับซื้อสุดท้าย อาจขยายระยะเวลารับซื้อได้ แต่ระยะเวลารับซื้อเดิมที่กําหนดไว้ในคําเสนอซื้อและระยะเวลารับซื้อที่ขยายเมื่อรวมกันแล้วต้องไม่เกินสี่สิบห้าวันทําการ\n",
      "\n",
      "กําหนดระยะเวลารับซื้อสูงสุดตามความในข้อนี้ มิให้ใช้บังคับกับการทําคําเสนอซื้อที่มีการแก้ไขข้อเสนอเมื่อเกิดเหตุการณ์ร้ายแรงต่อกิจการตามข้อ 29 หรือการแก้ไขระยะเวลารับซื้อหรือข้อเสนอเมื่อมีบุคคลอื่นทําคําเสนอซื้อหลักทรัพย์ประเภทเดียวกันที่ออกโดยกิจการเดียวกันตามข้อ 30 \n",
      "\n",
      "\n",
      "ข้อ ๒๕  ผู้ทําคําเสนอซื้อที่ประสงค์จะขยายระยะเวลารับซื้อ ให้ดําเนินการดังต่อไปนี้\n",
      "\n",
      "(1)  ยื่นประกาศขยายระยะเวลารับซื้อตามแบบ 247-6-ก ต่อสํานักงานก่อนสิ้นระยะเวลารับซื้อเดิม\n",
      "\n",
      "(2)  ส่งประกาศให้แก่บุคคลตามข้อ 20(1) (ก) ถึง (ง) โดยทันทีหลังจากยื่นประกาศดังกล่าวต่อสํานักงาน และ\n",
      "\n",
      "(3)  โฆษณาประกาศตามวิธีการที่กําหนดในข้อ 20(2) เป็นระยะเวลาไม่น้อยกว่าหนึ่งวันทําการนับแต่วันที่ยื่นประกาศดังกล่าวต่อสํานักงาน   ทั้งนี้ ให้ระบุไว้อย่างชัดเจนว่าระยะเวลารับซื้อดังกล่าวเป็นระยะเวลารับซื้อสุดท้ายหรือไม่ \n",
      "\n",
      "\n",
      "ข้อ ๒๖ ผู้ทําคําเสนอซื้ออาจแก้ไขเปลี่ยนแปลงข้อเสนอในคําเสนอซื้อได้ ในกรณีใดกรณีหนึ่งดังต่อไปนี้\n",
      "\n",
      "(1)  เมื่อผู้ทําคําเสนอซื้อยังไม่เคยประกาศข้อเสนอสุดท้าย  และมีระยะเวลารับซื้อเหลือหลังจากวันประกาศแก้ไขข้อเสนออย่างน้อยสิบห้าวันทําการ \n",
      "\n",
      "(2) เมื่อมีเหตุการณ์ร้ายแรงต่อกิจการตามข้อ 45(1) โดยปฏิบัติตามหลักเกณฑ์ที่กําหนดในข้อ 29\n",
      "\n",
      "(3)  เมื่อมีบุคคลอื่นทําคําเสนอซื้อหลักทรัพย์ประเภทเดียวกันที่ออกโดยกิจการเดียวกัน โดยปฏิบัติตามหลักเกณฑ์ที่กําหนดในข้อ 30 \n",
      "\n",
      "เว้นแต่กรณีตามข้อ 29  การแก้ไขข้อเสนอในคําเสนอซื้อ ต้องเป็นการแก้ไขเพื่อให้เป็นข้อเสนอที่ดีกว่าข้อเสนอเดิม และต้องจัดให้ผู้แสดงเจตนาขายก่อนมีประกาศแก้ไขข้อเสนอดังกล่าว ได้รับประโยชน์ในส่วนที่เพิ่มขึ้นด้วย\n",
      "\n",
      "การแก้ไขข้อเสนอในคําเสนอซื้อให้ดีกว่าเดิมตามวรรคสอง ให้หมายความรวมถึง\n",
      "\n",
      "(1)  การเพิ่มราคาเสนอซื้อให้สูงขึ้น\n",
      "\n",
      "(2)  การลดหรือยกเลิกเงื่อนไขการเสนอซื้อ\n",
      "\n",
      "(3)  การขยายหรือเพิ่มระยะเวลาที่ยินยอมให้ผู้ถือหลักทรัพย์ที่แสดงเจตนาขายตามคําเสนอซื้อยกเลิกการแสดงเจตนาขายได้\n",
      "\n",
      "\n",
      "ข้อ ๒๗ ในการแก้ไขเปลี่ยนแปลงข้อเสนอในคําเสนอซื้อ ให้ผู้ทําคําเสนอซื้อดําเนินการดังต่อไปนี้\n",
      "\n",
      "(1) ยื่นประกาศแก้ไขข้อเสนอในคําเสนอซื้อตามแบบ 247-6-ก  ต่อสํานักงาน \n",
      "\n",
      "(2)  ส่งประกาศให้แก่บุคคลตามข้อ 20(1) (ก) ถึง (ง) โดยทันทีหลังจากยื่นประกาศดังกล่าวต่อสํานักงาน และ\n",
      "\n",
      "(3)  โฆษณาประกาศตามวิธีการที่กําหนดในข้อ 20(2) เป็นระยะเวลาไม่น้อยกว่า\n",
      "\n",
      "หนึ่งวันทําการนับแต่วันที่ยื่นประกาศดังกล่าวต่อสํานักงาน  ทั้งนี้ ให้ระบุไว้อย่างชัดเจนว่าข้อเสนอดังกล่าวเป็นข้อเสนอสุดท้ายหรือไม่ \n",
      "\n",
      "\n",
      "ข้อ ๒๘ ในกรณีที่ผู้ทําคําเสนอซื้อมิได้ระบุไว้ตั้งแต่ต้นในคําเสนอซื้อว่าข้อเสนอในคําเสนอซื้อหรือระยะเวลารับซื้อที่ระบุไว้ในคําเสนอซื้อเป็นข้อเสนอหรือระยะเวลารับซื้อสุดท้ายที่จะไม่แก้ไขเพิ่มเติมอีกแล้ว  ผู้ทําคําเสนอซื้อมีหน้าที่ต้องประกาศข้อเสนอสุดท้าย และประกาศระยะเวลารับซื้อสุดท้าย โดยต้องดําเนินการในขณะที่มีระยะเวลารับซื้อเหลือหลังจากวันประกาศข้อเสนอสุดท้ายหรือวันประกาศระยะเวลารับซื้อสุดท้าย แล้วแต่กรณี อย่างน้อยสิบห้าวันทําการ  \n",
      "\n",
      "ในการประกาศข้อเสนอสุดท้ายหรือการประกาศระยะเวลารับซื้อสุดท้ายตามวรรคหนึ่ง ผู้ทําคําเสนอซื้อต้องดําเนินการดังต่อไปนี้\n",
      "\n",
      "(1)  ยื่นประกาศตามแบบ 247-6-ก  ต่อสํานักงาน\n",
      "\n",
      "(2)  ส่งประกาศให้แก่บุคคลตามข้อ 20(1) (ก) ถึง (ง) โดยทันทีหลังจากยื่นประกาศดังกล่าวต่อสํานักงาน และ\n",
      "\n",
      "(3)  โฆษณาประกาศตามวิธีการที่กําหนดในข้อ 20(2) เป็นระยะเวลาไม่น้อยกว่าสามวันทําการติดต่อกันนับแต่วันที่ยื่นประกาศดังกล่าวต่อสํานักงาน   ทั้งนี้ ให้ระบุไว้อย่างชัดเจนว่าเป็นการประกาศข้อเสนอสุดท้าย หรือประกาศระยะเวลารับซื้อสุดท้าย        \n",
      "\n",
      "\n",
      "ข้อ ๒๙ ในกรณีที่เกิดเหตุการณ์ร้ายแรงต่อกิจการตามข้อ 45(1) ผู้ทําคําเสนอซื้ออาจแก้ไขข้อเสนอในคําเสนอซื้อโดยการลดราคาเสนอซื้อให้ต่ําลงได้ ไม่ว่าผู้ทําคําเสนอซื้อจะได้ประกาศข้อเสนอสุดท้ายหรือประกาศระยะเวลารับซื้อสุดท้ายแล้วหรือไม่ก็ตาม และให้ถือว่าข้อเสนอที่ยื่นตามข้อนี้เป็นข้อเสนอสุดท้าย  และให้ผู้ทําคําเสนอซื้อประกาศข้อเสนอสุดท้ายตามวิธีการที่กําหนดในข้อ 28 วรรคสองด้วย\n",
      "\n",
      "การดําเนินการตามวรรคหนึ่งต้องกระทําภายใต้หลักเกณฑ์ดังต่อไปนี้\n",
      "\n",
      "(1) ดําเนินการในขณะที่คําเสนอซื้อนั้นยังมีระยะเวลารับซื้อเหลืออย่างน้อยสิบห้าวันทําการนับแต่วันประกาศแก้ไขข้อเสนอดังกล่าว หรือ\n",
      "\n",
      "(2) ในกรณีที่ระยะเวลารับซื้อจะเหลือน้อยกว่าสิบห้าวันทําการ ผู้ทําคําเสนอซื้อได้ขยายระยะเวลารับซื้อให้เหลือเท่ากับสิบห้าวันทําการ โดยในกรณีนี้ให้ถือว่าระยะเวลารับซื้อดังกล่าวเป็นระยะเวลารับซื้อสุดท้าย และให้ผู้ทําคําเสนอซื้อประกาศระยะเวลารับซื้อสุดท้ายตามวิธีการที่กําหนดในข้อ 28 วรรคสองด้วย\n",
      "\n",
      "การใช้สิทธิลดราคาเสนอซื้อตามวรรคหนึ่ง จะกระทําได้ต่อเมื่อผู้ทําคําเสนอซื้อได้ระบุเหตุแห่งการใช้สิทธิลดราคาเสนอซื้อตามข้อนี้ไว้อย่างชัดเจนแล้วในคําเสนอซื้อ และเมื่อเกิดเหตุแห่งการใช้สิทธิ ผู้ทําคําเสนอซื้อได้แจ้งข้อเท็จจริงดังกล่าวให้สํานักงานทราบ และสํานักงานมิได้แจ้งทักท้วงเหตุแห่งการลดราคาเสนอซื้อดังกล่าวต่อผู้ทําคําเสนอซื้อภายในสามวันทําการนับแต่วันที่สํานักงานได้รับแจ้งเหตุนั้น\n",
      "\n",
      "เมื่อผู้ทําคําเสนอซื้อได้ดําเนินการตามหลักเกณฑ์และเงื่อนไขในข้อนี้แล้ว ผู้ทําคําเสนอซื้อสามารถชําระราคาหลักทรัพย์ให้แก่ผู้แสดงเจตนาขายทุกรายตามราคาเสนอซื้อที่ลดลงแล้วได้ เว้นแต่หลักทรัพย์จํานวนที่ผู้ถือหลักทรัพย์ได้แสดงเจตนาขายก่อนวันที่ผู้ทําคําเสนอซื้อประกาศแก้ไขข้อเสนอ โดยเจตนาที่แสดงไว้แล้วนั้นเป็นเจตนาที่ไม่สามารถยกเลิกได้ ผู้ทําคําเสนอซื้อต้องชําระราคาหลักทรัพย์จํานวนดังกล่าวตามราคาเสนอซื้อเดิมก่อนการแก้ไข \n",
      "\n",
      "\n",
      "ข้อ ๓๐ ในระหว่างระยะเวลารับซื้อตามคําเสนอซื้อ หากมีบุคคลอื่นซึ่งมิใช่บุคคลตามมาตรา 258 ของผู้ทําคําเสนอซื้อยื่นคําเสนอซื้อหลักทรัพย์ของกิจการที่ผู้ทําคําเสนอซื้อรับซื้ออยู่นั้นต่อสํานักงานด้วย  ผู้ทําคําเสนอซื้ออาจขยายระยะเวลารับซื้อหรือแก้ไขข้อเสนอตามคําเสนอซื้อเดิมได้ ไม่ว่าผู้ทําคําเสนอซื้อจะได้ประกาศข้อเสนอสุดท้ายหรือประกาศระยะเวลารับซื้อสุดท้ายแล้วหรือไม่ก็ตาม \n",
      "\n",
      "การแก้ไขคําเสนอซื้อตามวรรคหนึ่งต้องกระทําภายใต้หลักเกณฑ์ดังต่อไปนี้\n",
      "\n",
      "(1) ผู้ทําคําเสนอซื้อต้องยื่นประกาศขยายระยะเวลารับซื้อหรือประกาศแก้ไขข้อเสนตามคําเสนอซื้อ ภายในห้าวันทําการนับแต่วันที่บุคคลอื่นนั้นยื่นคําเสนอซื้อต่อสํานักงาน หรือภายในระยะเวลารับซื้อสุดท้ายของตน แล้วแต่วันใดจะถึงก่อน\n",
      "\n",
      "(2) ผู้ทําคําเสนอซื้อต้องยื่นประกาศระยะเวลารับซื้อสุดท้ายหรือประกาศข้อเสนอสุดท้ายภายในวันทําการสุดท้ายที่บุคคลอื่นนั้นสามารถประกาศระยะเวลารับซื้อสุดท้ายหรือประกาศข้อเสนอสุดท้าย\n",
      "\n",
      "(3)  การขยายระยะเวลารับซื้อทําได้เพียงไม่เกินกว่าระยะเวลารับซื้อตามคําเสนอซื้อของบุคคลอื่นนั้น\n",
      "\n",
      "(4)  ผู้ทําคําเสนอซื้อได้ระบุเหตุแห่งการใช้สิทธิในการขยายระยะเวลารับซื้อหรือการแก้ไขข้อเสนอตามข้อนี้ไว้อย่างชัดเจนแล้วในคําเสนอซื้อ และในแบบ 247-6-ก ทุกครั้ง \n",
      "\n",
      "นอกจากหลักเกณฑ์ที่กําหนดในวรรคสองแล้ว  ให้ผู้ทําคําเสนอซื้อปฏิบัติตามความที่กําหนดในส่วนนี้ด้วยโดยอนุโลม     \n",
      "\n",
      "\n",
      "ข้อ ๓๑ ผู้ทําคําเสนอซื้อต้องยินยอมให้ผู้ถือหลักทรัพย์ที่แสดงเจตนาขายตามคําเสนอซื้อยกเลิกการแสดงเจตนาดังกล่าวได้ตามระยะเวลาที่กําหนดในคําเสนอซื้อ ซึ่งต้องไม่น้อยกว่ายี่สิบวันทําการของระยะเวลารับซื้อ  ทั้งนี้ ผู้ทําคําเสนอซื้อต้องระบุข้อความดังกล่าวไว้ให้ชัดเจนในคําเสนอซื้อ\n",
      "\n",
      "ในกรณีที่มีการขยายระยะเวลารับซื้อหรือมีการแก้ไขข้อเสนอในคําเสนอซื้อ ผู้ทําคําเสนอซื้อต้องขยายระยะเวลาที่ยินยอมให้ผู้ถือหลักทรัพย์ที่แสดงเจตนาขายตามคําเสนอซื้อยกเลิกการแสดงเจตนาดังกล่าวได้เพิ่มขึ้นอีกเป็นระยะเวลาไม่น้อยกว่าสิบวันทําการนับต่อจากวันสุดท้ายที่ผู้ทําคําเสนอซื้อยินยอมให้ผู้แสดงเจตนาขายยกเลิกการแสดงเจตนาดังกล่าวได้ในครั้งก่อน หรือวันที่ผู้ทําคําเสนอซื้อประกาศขยายระยะเวลารับซื้อหรือประกาศแก้ไขข้อเสนอ แล้วแต่วันใดจะถึงภายหลัง แต่ต้องไม่เกินกว่าระยะเวลารับซื้อ\n",
      "\n",
      "เมื่อผู้ถือหลักทรัพย์รายใดยกเลิกการแสดงเจตนาขายหลักทรัพย์ภายในระยะเวลาที่กําหนด ผู้ทําคําเสนอซื้อต้องส่งมอบหลักทรัพย์คืนให้แก่ผู้ถือหลักทรัพย์รายนั้นภายในวันทําการถัดจากวันที่ผู้ถือหลักทรัพย์แจ้งการยกเลิกดังกล่าว\n",
      "\n",
      "\n",
      "ข้อ ๓๒ ผู้ทําคําเสนอซื้อต้องจัดให้มีตัวแทนรับซื้อหลักทรัพย์ทําหน้าที่เก็บรักษาหลักทรัพย์ที่ผู้ถือหลักทรัพย์มาแสดงเจตนาขาย โดยแยกบัญชีหลักทรัพย์ดังกล่าวไว้ต่างหากจากบัญชีทรัพย์สินของตัวแทนรับซื้อและผู้ทําคําเสนอซื้อ รวมทั้งส่งมอบหลักทรัพย์ที่มีผู้มาแสดงเจตนาขายให้แก่ผู้ทําคําเสนอซื้อให้แล้วเสร็จ ภายในวันทําการถัดจากวันที่ผู้ทําคําเสนอซื้อชําระราคาหลักทรัพย์แก่ผู้แสดงเจตนาขาย\n",
      "\n",
      "\n",
      "ข้อ ๓๓ ให้ผู้ทําคําเสนอซื้อที่ได้ประกาศระยะเวลารับซื้อสุดท้ายแล้ว รายงานผลการเสนอซื้อหลักทรัพย์เบื้องต้นตามแบบ 247-6-ข  ต่อสํานักงาน และสําเนาให้แก่ตลาดหลักทรัพย์ ภายในวันทําการถัดจากวันสุดท้ายที่ผู้ทําคําเสนอซื้อยินยอมให้ผู้แสดงเจตนาขายยกเลิกการแสดงเจตนาดังกล่าวได้  หรือก่อนสิ้นสุดระยะเวลารับซื้อสามวันทําการ ในกรณีที่ผู้ทําคําเสนอซื้อยินยอมให้ผู้แสดงเจตนาขายยกเลิกการแสดงเจตนาขายได้ตลอดระยะเวลารับซื้อ\n",
      "\n",
      "ในกรณีที่ผู้ทําคําเสนอซื้อได้ยื่นรายงานตามวรรคหนึ่งต่อสํานักงานแล้ว และต่อมาได้มีการขยายระยะเวลารับซื้อเนื่องจากเหตุตามข้อ 29 หรือข้อ 30 ให้ผู้ทําคําเสนอซื้อปฏิบัติตามความในวรรคหนึ่งอีกครั้งหนึ่ง\n",
      "\n",
      "\n",
      "ข้อ ๓๔ ให้ผู้ทําคําเสนอซื้อรายงานผลการซื้อหลักทรัพย์ตามแบบ 256-2  ต่อสํานักงาน และสําเนาให้แก่ตลาดหลักทรัพย์ ภายในห้าวันทําการนับแต่วันสิ้นสุดระยะเวลารับซื้อ \n",
      "\n",
      "\n",
      "ส่วน ๓ ราคาเสนอซื้อหลักทรัพย์\n",
      "\n",
      "\\_\\_\\_\\_\\_\\_\\_\\_\\_\\_\\_\\_\\_\\_\\_\\_\\_\\_\\_\\_\\_\n",
      "\n",
      "\n",
      "ข้อ ๓๕ ราคาเสนอซื้อหลักทรัพย์ต้องเป็นไปตามหลักเกณฑ์ดังต่อไปนี้ \n",
      "\n",
      "(1)  ราคาเสนอซื้อจากผู้ถือหลักทรัพย์ทุกรายในประเภทและรุ่นเดียวกัน ต้องเป็นรูปแบบเดียวกัน\n",
      "\n",
      "(2)  ราคาเสนอซื้ออาจกําหนดเป็นทางเลือกมากกว่าหนึ่งทางเลือกก็ได้ โดยอย่างน้อยต้องกําหนดทางเลือกหนึ่งเป็นตัวเงินเสมอ\n",
      "\n",
      "(3) ราคาเสนอซื้อที่กําหนดเป็นสิ่งตอบแทนอื่นที่มิใช่ตัวเงินต้องมีการประเมินมูลค่าให้เป็นตัวเงินโดยที่ปรึกษาทางการเงิน \n",
      "\n",
      "\n",
      "ข้อ ๓๖ เว้นแต่กรณีตามข้อ 37 ราคาเสนอซื้อหุ้นแต่ละประเภทต้องไม่ต่ํากว่าราคาสูงสุดที่ผู้ทําคําเสนอซื้อหรือบุคคลตามมาตรา 258 ของผู้ทําคําเสนอซื้อ ได้หุ้นประเภทนั้นมาในระหว่างระยะเวลาเก้าสิบวันก่อนวันที่ยื่นคําเสนอซื้อต่อสํานักงาน\n",
      "\n",
      "ในกรณีที่ผู้ทําคําเสนอซื้อหรือบุคคลตามมาตรา 258 ของผู้ทําคําเสนอซื้อ ได้หุ้นสามัญหรือหุ้นบุริมสิทธิประเภทใดประเภทหนึ่งประเภทเดียวมาในระหว่างระยะเวลาเก้าสิบวันก่อนวันที่ยื่นคําเสนอซื้อต่อสํานักงาน ราคาเสนอซื้อหุ้นประเภทที่ไม่มีการได้มานั้นต้องเป็นไปตามหลักเกณฑ์ดังต่อไปนี้\n",
      "\n",
      "(1) ในกรณีที่หุ้นประเภทและรุ่นที่ไม่มีการได้มานั้นเป็นหลักทรัพย์จดทะเบียนในตลาดหลักทรัพย์ ราคาเสนอซื้อต้องไม่ต่ํากว่าราคาสูงสุดระหว่าง \n",
      "\n",
      "          (ก) ราคาตลาดถัวเฉลี่ยถ่วงน้ําหนักของหุ้นประเภทที่ไม่มีการได้มานั้นในระหว่างห้าวันทําการล่าสุดก่อนวันที่ได้หุ้นอีกประเภทหนึ่งมา  ทั้งนี้ ในกรณีที่มีการได้หุ้นอีกประเภทหนึ่งมาหลายครั้งในระหว่างระยะเวลาเก้าสิบวันก่อนวันที่ยื่นคําเสนอซื้อต่อสํานักงานให้ใช้ราคาตลาดถัวเฉลี่ยถ่วงน้ําหนักของช่วงระยะเวลาห้าวันทําการล่าสุดก่อนวันที่ได้หุ้นอีกประเภทหนึ่งนั้นมาในราคาสูงสุด และ \n",
      "\n",
      "          (ข)  มูลค่ายุติธรรมของหุ้นประเภทที่ไม่มีการได้มานั้น ซึ่งประเมินโดยที่ปรึกษาทางการเงิน\n",
      "\n",
      "(2)  กรณีอื่นนอกจาก (1) ให้ใช้ราคาตาม (1) (ข) \n",
      "\n",
      "\n",
      "ข้อ ๓๗ ในกรณีที่เป็นการทําคําเสนอซื้อเนื่องจากการครอบงํากิจการผ่านนิติบุคคลอื่นตามข้อ 6 ราคาเสนอซื้อหุ้นต้องเป็นไปตามหลักเกณฑ์ดังต่อไปนี้ \n",
      "\n",
      "(1)  ในกรณีที่ผู้ทําคําเสนอซื้อหรือบุคคลตามมาตรา 258 ของผู้ทําคําเสนอซื้อไม่มีการได้มาซึ่งหุ้นของกิจการในระหว่างระยะเวลาเก้าสิบวันก่อนวันที่ยื่นคําเสนอซื้อต่อสํานักงาน  ราคาเสนอซื้อหุ้นต้องไม่ต่ํากว่าต้นทุนการได้มาซึ่งอํานาจครอบงํากิจการนั้นผ่านนิติบุคคลอื่น  ทั้งนี้ ให้สํานักงานมีอํานาจประกาศกําหนดหลักเกณฑ์การคํานวณต้นทุนการได้มาซึ่งอํานาจครอบงํากิจการในลักษณะดังกล่าวได้\n",
      "\n",
      "(2)  ในกรณีที่ผู้ทําคําเสนอซื้อหรือบุคคลตามมาตรา 258 ของผู้ทําคําเสนอซื้อได้หุ้นสามัญหรือหุ้นบุริมสิทธิของกิจการมาในระหว่างระยะเวลาเก้าสิบวันก่อนวันที่ยื่นคําเสนอซื้อต่อสํานักงาน\n",
      "\n",
      "       (ก)  ราคาเสนอซื้อหุ้นประเภทที่ได้มานั้นต้องไม่ต่ํากว่าราคาสูงสุดระหว่าง\n",
      "\n",
      "             1.  ต้นทุนการได้มาซึ่งอํานาจครอบงํากิจการนั้นผ่านนิติบุคคลอื่นตามหลักเกณฑ์การคํานวณที่สํานักงานกําหนดตาม (1)  และ\n",
      "\n",
      "             2.  ราคาสูงสุดที่ผู้ทําคําเสนอซื้อหรือบุคคลตามมาตรา 258ของผู้ทําคําเสนอซื้อได้หุ้นประเภทนั้นมาในระหว่างระยะเวลาเก้าสิบวันก่อนวันที่ยื่นคําเสนอซื้อต่อสํานักงาน\n",
      "\n",
      "       (ข)  ราคาเสนอซื้อหุ้นประเภทที่ไม่มีการได้มานั้น ต้องเป็นไปตามหลักเกณฑ์ที่กําหนดตามข้อ 36 วรรคสอง โดยอนุโลม\n",
      "\n",
      "\n",
      "ข้อ ๓๘ ในกรณีหุ้นที่ได้มาในระหว่างระยะเวลาเก้าสิบวันก่อนวันที่ยื่นคําเสนอซื้อต่อสํานักงาน เป็นหุ้นที่ได้มาจากการใช้สิทธิซื้อหรือแปลงสภาพ ให้คํานวณราคาสูงสุดที่ได้หุ้นนั้นมาตามหลักเกณฑ์ดังต่อไปนี้\n",
      "\n",
      "(1)  ในกรณีที่มีการได้มาเนื่องจากการใช้สิทธิตามหลักทรัพย์ประเภทใบสําคัญแสดงสิทธิที่จะซื้อหุ้น ใบสําคัญแสดงสิทธิอนุพันธ์ หรือหลักทรัพย์อื่นที่มีลักษณะทํานองเดียวกัน ซึ่งเป็นหลักทรัพย์ที่ได้มาในระหว่างระยะเวลาเก้าสิบวันก่อนวันที่ยื่นคําเสนอซื้อต่อสํานักงาน ราคาสูงสุดที่ได้หุ้นนั้นมาให้หมายถึง ราคาที่สูงกว่าระหว่าง\n",
      "\n",
      "      (ก)  ราคาการได้มาซึ่งหลักทรัพย์ที่เป็นที่มาแห่งการใช้สิทธิดังกล่าว รวมกับราคาใช้สิทธิซื้อหุ้นตามหลักทรัพย์ดังกล่าว และ\n",
      "\n",
      "      (ข)  ราคาใดราคาหนึ่งดังต่อไปนี้\n",
      "\n",
      "             1.  ราคาตลาดถัวเฉลี่ยถ่วงน้ําหนักของหุ้นนั้นในระหว่างห้าวันทําการก่อนวันที่มีการใช้สิทธิซื้อหุ้นตามหลักทรัพย์แปลงสภาพนั้น ในกรณีที่หุ้นประเภทเดียวกับหุ้นที่ได้จากการใช้สิทธินั้นเป็นหลักทรัพย์จดทะเบียนในตลาดหลักทรัพย์ หรือ\n",
      "\n",
      "             2.  มูลค่ายุติธรรมของหุ้นนั้นซึ่งประเมินโดยที่ปรึกษาทางการเงิน ในกรณีอื่นใดนอกจาก 1.\n",
      "\n",
      "(2)  ในกรณีที่มีการได้มาเนื่องจากการแปลงสภาพตามหลักทรัพย์ประเภทหุ้นกู้แปลงสภาพ หรือหลักทรัพย์อื่นที่มีลักษณะทํานองเดียวกัน ซึ่งเป็นหลักทรัพย์ที่ได้มาในระหว่างระยะเวลาเก้าสิบวันก่อนวันที่ยื่นคําเสนอซื้อต่อสํานักงานราคาสูงสุดที่ได้หุ้นนั้นมาให้หมายถึง ราคาที่สูงกว่าระหว่าง\n",
      "\n",
      "      (ก) ราคาการได้มาซึ่งหลักทรัพย์ที่เป็นที่มาแห่งการแปลงสภาพดังกล่าว และ\n",
      "\n",
      "      (ข)  ราคาตาม (1) (ข) โดยอนุโลม \n",
      "\n",
      "(3)  ในกรณีที่ไม่มีการได้มาซึ่งหลักทรัพย์ที่เป็นที่มาแห่งการใช้สิทธิซื้อหรือการแปลงสภาพมาในระหว่างระยะเวลาเก้าสิบวันก่อนวันที่ยื่นคําเสนอซื้อต่อสํานักงาน ราคาสูงสุดที่ได้หุ้นนั้นมาให้หมายถึง ราคาตาม (1) (ข) โดยอนุโลม\n",
      "\n",
      "\n",
      "ข้อ ๓๙ ในกรณีที่หุ้นที่ได้มาในระหว่างระยะเวลาเก้าสิบวันก่อนวันที่ยื่นคําเสนอซื้อต่อสํานักงาน เป็นการได้มาโดยการแลกเปลี่ยนกับหุ้นของบริษัทอื่น ราคาสูงสุดที่ได้หุ้นนั้นมาให้ใช้ราคาดังต่อไปนี้ คูณด้วยอัตราจํานวนหุ้นของบริษัทอื่นต่อจํานวนหุ้นของกิจการที่ใช้ในกาแลกเปลี่ยนนั้น\n",
      "\n",
      "(1)  ราคาตลาดถัวเฉลี่ยถ่วงน้ําหนักของหุ้นของบริษัทอื่นนั้นในระหว่าง  \n",
      "ห้าวันทําการก่อนวันที่ได้หุ้นของกิจการมา ในกรณีหุ้นของบริษัทอื่นนั้นเป็นหลักทรัพย์จดทะเบียนในตลาดหลักทรัพย์\n",
      "\n",
      "(2)  มูลค่ายุติธรรมของหุ้นของบริษัทอื่นนั้น ซึ่งประเมินโดยที่ปรึกษาทางการเงิน ในกรณีที่หุ้นของบริษัทอื่นที่นํามาแลกเปลี่ยนนั้น มิได้เป็นหลักทรัพย์จดทะเบียนในตลาดหลักทรัพย์ หรือเป็นหลักทรัพย์จดทะเบียนแต่ไม่มีการซื้อขายในระหว่างห้าวันทําการก่อนวันที่ได้มาซึ่งหุ้นของกิจการ\n",
      "\n",
      "\n",
      "ข้อ ๔๐  ในการคํานวณราคาสูงสุดที่ได้หุ้นมาในระหว่างระยะเวลาเก้าสิบวันก่อนวันที่ยื่นคําเสนอซื้อต่อสํานักงาน  ผู้ทําคําเสนอซื้ออาจปรับราคาหุ้นที่ได้มาโดยคํานึงถึงผลกระทบจากเหตุการณ์ดังต่อไปนี้ด้วยก็ได้ โดยผู้ทําคําเสนอซื้อต้องแสดงรายละเอียดการปรับราคาที่ได้มานั้นไว้ในแบบ 247-4 ด้วย\n",
      "\n",
      "(1)  การจ่ายปันผลให้แก่ผู้ถือหุ้น\n",
      "\n",
      "(2) การเปลี่ยนแปลงมูลค่าหุ้นที่ตราไว้อันเป็นผลให้จํานวนหุ้นเพิ่มขึ้นหรือลดลง\n",
      "\n",
      "(3)  การให้สิทธิซื้อหุ้นเพิ่มทุนหรือใบแสดงสิทธิในการซื้อหุ้นเพิ่มทุนที่โอนสิทธิได้ แก่ผู้ถือหุ้นตามส่วนจํานวนหุ้นที่ถืออยู่เดิม \n",
      "\n",
      "ในกรณีที่ข้อกําหนดในประกาศนี้กําหนดให้ผู้ทําคําเสนอซื้อต้องนําราคาการได้มาซึ่งหลักทรัพย์ที่เป็นที่มาแห่งการใช้สิทธิซื้อหรือแปลงสภาพรวมคํานวณเป็นราคาการได้มาซึ่งหุ้นของกิจการด้วย ผู้ทําคําเสนอซื้ออาจปรับราคาการได้มาซึ่งหลักทรัพย์อื่นนั้นโดยคํานึงถึงอัตราการมีสิทธิซื้อหุ้นหรืออัตราการแปลงสภาพเป็นหุ้นต่อหลักทรัพย์หนึ่งหน่วยประกอบด้วยก็ได้\n",
      "\n",
      "\n",
      "ข้อ ๔๑ ราคาเสนอซื้อใบสําคัญแสดงสิทธิที่จะซื้อหุ้นและใบแสดงสิทธิในการซื้อหุ้นเพิ่มทุนที่โอนสิทธิได้ ต้องไม่ต่ํากว่าราคาสูงสุดระหว่าง\n",
      "\n",
      "(1)  ราคาสูงสุดที่ได้ใบสําคัญแสดงสิทธิรุ่นนั้นมาในระหว่างระยะเวลาเก้าสิบวันก่อนวันที่ยื่นคําเสนอซื้อต่อสํานักงาน  และ\n",
      "\n",
      "(2)  ผลต่างของราคาเสนอซื้อหุ้นประเภทเดียวกับหุ้นที่รองรับใบสําคัญแสดงสิทธินั้นกับราคาใช้สิทธิซื้อหุ้นตามใบสําคัญแสดงสิทธินั้น คูณด้วยจํานวนหุ้นที่สามารถใช้สิทธิซื้อได้ต่อใบสําคัญแสดงสิทธิหนึ่งหน่วย\n",
      "\n",
      "\n",
      "ข้อ ๔๒ ราคาเสนอซื้อหุ้นกู้แปลงสภาพ ต้องไม่ต่ํากว่าราคาสูงสุดระหว่าง\n",
      "\n",
      "(1)  ราคาสูงสุดที่ได้หุ้นกู้แปลงสภาพรุ่นนั้นมาในระหว่างระยะเวลาเก้าสิบวันก่อนวันที่ยื่นคําเสนอซื้อต่อสํานักงาน  และ\n",
      "\n",
      "(2)  ราคาเสนอซื้อหุ้นประเภทเดียวกับหุ้นที่รองรับหุ้นกู้แปลงสภาพนั้น คูณด้วยจํานวนหุ้นที่พึงได้รับจากการใช้สิทธิแปลงสภาพตามหุ้นกู้แปลงสภาพหนึ่งหน่วย        \n",
      "\n",
      "\n",
      "ข้อ ๔๓  ในกรณีที่ผู้ทําคําเสนอซื้อแก้ไขราคาเสนอซื้อหุ้นให้สูงขึ้น ผู้ทําคําเสนอซื้อต้องแก้ไขราคาเสนอซื้อหลักทรัพย์แปลงสภาพที่มีหุ้นประเภทเดียวกับที่ได้แก้ไขราคาเสนอซื้อนั้นเป็นหุ้นรองรับการใช้สิทธิ ให้เป็นไปตามข้อ 41 และข้อ 42 ด้วย\n",
      "\n",
      "\n",
      "ข้อ ๔๔ ในกรณีดังต่อไปนี้ เมื่อได้รับคําขอจากผู้ทําคําเสนอซื้อ  คณะอนุกรรมการวินิจฉัยการเข้าถือหลักทรัพย์เพื่อครอบงํากิจการอาจผ่อนผันให้ผู้ทําคําเสนอซื้อกําหนดราคาเสนอซื้อหลักทรัพย์เป็นประการอื่นได้ \n",
      "\n",
      "(1) เมื่อผู้ทําคําเสนอซื้อแสดงให้เห็นได้ว่าราคาที่ได้จากการคํานวณตามหลักเกณฑ์ที่กําหนดในประกาศนี้มิได้สะท้อนถึงมูลค่าที่แท้จริงของหลักทรัพย์นั้น\n",
      "\n",
      "(2) เมื่อผู้ทําคําเสนอซื้อได้หุ้นของกิจการมาด้วยวิธีอื่นนอกจากวิธีที่ได้กําหนดหลักเกณฑ์การคํานวณราคาไว้แล้วในประกาศนี้ ในระหว่างระยะเวลาเก้าสิบวันก่อนวันที่ยื่นคําเสนอซื้อต่อสํานักงาน\n",
      "\n",
      "ให้ผู้ทําคําเสนอซื้อยื่นคําขอผ่อนผันตามวรรคหนึ่งผ่านสํานักงาน โดยชําระค่าธรรมเนียมตามที่กําหนดไว้ในประกาศสํานักงานคณะกรรมการกํากับหลักทรัพย์และตลาดหลักทรัพย์ว่าด้วยการกําหนดค่าธรรมเนียมการยื่นแบบแสดงรายการข้อมูล การจดทะเบียน และการยื่นคําขอต่าง ๆ ทั้งนี้ ผู้ทําคําเสนอซื้อต้องจัดให้มีที่ปรึกษาทางการเงินแสดงความเห็นต่อราคาเสนอซื้อที่ผู้ทําคําเสนอซื้อประสงค์จะกําหนดเพื่อเสนอประกอบการพิจารณาของคณะอนุกรรมการวินิจฉัยการเข้าถือหลักทรัพย์เพื่อครอบงํากิจการด้วย \n",
      "\n",
      "\n",
      "ส่วน ๔ การยกเลิกคําเสนอซื้อ\n",
      "\n",
      "\\_\\_\\_\\_\\_\\_\\_\\_\\_\\_\\_\\_\\_\\_\\_\\_\\_\\_\\_\\_\n",
      "\n",
      "\n",
      "ข้อ ๔๕ ผู้ทําคําเสนอซื้ออาจยกเลิกคําเสนอซื้อได้ในกรณีใดกรณีหนึ่งดังต่อไปนี้\n",
      "\n",
      "(1) มีเหตุการณ์หรือการกระทําใด ๆ เกิดขึ้นภายหลังจากยื่นคําเสนอซื้อต่อสํานักงานและยังไม่พ้นระยะเวลารับซื้อ อันเป็นเหตุหรืออาจเป็นเหตุให้เกิดความเสียหายอย่างร้ายแรงต่อฐานะหรือทรัพย์สินของกิจการที่ถูกเสนอซื้อ โดยเหตุการณ์หรือการกระทําดังกล่าวมิได้เกิดจากการกระทําของผู้ทําคําเสนอซื้อหรือการกระทําที่ผู้ทําคําเสนอซื้อต้องรับผิดชอบ\n",
      "\n",
      "(2)  กิจการที่ถูกเสนอซื้อกระทําการใด ๆ ภายหลังจากยื่นคําเสนอซื้อต่อสํานักงานและยังไม่พ้นระยะเวลารับซื้อ อันเป็นผลให้มูลค่าของหุ้นลดลงอย่างมีนัยสําคัญ\n",
      "\n",
      "การใช้สิทธิยกเลิกคําเสนอซื้อตามวรรคหนึ่งจะกระทําได้ต่อเมื่อผู้ทําคําเสนอซื้อได้ระบุเหตุดังกล่าวไว้อย่างชัดเจนแล้วในคําเสนอซื้อ และเมื่อเกิดเหตุแห่งการใช้สิทธิ ผู้ทําคําเสนอซื้อได้แจ้งข้อเท็จจริงดังกล่าวให้สํานักงานทราบ และสํานักงานมิได้แจ้งทักท้วงเหตุแห่งการยกเลิกดังกล่าวต่อผู้ทําคําเสนอซื้อภายในสามวันทําการนับแต่วันที่สํานักงานได้รับแจ้งเหตุนั้น \n",
      "\n",
      "\n",
      "ข้อ ๔๖ นอกจากการยกเลิกคําเสนอซื้อตามข้อ 45 แล้ว ผู้ทําคําเสนอซื้อที่ทําคําเสนอซื้อโดยสมัครใจ อาจยกเลิกคําเสนอซื้อได้หากสิ้นสุดระยะเวลารับซื้อที่กําหนดไว้ในคําเสนอซื้อแล้ว ปรากฏว่าจํานวนหุ้นที่มีผู้แสดงเจตนาขายมีจํานวนน้อยกว่าจํานวนหุ้นที่ผู้ทําคําเสนอซื้อกําหนดเป็นเงื่อนไขในการรับซื้อ  ทั้งนี้ ผู้ทําคําเสนอซื้อต้องระบุเงื่อนไขและเหตุแห่งการยกเลิกตามข้อนี้ไว้อย่างชัดเจนในคําเสนอซื้อด้วย\n",
      "\n",
      "\n",
      "ข้อ ๔๗ ในการยกเลิกคําเสนอซื้อ ให้ผู้ทําคําเสนอซื้อดําเนินการดังต่อไปนี้\n",
      "\n",
      "(1)  ส่งหนังสือแจ้งการยกเลิกคําเสนอซื้อพร้อมเหตุผลไปยังบุคคลดังต่อไปนี้\n",
      "\n",
      "      (ก)  ตลาดหลักทรัพย์ กิจการที่ถูกเสนอซื้อ และผู้ถือหลักทรัพย์ในประเภทหรือรุ่นที่เสนอซื้อทุกรายตามรายชื่อในทะเบียนผู้ถือหลักทรัพย์ล่าสุด ภายในวันทําการหลังจากพ้นวันทําการสุดท้ายที่สํานักงานอาจแจ้งทักท้วงการยกเลิก กรณีเป็นการยกเลิกคําเสนอซื้อตามข้อ 45\n",
      "\n",
      "       (ข)  สํานักงานและบุคคลตาม (ก) ภายในวันทําการถัดจากวันสิ้นสุดระยะเวลารับซื้อ กรณีเป็นการยกเลิกคําเสนอซื้อตามข้อ 46\n",
      "\n",
      "(2) ให้ตัวแทนรับซื้อหลักทรัพย์คืนหลักทรัพย์ให้แก่ผู้แสดงเจตนาขายที่ยังไม่ได้รับชําระราคาหลักทรัพย์ ภายในวันทําการถัดจากวันที่แจ้งการยกเลิกคําเสนอซื้อไปยังผู้แสดงเจตนา \n",
      "\n",
      "\n",
      "ส่วน ๕ ข้อบังคับหลังการทําคําเสนอซื้อ\n",
      "\n",
      "\\_\\_\\_\\_\\_\\_\\_\\_\\_\\_\\_\\_\\_\\_\\_\n",
      "\n",
      "\n",
      "ข้อ ๔๘ ภายหลังการทําคําเสนอซื้อ ห้ามมิให้ผู้ทําคําเสนอซื้อที่ได้มาหรือเป็นผู้ถือหุ้นของกิจการจนถึงหรือข้ามจุดที่ต้องทําคําเสนอซื้อตามข้อ 4 กระทําการดังต่อไปนี้ ไม่ว่าบุคคลดังกล่าวจะมีการได้หลักทรัพย์จากการทําคําเสนอซื้อหรือไม่\n",
      "\n",
      "(1)  ซื้อหรือกระทําการอื่นใด อันเป็นผลให้ได้มาหรือเป็นผู้ถือหลักทรัพย์ของกิจการนั้นในราคาหรือด้วยสิ่งตอบแทนที่สูงกว่าราคาหรือสิ่งตอบแทนในคําเสนอซื้อ  ทั้งนี้ ในระหว่างระยะเวลาหกเดือนนับแต่วันสิ้นสุดระยะเวลารับซื้อ  เว้นแต่เป็นการได้มาซึ่งหลักทรัพย์ที่ออกใหม่ หรือเป็นการได้มาเนื่องจากการทําคําเสนอซื้อซึ่งได้รับอนุมัติให้สามารถกระทําได้ตามมาตรา 255\n",
      "\n",
      "(2)  ดําเนินการในส่วนที่เป็นสาระสําคัญแตกต่างไปจากที่ระบุไว้ในคําเสนอซื้อเป็นระยะเวลาหนึ่งปีนับแต่วันสิ้นสุดระยะเวลารับซื้อ เว้นแต่ที่ประชุมผู้ถือหุ้นของกิจการมีมติเป็นประการอื่นด้วยคะแนนเสียงไม่น้อยกว่าสามในสี่ของจํานวนเสียงทั้งหมดของผู้ถือหุ้นซึ่งมาประชุมและมีสิทธิออกเสียง และได้แจ้งให้สํานักงานทราบแล้ว\n",
      "\n",
      "\n",
      "หมวด ๕ การทําคําเสนอซื้อหุ้นบางส่วน\n",
      "\n",
      "\\_\\_\\_\\_\\_\\_\\_\\_\\_\\_\\_\\_\\_\\_\\_\\_\\_\n",
      "\n",
      "\n",
      "ข้อ ๔๙ การทําคําเสนอซื้อหุ้นบางส่วนอันจะเป็นผลให้บุคคลใดได้มาหรือเป็นผู้ถือหุ้นของกิจการใดจนถึงจุดที่ต้องทําคําเสนอซื้อโดยได้รับยกเว้นไม่ต้องทําคําเสนอซื้อหลักทรัพย์ทั้งหมดของกิจการในภายหลัง ให้อยู่ภายใต้บังคับข้อกําหนดในหมวดนี้  รวมทั้งข้อกําหนดในหมวด 4 โดยอนุโลม เท่าที่ไม่ขัดหรือแย้งกับหมวดนี้\n",
      "\n",
      "\n",
      "ข้อ ๕๐ ให้บุคคลที่ประสงค์จะขอรับการผ่อนผันการทําคําเสนอซื้อหุ้นบางส่วนของกิจการโดยได้รับยกเว้นไม่ต้องทําคําเสนอซื้อหลักทรัพย์ทั้งหมดของกิจการในภายหลัง ยื่นคําขอผ่อนผันต่อสํานักงาน พร้อมทั้งชําระค่าธรรมเนียมตามที่กําหนดไว้ในประกาศสํานักงานคณะกรรมการกํากับหลักทรัพย์และตลาดหลักทรัพย์ว่าด้วยการกําหนดค่าธรรมเนียมการยื่นแบบแสดงรายการข้อมูล การจดทะเบียน และการยื่นคําขอต่าง ๆ\n",
      "\n",
      "คําขอผ่อนผันทําคําเสนอซื้อหุ้นบางส่วนของกิจการจะได้รับอนุมัติจากสํานักงานก็ต่อเมื่อผู้ยื่นคําขอสามารถแสดงและรับรองต่อสํานักงานได้ว่า\n",
      "\n",
      "(1)  เมื่อรวมจํานวนหุ้นดังต่อไปนี้ทั้งหมดแล้วจะไม่เป็นผลให้ผู้ขอผ่อนผันเป็นผู้ถือหุ้นหรือสามารถเป็นผู้ถือหุ้นที่มีสิทธิออกเสียงตั้งแต่ร้อยละห้าสิบขึ้นไปของสิทธิออกเสียงทั้งหมดของกิจการ \n",
      "\n",
      "      (ก)  หุ้นทุกประเภทที่ผู้ขอผ่อนผันและบุคคลตามมาตรา 258 ของผู้ขอผ่อนผันถืออยู่เดิมก่อนการขอผ่อนผัน \n",
      "\n",
      "      (ข)  หุ้นที่จะได้จากการใช้สิทธิซื้อหรือแปลงสภาพตามหลักทรัพย์แปลงสภาพที่ผู้ขอผ่อนผันและบุคคลตามมาตรา 258 ของผู้ขอผ่อนผัน ถืออยู่เดิมก่อนการขอผ่อนผัน\n",
      "\n",
      "      (ค) หุ้นที่ผู้ขอผ่อนผันประสงค์จะได้มาโดยการทําคําเสนอซื้อบางส่วน\n",
      "\n",
      "(2)  ที่ประชุมผู้ถือหุ้นของกิจการมีมติยินยอมให้ผู้ขอผ่อนผันทําคําเสนอซื้อหุ้นบางส่วนของกิจการได้ ด้วยคะแนนเสียงไม่น้อยกว่ากึ่งหนึ่งของจํานวนเสียงทั้งหมดของผู้ถือหุ้นซึ่งมาประชุมและมีสิทธิออกเสียงลงคะแนน โดยหนังสือเชิญประชุมผู้ถือหุ้นต้องระบุข้อมูลดังต่อไปนี้ไว้อย่างชัดเจน\n",
      "\n",
      "      (ก)  รายละเอียดเกี่ยวกับผู้ที่ประสงค์จะได้หุ้นมา รวมทั้งจํานวนหุ้นและสิทธิออกเสียงของบุคคลดังกล่าวและบุคคลตามมาตรา 258 ของบุคคลดังกล่าว ทั้งก่อนและหลังการทําคําเสนอซื้อบางส่วน\n",
      "\n",
      "      (ข)  รายละเอียดของหุ้นที่ประสงค์จะเสนอซื้อ\n",
      "\n",
      "      (ค)  วัตถุประสงค์ของการเพิ่มสัดส่วนการถือหุ้นในกิจการ และผลกระทบต่อกิจการและผู้ถือหุ้นจากการดําเนินการดังกล่าว \n",
      "\n",
      "(3) ในการขอมติที่ประชุมผู้ถือหุ้นเพื่อทําคําเสนอซื้อหุ้นบางส่วนของกิจการ ผู้ขอผ่อนผันและบุคคลตามมาตรา 258 ของผู้ขอผ่อนผันไม่ได้ใช้สิทธิออกเสียงลงคะแนนในเรื่องดังกล่าว\n",
      "\n",
      "(4)  ในระหว่างระยะเวลาหกเดือนก่อนวันที่ยื่นคําเสนอซื้อต่อสํานักงานผู้ขอผ่อนผันและบุคคลตามมาตรา 258 ของผู้ขอผ่อนผันมีหรือจะมีการได้มาซึ่งหุ้นประเภทที่ขอผ่อนผันไม่เกินหลักเกณฑ์ดังต่อไปนี้\n",
      "\n",
      "      (ก) จํานวนหุ้นที่ได้มาจากบุคคลใดบุคคลหนึ่งเป็นการเฉพาะ ไม่ว่าครั้งเดียวหรือหลายครั้งรวมกัน ไม่เกินกว่าร้อยละห้าของจํานวนหุ้นที่จะเสนอซื้อตามคําเสนอซื้อบางส่วน และ\n",
      "\n",
      "      (ข) สิทธิออกเสียงจากหุ้นและหุ้นที่จะได้มาจากการใช้สิทธิซื้อหรือแปลงสภาพ\n",
      "\n",
      "ตามหลักทรัพย์แปลงสภาพที่ได้มาในระหว่างระยะเวลาดังกล่าว เมื่อรวมกันแล้วไม่เกินกว่าร้อยละยี่สิบของสิทธิออกเสียงทั้งหมดของจํานวนหุ้นที่จะเสนอซื้อตามคําเสนอซื้อบางส่วน \n",
      "\n",
      "ในการพิจารณาตามวรรคหนึ่ง มิให้นับหุ้นจํานวนที่ได้มาโดยเข้ากรณียกเว้นตามข้อ 9 ในฐานการคํานวณ \n",
      "\n",
      "\n",
      "ข้อ ๕๑ ผู้ที่ได้รับการผ่อนผันให้ทําคําเสนอซื้อหุ้นบางส่วนต้องดําเนินการภายใต้หลักเกณฑ์ดังต่อไปนี้\n",
      "\n",
      "(1)  จํานวนหุ้นที่เสนอซื้อต้องไม่ต่ํากว่าร้อยละสิบของจํานวนหุ้นในประเภทนั้นที่จําหน่ายได้แล้วทั้งหมดหลังหักหุ้นที่กิจการซื้อคืนและยังคงค้างอยู่ ณ วันสิ้นเดือนของเดือนก่อนเดือนที่มีการยื่นคําเสนอซื้อต่อสํานักงาน\n",
      "\n",
      "(2)  ในกรณีที่ผู้ได้รับการผ่อนผันหรือบุคคลตามมาตรา 258 ของผู้ได้รับการผ่อนผันมีการได้มาซึ่งหุ้นประเภทใดในระหว่างระยะเวลาหกเดือนก่อนวันที่ยื่นคําเสนอซื้อต่อสํานักงาน ผู้ได้รับการผ่อนผันต้องเสนอซื้อหุ้นประเภทนั้นในคําเสนอซื้อหุ้นบางส่วนด้วย\n",
      "\n",
      "(3)  ในการยื่นคําเสนอซื้อต่อสํานักงาน ผู้ได้รับการผ่อนผันต้องยื่นหนังสือแสดงที่มา จํานวน และสิทธิออกเสียงของหุ้นและหุ้นที่จะได้มาจากการใช้สิทธิซื้อหรือแปลงสภาพตามหลักทรัพย์แปลงสภาพที่ผู้ได้รับการผ่อนผันและบุคคลตามมาตรา 258 ของผู้ได้รับการผ่อนผัน ได้มาในระหว่างระยะเวลาหกเดือนก่อนวันที่ยื่นคําเสนอซื้อต่อสํานักงานด้วย\n",
      "\n",
      "ในกรณีที่ปรากฏต่อสํานักงานว่า ผู้ได้รับการผ่อนผันมิได้ปฏิบัติให้เป็นไปตามหลักเกณฑ์ที่กําหนดไว้ในหมวดนี้ ให้การผ่อนผันเป็นอันเพิกถอนไป \n",
      "\n",
      "\n",
      "ข้อ ๕๒ ผู้ทําคําเสนอซื้อจะซื้อหุ้นเกินจํานวนสูงสุดที่ระบุในคําเสนอซื้อมิได้ แม้จะมีผู้แสดงเจตนาขายหุ้นประเภทที่เสนอซื้อมากกว่าจํานวนสูงสุดที่เสนอซื้อก็ตาม  ทั้งนี้ ให้ผู้ทําคําเสนอซื้อระบุข้อกําหนดดังกล่าวไว้ให้ชัดเจนในคําเสนอซื้อด้วย \n",
      "\n",
      "ในกรณีที่มีผู้แสดงเจตนาขายหุ้นประเภทที่เสนอซื้อมากกว่าจํานวนสูงสุดที่เสนอซื้อ ให้ผู้ทําคําเสนอซื้อใช้วิธีจัดสรรตามสัดส่วนของจํานวนหุ้นแต่ละประเภทที่มีผู้แสดงเจตนาขาย (pro-rate)  และภายใต้บังคับความในวรรคหนึ่ง ผู้ทําคําเสนอซื้อจะปรับปรุงจํานวนการรับซื้อจากผู้แสดงเจตนาขายแต่ละรายภายหลังจากการจัดสรรตามสัดส่วน เพื่อมิให้จํานวนหลักทรัพย์ที่ผู้ถือหลักทรัพย์ไม่สามารถขายให้แก่ผู้ทําคําเสนอซื้อมีลักษณะเป็นหน่วยย่อยของการซื้อขาย (odd-lot) ก็ได้  ทั้งนี้ หลักทรัพย์ที่ซื้อจากการทําคําเสนอซื้อบางส่วนต้องมิใช่หลักทรัพย์ของบุคคลตามมาตรา 258 ของผู้ทําคําเสนอซื้อ\n",
      "\n",
      "\n",
      "ข้อ ๕๓ ห้ามมิให้ผู้ทําคําเสนอซื้อที่ได้รับการผ่อนผันให้ทําคําเสนอซื้อหุ้นบางส่วนของกิจการตามหมวดนี้  ซื้อหรือกระทําการอื่นใดในระหว่างระยะเวลาหกเดือนนับแต่วันสิ้นสุด  \n",
      "ระยะเวลารับซื้อ อันเป็นผลให้ได้หุ้นของกิจการเพิ่มขึ้น  เว้นแต่เป็นการได้มาในกรณีใดกรณีหนึ่งดังต่อไปนี้\n",
      "\n",
      "(1) การได้มาโดยเข้ากรณีที่ได้รับยกเว้นการทําคําเสนอซื้อตามข้อ 9 \n",
      "\n",
      "(2)  การซื้อหุ้นที่ออกใหม่\n",
      "\n",
      "(3) การได้มาในลักษณะอื่นใดที่สํานักงานพิจารณาเห็นว่ามีเหตุจําเป็นและสมควร และมิได้ขัดต่อเจตนารมณ์ของข้อกําหนดนี้\n",
      "\n",
      "\n",
      "หมวด ๖ การทําคําเสนอซื้อเพื่อเพิกถอนหลักทรัพย์\n",
      "\n",
      "\\_\\_\\_\\_\\_\\_\\_\\_\\_\\_\\_\\_\\_\\_\\_\\_\n",
      "\n",
      "\n",
      "ข้อ ๕๔ การทําคําเสนอซื้อหลักทรัพย์ตามข้อบังคับตลาดหลักทรัพย์แห่งประเทศไทยว่าด้วยการเพิกถอนหุ้นออกจากการเป็นหลักทรัพย์จดทะเบียนในตลาดหลักทรัพย์ ให้เป็นไปตามข้อกําหนดในหมวดนี้ รวมทั้งข้อกําหนดในหมวด 4 โดยอนุโลม เท่าที่ไม่ขัดหรือแย้งกับหมวดนี้ \n",
      "\n",
      "\n",
      "ข้อ ๕๕  ผู้ทําคําเสนอซื้อตามหมวดนี้ ต้องกําหนดราคาเสนอซื้ออย่างน้อยหนึ่งทางเลือกเป็นตัวเงิน เว้นแต่การทําคําเสนอซื้อหลักทรัพย์นั้นเป็นไปเพื่อปรับโครงสร้างการถือหุ้นของบริษัทจดทะเบียนตามประกาศคณะกรรมการกํากับตลาดทุนว่าด้วยหลักเกณฑ์เกี่ยวกับการเสนอขายหลักทรัพย์ที่ออกใหม่พร้อมกับการทําคําเสนอซื้อหลักทรัพย์เดิมของบริษัทจดทะเบียนเพื่อปรับโครงสร้างการถือหุ้นและการจัดการ\n",
      "\n",
      "\n",
      "ข้อ ๕๖ ราคาเสนอซื้อหุ้นตามคําเสนอซื้อในหมวดนี้ ต้องไม่ต่ํากว่าราคาสูงสุดของราคาที่คํานวณตามหลักเกณฑ์ดังต่อไปนี้\n",
      "\n",
      "(1)  ราคาสูงสุดที่ผู้ทําคําเสนอซื้อหรือบุคคลตามมาตรา 258 ของผู้ทําคําเสนอซื้อ ได้หุ้นสามัญหรือหุ้นบุริมสิทธินั้นมาในระหว่างระยะเวลาเก้าสิบวันก่อนวันที่ยื่นคําเสนอซื้อต่อสํานักงาน\n",
      "\n",
      "(2)  ราคาตลาดถัวเฉลี่ยถ่วงน้ําหนักของหุ้นนั้นในระหว่างห้าวันทําการก่อนวันที่คณะกรรมการของกิจการมีมติเพื่อเสนอให้ที่ประชุมผู้ถือหุ้นพิจารณาการเพิกถอนหุ้น หรือวันที่ที่ประชุมผู้ถือหุ้นของกิจการมีมติให้เพิกถอนหุ้นออกจากการเป็นหลักทรัพย์จดทะเบียนในตลาดหลักทรัพย์ แล้วแต่วันใดจะเกิดก่อน\n",
      "\n",
      "(3)  มูลค่าสินทรัพย์สุทธิของกิจการ โดยคํานวณจากมูลค่าทางบัญชีที่ปรับปรุงให้สะท้อนราคาตลาดล่าสุดของสินทรัพย์และหนี้สินของกิจการนั้นแล้ว และ\n",
      "\n",
      "(4) มูลค่ายุติธรรมของหุ้นสามัญหรือหุ้นบุริมสิทธิของกิจการซึ่งประเมินโดยที่ปรึกษาทางการเงิ\n",
      "\n",
      "\n",
      "ข้อ ๕๗ ผู้ทําคําเสนอซื้อตามหมวดนี้ หากประสงค์จะลดราคาเสนอซื้อเนื่องจากเกิดเหตุการณ์ร้ายแรงต่อกิจการตามข้อ 45(1) ต้องยื่นคําขอความเห็นชอบต่อคณะอนุกรรมการวินิจฉัยการเข้าถือหลักทรัพย์เพื่อครอบงํากิจการผ่านสํานักงาน และผู้ทําคําเสนอซื้อจะลดราคาเสนอซื้อได้ต่อเมื่อได้รับความเห็นชอบจากคณะอนุกรรมการดังกล่าวแล้ว   ทั้งนี้ ผู้ทําคําเสนอซื้อต้องจัดให้มีที่ปรึกษาทางการเงินแสดงความเห็นต่อราคาเสนอซื้อใหม่ดังกล่าวเพื่อเสนอประกอบการพิจารณาของคณะอนุกรรมการวินิจฉัยการเข้าถือหลักทรัพย์เพื่อครอบงํากิจการด้วย\n",
      "\n",
      "\n",
      "ข้อ ๕๘ ผู้ทําคําเสนอซื้อตามหมวดนี้ อาจยกเลิกคําเสนอซื้อได้ในกรณีใดกรณีหนึ่งดังต่อไปนี้\n",
      "\n",
      "(1)  มีเหตุการณ์หรือการกระทําใด ๆ เกิดขึ้นภายหลังจากยื่นคําเสนอซื้อต่อสํานักงานและยังไม่พ้นระยะเวลารับซื้อ อันเป็นเหตุหรืออาจเป็นเหตุให้เกิดความเสียหายอย่างร้ายแรงต่อฐานะหรือทรัพย์สินของกิจการที่ถูกเสนอซื้อ โดยเหตุการณ์หรือการกระทําดังกล่าวมิได้เกิดจากการกระทําของผู้ทําคําเสนอซื้อหรือการกระทําที่ผู้ทําคําเสนอซื้อต้องรับผิดชอบ\n",
      "\n",
      "(2)  มีเหตุการณ์อื่นใดที่ทําให้การขอเพิกถอนหุ้นออกจากการเป็นหลักทรัพย์จดทะเบียนในตลาดหลักทรัพย์ระงับไป\n",
      "\n",
      "การใช้สิทธิยกเลิกคําเสนอซื้อตามวรรคหนึ่งจะกระทําได้ต่อเมื่อผู้ทําคําเสนอซื้อได้ระบุเหตุแห่งการใช้สิทธิดังกล่าวไว้อย่างชัดเจนแล้วในคําเสนอซื้อ และเมื่อเกิดเหตุแห่งการใช้สิทธินั้นผู้ทําคําเสนอซื้อได้แจ้งข้อเท็จจริงดังกล่าวให้สํานักงานทราบ และสํานักงานมิได้แจ้งทักท้วงเหตุแห่งการยกเลิกดังกล่าวต่อผู้ทําคําเสนอซื้อภายในสามวันทําการนับแต่วันที่สํานักงานได้รับแจ้งเหตุนั้น \n",
      "\n",
      "\n",
      "หมวด ๗ อื่น ๆ\n",
      "\n",
      "\\_\\_\\_\\_\\_\\_\\_\\_\\_\\_\n",
      "\n",
      "\n",
      "ข้อ ๕๙ ให้ผู้ทําคําเสนอซื้อสามารถทําคําเสนอซื้อหลักทรัพย์ได้อีกแม้จะไม่พ้นระยะเวลาหนึ่งปีนับแต่วันสิ้นสุดระยะเวลารับซื้อที่กําหนดไว้ในคําเสนอซื้อหลักทรัพย์ครั้งก่อน ในกรณีที่เป็นการทําคําเสนอซื้อหลักทรัพย์เพื่อให้เป็นไปตามข้อบังคับตลาดหลักทรัพย์แห่งประเทศไทยว่าด้วยการเพิกถอนหุ้นออกจากการเป็นหลักทรัพย์จดทะเบียนในตลาดหลักทรัพย์   ทั้งนี้ เฉพาะกรณีที่ผู้ทําคําเสนอซื้อได้ระบุไว้อย่างชัดเจนในคําเสนอซื้อหลักทรัพย์ครั้งก่อนว่าผู้ทําคําเสนอซื้อมีความประสงค์จะเพิกถอนหุ้นจากการเป็นหลักทรัพย์จดทะเบียน      \n",
      "\n",
      "\n",
      "ข้อ ๖๐ ในกรณีที่ปรากฏว่าคําเสนอซื้อมีข้อมูลไม่เป็นไปตามที่กําหนดในข้อ 19 ให้ผู้ทําคําเสนอซื้อและผู้จัดเตรียมคําเสนอซื้อแก้ไขหรือเพิ่มเติมข้อมูล เพื่อให้เป็นไปตามที่กําหนดในข้อ 19  ในการนี้ สํานักงานอาจสั่งการให้ผู้ทําคําเสนอซื้อดําเนินการเผยแพร่ข้อมูลดังกล่าวไปยังบุคคลที่เกี่ยวข้องภายในระยะเวลาและตามวิธีการที่กําหนด และในกรณีที่มีเหตุอันสมควร สํานักงานอาจสั่งการให้ผู้ทําคําเสนอซื้อขยายระยะเวลารับซื้อหลักทรัพย์หรือขยายระยะเวลาที่ยินยอมให้ผู้แสดงเจตนาขายหลักทรัพย์ยกเลิกการแสดงเจตนาด้วยก็ได้\n",
      "\n",
      "\n",
      "ข้อ ๖๑ นอกจากที่ได้กําหนดไว้เป็นการเฉพาะในประกาศนี้ ให้คณะอนุกรรมการวินิจฉัยการเข้าถือหลักทรัพย์เพื่อครอบงํากิจการมีอํานาจวินิจฉัยในเรื่องดังต่อไปนี้  และมีอํานาจสั่งให้หยุดการนับระยะเวลารับซื้อหลักทรัพย์ตามคําเสนอซื้อนั้นไว้เป็นการชั่วคราวจนกว่าผลการพิจารณจะแล้วเสร็จก็ได้ \n",
      "\n",
      "(1)  กรณีที่มีข้อสงสัยว่าราคาเสนอซื้อหลักทรัพย์ตามคําเสนอซื้อใดเป็นไปตามหลักเกณฑ์ที่กําหนดตามประกาศนี้หรือไม่ \n",
      "\n",
      "(2)  กรณีที่ผู้ทําคําเสนอซื้อเพื่อเพิกถอนหลักทรัพย์ตามหมวด 6 ประสงค์จะลดราคาเสนอซื้อ เนื่องจากเกิดเหตุการณ์ร้ายแรงต่อกิจการตามข้อ 45(1)\n",
      "\n",
      "\n",
      "ข้อ ๖๒ แบบรายงานที่ต้องยื่นต่อสํานักงานตามที่กําหนดไว้ในประกาศนี้ ให้มีรูปแบบและรายละเอียดตามที่สํานักงานประกาศกําหนด\n",
      "\n",
      "\n",
      "ข้อ ๖๓ ให้บุคคลที่ได้ยื่นรายงานหรือข้อมูลดังต่อไปนี้ต่อสํานักงานในรูปเอกสารสิ่งพิมพ์ ส่งรายงานหรือข้อมูลดังกล่าวต่อสํานักงานในรูปข้อมูลอิเล็กทรอนิกส์ผ่านระบบการรับส่งข้อมูลอิเล็กทรอนิกส์ตามที่กําหนดไว้บนเว็บไซต์ของสํานักงานด้วย\n",
      "\n",
      "1.การประกาศเจตนาในการเข้าถือหลักทรัพย์เพื่อครอบงํากิจการ ตามแบบ 247-3\n",
      "\n",
      "2.การยื่นคําเสนอซื้อหลักทรัพย์ ตามแบบ 247-4\n",
      "\n",
      "3.การประกาศปฏิเสธการทําคําเสนอซื้อหลักทรัพย์ ตามแบบ 247-5\n",
      "\n",
      "4.การประกาศขยายระยะเวลารับซื้อ การประกาศแก้ไขข้อเสนอในคําเสนอซื้อหลักทรัพย์ การประกาศข้อเสนอสุดท้าย หรือการประกาศระยะเวลารับซื้อสุดท้าย ตามแบบ 247-6-ก\n",
      "\n",
      "5.การรายงานผลการเสนอซื้อหลักทรัพย์เบื้องต้น ตามแบบ 247-6-ข\n",
      "\n",
      "6.การรายงานผลการซื้อหลักทรัพย์ ตามแบบ 256-2\n",
      "\n",
      "7.การแจ้งยกเลิกคําเสนอซื้อหลักทรัพย์ ตามข้อ 47(1)\n",
      "\n",
      "รายงานหรือข้อมูลที่ยื่นต่อสํานักงานทั้งในรูปเอกสารสิ่งพิมพ์และข้อมูลอิเล็กทรอนิกส์ต้องมีข้อความถูกต้องตรงกัน และต้องไม่มีการแสดงข้อความอันเป็นเท็จในสาระสําคัญ หรือปกปิดข้อความจริงอันเป็นสาระสําคัญที่ควรบอกให้แจ้ง\n",
      "\n",
      "\n",
      "หมวด ๘ บทเฉพาะกาลและวันมีผลใช้บังคับของประกาศ\n",
      "\n",
      "\\_\\_\\_\\_\\_\\_\\_\\_\\_\\_\\_\\_\n",
      "\n",
      "\n",
      "ข้อ ๖๔ ให้บรรดาประกาศสํานักงานคณะกรรมการกํากับหลักทรัพย์และตลาดหลักทรัพย์ คําสั่ง และหนังสือเวียน ที่ออกหรือวางแนวปฏิบัติตามประกาศคณะกรรมการกํากับหลักทรัพย์และตลาดหลักทรัพย์ ที่ กก. 4/2538  เรื่อง หลักเกณฑ์ เงื่อนไข และวิธีการในการเข้าถือหลักทรัพย์เพื่อครอบงํากิจการ ลงวันที่ 6 มีนาคม พ.ศ. 2538 และประกาศคณะกรรมการกํากับหลักทรัพย์และตลาดหลักทรัพย์ ที่ กจ. 53/2545  เรื่อง หลักเกณฑ์ เงื่อนไข และวิธีการในการเข้าถือหลักทรัพย์เพื่อครอบงํากิจการ ลงวันที่ 18 พฤศจิกายน พ.ศ. 2545  ซึ่งใช้บังคับอยู่ในวันก่อนที่ประกาศนี้ใช้บังคับ ยังคงใช้บังคับได้ต่อไปเท่าที่ไม่ขัดหรือแย้งกับข้อกําหนดแห่งประกาศนี้ จนกว่าจะได้มีประกาศ คําสั่ง และหนังสือเวียนที่ออกหรือวางแนวปฏิบัติตามประกาศนี้ใช้บังคับ\n",
      "\n",
      "\n",
      "ข้อ ๖๕ ในกรณีที่มีประกาศฉบับอื่นใดอ้างอิงประกาศคณะกรรมการกํากับหลักทรัพย์และตลาดหลักทรัพย์ ที่ กก. 4/2538  เรื่อง หลักเกณฑ์ เงื่อนไข และวิธีการในการเข้าถือหลักทรัพย์เพื่อครอบงํากิจการ ลงวันที่ 6 มีนาคม พ.ศ. 2538 และประกาศคณะกรรมการกํากับหลักทรัพย์และตลาดหลักทรัพย์ ที่ กจ. 53/2545  เรื่อง หลักเกณฑ์ เงื่อนไข และวิธีการในการเข้าถือหลักทรัพย์เพื่อครอบงํากิจการ ลงวันที่ 18 พฤศจิกายน พ.ศ. 2545  ให้การอ้างอิงดังกล่าวหมายถึงการอ้างอิงประกาศฉบับนี้\n",
      "\n",
      "\n",
      "ข้อ ๖๖ ประกาศนี้ให้ใช้บังคับตั้งแต่วันที่    1 มิถุนายน พ.ศ. 2554 เป็นต้นไป\n",
      "\n",
      "\n",
      "ผู้มีอํานาจลงนาม -          ประกาศ  ณ  วันที่ 13 พฤษภาคม พ.ศ. 2554\n",
      "\n",
      " \n",
      "\n",
      "                                                                      (นายธีระชัย  ภูวนาถนรานุบาล)\n",
      "\n",
      "                                                                                        เลขาธิการ\n",
      "\n",
      "                                       สํานักงานคณะกรรมการกํากับหลักทรัพย์และตลาดหลักทรัพย์\n",
      "\n",
      "                                                                                   ประธานกรรมการ      \n",
      "\n",
      "                                                                              คณะกรรมการกํากับตลาดทุน\n",
      "\n",
      "\n",
      "หมายเหตุ - : เหตุผลในการออกประกาศฉบับนี้ คือ  เพื่อปรับปรุงข้อกําหนดเกี่ยวกับการประกาศต่อสาธารณชน การยกเว้นการทําคําเสนอซื้อหลักทรัพย์ทั้งหมดของกิจการในกรณีลดสัดส่วนการถือหุ้นในกิจการให้ต่ํากว่าจุดที่ต้องทําคําเสนอซื้อหลักทรัพย์ และข้อบังคับหลังการทําคําเสนอซื้อหลักทรัพย์ รวมทั้งปรับรูปแบบและถ้อยคําให้มีความเหมาะสมและสอดคล้องกับพระราชบัญญัติหลักทรัพย์และตลาดหลักทรัพย์ พ.ศ. 2535 และประกาศฉบับอื่น  จึงจําเป็นต้องออกประกาศนี้\n"
     ]
    }
   ],
   "source": [
    "for i in range(1):\n",
    "    print(f\"{(dataset[i])['title']}\\n\\n\")\n",
    "    print(dataset[i]['text'])"
   ]
  },
  {
   "cell_type": "code",
   "execution_count": 19,
   "metadata": {},
   "outputs": [
    {
     "data": {
      "text/html": [
       "<div>\n",
       "<style scoped>\n",
       "    .dataframe tbody tr th:only-of-type {\n",
       "        vertical-align: middle;\n",
       "    }\n",
       "\n",
       "    .dataframe tbody tr th {\n",
       "        vertical-align: top;\n",
       "    }\n",
       "\n",
       "    .dataframe thead th {\n",
       "        text-align: right;\n",
       "    }\n",
       "</style>\n",
       "<table border=\"1\" class=\"dataframe\">\n",
       "  <thead>\n",
       "    <tr style=\"text-align: right;\">\n",
       "      <th></th>\n",
       "      <th>title</th>\n",
       "      <th>text</th>\n",
       "      <th>__index_level_0__</th>\n",
       "    </tr>\n",
       "  </thead>\n",
       "  <tbody>\n",
       "    <tr>\n",
       "      <th>0</th>\n",
       "      <td>ประกาศคณะกรรมการกำกับตลาดทุน ที่ ทจ. 12/2554 เ...</td>\n",
       "      <td>ประกาศคณะกรรมการกํากับตลาดทุน\\n\\nที่ ทจ.  12 /...</td>\n",
       "      <td>0</td>\n",
       "    </tr>\n",
       "    <tr>\n",
       "      <th>1</th>\n",
       "      <td>ประกาศคณะกรรมการกำกับตลาดทุน ที่ ทจ. 31/2554 เ...</td>\n",
       "      <td>ประกาศคณะกรรมการกํากับตลาดทุน\\n\\nที่ ทจ. 31 /2...</td>\n",
       "      <td>1</td>\n",
       "    </tr>\n",
       "    <tr>\n",
       "      <th>2</th>\n",
       "      <td>ประกาศคณะกรรมการกำกับตลาดทุน ที่ ทก. 50/2559 เ...</td>\n",
       "      <td>ประกาศคณะกรรมการกํากับตลาดทุน\\n\\nที่ ทก. 50/25...</td>\n",
       "      <td>2</td>\n",
       "    </tr>\n",
       "  </tbody>\n",
       "</table>\n",
       "</div>"
      ],
      "text/plain": [
       "                                               title  \\\n",
       "0  ประกาศคณะกรรมการกำกับตลาดทุน ที่ ทจ. 12/2554 เ...   \n",
       "1  ประกาศคณะกรรมการกำกับตลาดทุน ที่ ทจ. 31/2554 เ...   \n",
       "2  ประกาศคณะกรรมการกำกับตลาดทุน ที่ ทก. 50/2559 เ...   \n",
       "\n",
       "                                                text  __index_level_0__  \n",
       "0  ประกาศคณะกรรมการกํากับตลาดทุน\\n\\nที่ ทจ.  12 /...                  0  \n",
       "1  ประกาศคณะกรรมการกํากับตลาดทุน\\n\\nที่ ทจ. 31 /2...                  1  \n",
       "2  ประกาศคณะกรรมการกํากับตลาดทุน\\n\\nที่ ทก. 50/25...                  2  "
      ]
     },
     "execution_count": 19,
     "metadata": {},
     "output_type": "execute_result"
    }
   ],
   "source": [
    "df_pandas = dataset.to_pandas()\n",
    "df_pandas.head(3)"
   ]
  },
  {
   "cell_type": "code",
   "execution_count": 24,
   "metadata": {},
   "outputs": [
    {
     "data": {
      "text/plain": [
       "['ประกาศคณะกรรมการกำกับหลักทรัพย์และตลาดหลักทรัพย์\\nที่ กธ. ๒๐/๒๕๖๖ เรื่อง การกำหนดลักษณะการให้คำแนะนำแก่ประชาชน ที่ไม่ถือเป็นการประกอบธุรกิจหลักทรัพย์\\nประเภทการเป็นที่ปรึกษาการลงทุน (ฉบับที่  ๖)\\n',\n",
       " 'ประกาศคณะกรรมการ ก.ล.ต. ที่ กธ. 19/2561 เรื่อง หลักเกณฑ์ เงื่อนไข และวิธีการประกอบธุรกิจสินทรัพย์ดิจิทัล',\n",
       " 'ประกาศคณะกรรมการ ก.ล.ต. ที่ กธ. 8/2562 เรื่อง หลักเกณฑ์ เงื่อนไข และวิธีการประกอบธุรกิจสินทรัพย์ดิจิทัล (ฉบับที่ 2)',\n",
       " 'ประกาศคณะกรรมการ ก.ล.ต. ที่ กธ. 26/2562 เรื่อง หลักเกณฑ์ เงื่อนไข และวิธีการประกอบธุรกิจสินทรัพย์ดิจิทัล (ฉบับที่ 3 )',\n",
       " 'ประกาศคณะกรรมการ ก.ล.ต. ที่ กธ. 12/2563 เรื่อง หลักเกณฑ์ เงื่อนไข และวิธีการประกอบธุรกิจสินทรัพย์ดิจิทัล (ฉบับที่ 4)']"
      ]
     },
     "execution_count": 24,
     "metadata": {},
     "output_type": "execute_result"
    }
   ],
   "source": [
    "dataset['title'][85:90]"
   ]
  },
  {
   "cell_type": "code",
   "execution_count": 4,
   "metadata": {},
   "outputs": [],
   "source": [
    "from sentence_transformers import SentenceTransformer, util\n",
    "\n",
    "model_e5 = 'intfloat/multilingual-e5-large'\n",
    "model_mpnet = \"sentence-transformers/paraphrase-multilingual-mpnet-base-v2\"\n",
    "model = SentenceTransformer(model_e5)\n",
    "\n",
    "# Two lists of sentences\n",
    "sentences1 = [\n",
    "    \"เงื่อนไขการรับเงินบาทดิจิทัล\"\n",
    "]\n",
    "\n",
    "sentences2 = dataset['text']\n",
    "\n",
    "# Compute embedding for both lists\n",
    "embeddings1 = model.encode(sentences1, convert_to_tensor=True)\n",
    "embeddings2 = model.encode(sentences2, convert_to_tensor=True)\n",
    "\n",
    "# Compute cosine-similarities\n",
    "cosine_scores = util.cos_sim(embeddings1, embeddings2)\n",
    "\n",
    "### Take time too long ...ABORT... mission"
   ]
  }
 ],
 "metadata": {
  "kernelspec": {
   "display_name": "Python 3",
   "language": "python",
   "name": "python3"
  },
  "language_info": {
   "codemirror_mode": {
    "name": "ipython",
    "version": 3
   },
   "file_extension": ".py",
   "mimetype": "text/x-python",
   "name": "python",
   "nbconvert_exporter": "python",
   "pygments_lexer": "ipython3",
   "version": "3.10.9"
  }
 },
 "nbformat": 4,
 "nbformat_minor": 2
}
